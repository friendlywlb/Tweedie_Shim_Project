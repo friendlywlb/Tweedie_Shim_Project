{
 "cells": [
  {
   "cell_type": "code",
   "execution_count": 1,
   "metadata": {},
   "outputs": [
    {
     "name": "stderr",
     "output_type": "stream",
     "text": [
      "Loading required package: coda\n",
      "\n",
      "Loading required package: Matrix\n",
      "\n",
      "Loading required package: splines\n",
      "\n",
      "Loading required package: lattice\n",
      "\n",
      "Loaded TDboost 1.2\n",
      "\n",
      "\n",
      "Loading required package: nlme\n",
      "\n",
      "\n",
      "Attaching package: 'nlme'\n",
      "\n",
      "\n",
      "The following objects are masked from 'package:cplm':\n",
      "\n",
      "    fixef, ranef, VarCorr\n",
      "\n",
      "\n",
      "This is mgcv 1.8-38. For overview type 'help(\"mgcv-package\")'.\n",
      "\n",
      "Loaded glmnet 4.1-2\n",
      "\n"
     ]
    }
   ],
   "source": [
    "library(fastDummies)\n",
    "library(cplm)\n",
    "library(tweedie)\n",
    "library(statmod)\n",
    "library(TDboost)\n",
    "library(mgcv)\n",
    "library(MASS)\n",
    "library(glmnet)\n",
    "source(\"S_U2.R\")\n",
    "options(warn=-1)"
   ]
  },
  {
   "cell_type": "code",
   "execution_count": 2,
   "metadata": {},
   "outputs": [],
   "source": [
    "D_beta<-matrix(nrow=16,ncol=100)\n",
    "A_beta<-matrix(nrow=16,ncol=100)\n",
    "LASSO_beta<-matrix(nrow=16,ncol=100)\n",
    "B_beta<-matrix(nrow=16,ncol=100)\n",
    "nc=1"
   ]
  },
  {
   "cell_type": "code",
   "execution_count": 3,
   "metadata": {},
   "outputs": [],
   "source": [
    "while(nc<=100){\n",
    "    x<-matrix( rnorm(1000*10,mean=0,sd=1),1000, 5) \n",
    "    colnames(x)=c('x1','x2','x3','x4','x5')\n",
    "    X<-as.data.frame(x)\n",
    "    b_t<-c(0.3,0.8,0.8,0.8,0,0)\n",
    "    design_x <- model.matrix(~.,data=X)\n",
    "    mu<-exp(design_x%*%b_t)\n",
    "    y_sim<- rTweedie(mu,p=1.5,phi=5)\n",
    "    dd<-as.data.frame(cbind(design_x[,2:6],y_sim))\n",
    "    sam <- sample(rep(1:2,len=1000))\n",
    "    sim_train<-dd[sam==1,]\n",
    "    sim_test<-dd[sam==2,]\n",
    "    sim_train<-as.data.frame(sim_train)\n",
    "    sim_test<-as.data.frame(sim_test)\n",
    "    colnames(sim_train)[6]='y'\n",
    "    colnames(sim_test)[6]='y'\n",
    "    fit_0<-glm(y~.^2,data=sim_train,family=tweedie(link.power=0,var.power=1.5),control=list(maxit=500))\n",
    "    beta_0_t<-c(fit_0$coefficients[1:6])\n",
    "    index=combn(c(1:5),2)\n",
    "    int_coef<-fit_0$coefficients[-(1:6)]\n",
    "    r_0_t<-c()\n",
    "    for (i in 1:length(int_coef)){\n",
    "        tmp_coef<-int_coef[i]/(beta_0_t[index[1,i]+1]*beta_0_t[index[2,i]+1])\n",
    "        r_0_t<-c(r_0_t,tmp_coef)\n",
    "    }\n",
    "    X<-model.matrix(~.^2-1,data=sim_train[,1:5])\n",
    "    qw=cv.glmnet(x=X,y=sim_train$y,family=tweedie(link.power=0,var.power=1.5),control=list(maxit=500),nlambda=10)\n",
    "    LASSO_beta[,nc]<-coef(qw, s=qw$lambda.min)[,1]\n",
    "    as=cv.glmnet(x=X[,1:5],y=sim_train$y,family=tweedie(link.power=0,var.power=1.5),control=list(maxit=500),nlambda=10)\n",
    "    df=cv.glmnet(x=X[,-c(1:5)],y=sim_train$y,family=tweedie(link.power=0,var.power=1.5),control=list(maxit=500),nlambda=10)\n",
    "    r_lamb<-qw$lambda\n",
    "    beta_lamb<-qw$lambda\n",
    "    n_lamb<-length(beta_lamb)\n",
    "    power=1.5\n",
    "    final_result1=matrix(nrow=n_lamb,ncol=n_lamb)\n",
    "    final_result2=matrix(nrow=n_lamb,ncol=n_lamb)\n",
    "    final_result3=matrix(nrow=n_lamb,ncol=n_lamb)\n",
    "    for (i in 1:n_lamb){\n",
    "        for (j in 1:n_lamb){\n",
    "            coef_result<-shim_lasso_update_2(sim_train[,1:5],sim_train$y,power,lamb_r=r_lamb[i],lamb_b=beta_lamb[j],r_0_t,beta_0_t)\n",
    "            fitted<-ts_fitted(sim_test[,1:5],coef_result$'beta',coef_result$'r')\n",
    "            final_result1[i,j]=mean(tweedie.dev(sim_test$y,fitted,1.5))\n",
    "            fitted<-ts_fitted(sim_train[,1:5],coef_result$'beta',coef_result$'r')\n",
    "            if (is.infinite(mean(tweedie.dev(sim_train$y,fitted,1.5),na.rm=T))){\n",
    "                    final_result2[i,j]<-999999999\n",
    "                    final_result3[i,j]<-999999999\n",
    "                        }\n",
    "            else{\n",
    "                den<-dtweedie(sim_train$y,mu=fitted+0.0000001,phi=sum(tweedie.dev(sim_train$y,fitted,1.5),na.rm=T)/length(sim_train$y),power=1.5)\n",
    "                df<-length(which(r_beta(coef_result$'beta',coef_result$'r')!=0))\n",
    "                final_result2[i,j]<--2*sum( log(den))+2*(df)\n",
    "                final_result3[i,j]<--2*sum( log(den))+log(length(sim_train$y))*(df)\n",
    "                }\n",
    "    }\n",
    "        }\n",
    "    index1<-which(final_result1==min(final_result1,na.rm=T), arr.ind = TRUE)[1,]\n",
    "    index2<-which(final_result2==min(final_result2,na.rm=T), arr.ind = TRUE)[1,]\n",
    "    index3<-which(final_result3==min(final_result3,na.rm=T), arr.ind = TRUE)[1,]\n",
    "    coef_result<-shim_lasso_update_2(sim_train[,1:5],sim_train$y,power,lamb_r=r_lamb[index1[1]],lamb_b=beta_lamb[index1[2]],r_0_t,beta_0_t)\n",
    "    D_beta[,nc]<-r_beta(coef_result$beta,coef_result$r)\n",
    "    coef_result<-shim_lasso_update_2(sim_train[,1:5],sim_train$y,power,lamb_r=r_lamb[index2[1]],lamb_b=beta_lamb[index2[2]],r_0_t,beta_0_t)\n",
    "    A_beta[,nc]<-r_beta(coef_result$beta,coef_result$r)\n",
    "    coef_result<-shim_lasso_update_2(sim_train[,1:5],sim_train$y,power,lamb_r=r_lamb[index3[1]],lamb_b=beta_lamb[index3[2]],r_0_t,beta_0_t)\n",
    "    B_beta[,nc]<-r_beta(coef_result$beta,coef_result$r)\n",
    "    nc=nc+1\n",
    "}"
   ]
  },
  {
   "cell_type": "code",
   "execution_count": 51,
   "metadata": {},
   "outputs": [
    {
     "data": {
      "text/html": [
       "<style>\n",
       ".list-inline {list-style: none; margin:0; padding: 0}\n",
       ".list-inline>li {display: inline-block}\n",
       ".list-inline>li:not(:last-child)::after {content: \"\\00b7\"; padding: 0 .5ex}\n",
       "</style>\n",
       "<ol class=list-inline><li>71</li><li>72</li><li>73</li><li>74</li><li>75</li><li>76</li><li>77</li><li>78</li><li>79</li><li>80</li><li>81</li><li>82</li><li>83</li><li>84</li><li>85</li><li>86</li><li>87</li><li>88</li><li>89</li><li>90</li><li>91</li><li>92</li><li>93</li><li>94</li><li>95</li><li>96</li><li>97</li><li>98</li><li>99</li><li>100</li></ol>\n"
      ],
      "text/latex": [
       "\\begin{enumerate*}\n",
       "\\item 71\n",
       "\\item 72\n",
       "\\item 73\n",
       "\\item 74\n",
       "\\item 75\n",
       "\\item 76\n",
       "\\item 77\n",
       "\\item 78\n",
       "\\item 79\n",
       "\\item 80\n",
       "\\item 81\n",
       "\\item 82\n",
       "\\item 83\n",
       "\\item 84\n",
       "\\item 85\n",
       "\\item 86\n",
       "\\item 87\n",
       "\\item 88\n",
       "\\item 89\n",
       "\\item 90\n",
       "\\item 91\n",
       "\\item 92\n",
       "\\item 93\n",
       "\\item 94\n",
       "\\item 95\n",
       "\\item 96\n",
       "\\item 97\n",
       "\\item 98\n",
       "\\item 99\n",
       "\\item 100\n",
       "\\end{enumerate*}\n"
      ],
      "text/markdown": [
       "1. 71\n",
       "2. 72\n",
       "3. 73\n",
       "4. 74\n",
       "5. 75\n",
       "6. 76\n",
       "7. 77\n",
       "8. 78\n",
       "9. 79\n",
       "10. 80\n",
       "11. 81\n",
       "12. 82\n",
       "13. 83\n",
       "14. 84\n",
       "15. 85\n",
       "16. 86\n",
       "17. 87\n",
       "18. 88\n",
       "19. 89\n",
       "20. 90\n",
       "21. 91\n",
       "22. 92\n",
       "23. 93\n",
       "24. 94\n",
       "25. 95\n",
       "26. 96\n",
       "27. 97\n",
       "28. 98\n",
       "29. 99\n",
       "30. 100\n",
       "\n",
       "\n"
      ],
      "text/plain": [
       " [1]  71  72  73  74  75  76  77  78  79  80  81  82  83  84  85  86  87  88  89\n",
       "[20]  90  91  92  93  94  95  96  97  98  99 100"
      ]
     },
     "metadata": {},
     "output_type": "display_data"
    }
   ],
   "source": [
    "which(is.na(A_beta[1,]))"
   ]
  },
  {
   "cell_type": "code",
   "execution_count": 69,
   "metadata": {},
   "outputs": [],
   "source": [
    "write.matrix(A_beta,file=\"simulation111A.csv\")\n",
    "write.matrix(D_beta,file=\"simulation111D.csv\")\n",
    "write.matrix(B_beta,file=\"simulation111B.csv\")\n",
    "write.matrix(LASSO_beta,file=\"simulation111L.csv\")"
   ]
  },
  {
   "cell_type": "code",
   "execution_count": 53,
   "metadata": {},
   "outputs": [],
   "source": [
    "D_beta_1<-read.csv(\"simulation11D1.csv\", sep=\"\",header=F)\n",
    "A_beta_1<-read.csv(\"simulation11A1.csv\", sep=\"\",header=F)\n",
    "L_beta_1<-read.csv(\"simulation11L1.csv\", sep=\"\",header=F)"
   ]
  },
  {
   "cell_type": "code",
   "execution_count": 54,
   "metadata": {},
   "outputs": [],
   "source": [
    "D_beta_2<-read.csv(\"simulation11D2.csv\", sep=\"\",header=F)\n",
    "A_beta_2<-read.csv(\"simulation11A2.csv\", sep=\"\",header=F)\n",
    "L_beta_2<-read.csv(\"simulation11L2.csv\", sep=\"\",header=F)"
   ]
  },
  {
   "cell_type": "code",
   "execution_count": 55,
   "metadata": {},
   "outputs": [],
   "source": [
    "A_beta_11<-cbind(A_beta_1,A_beta_2,A_beta[,1:70])\n",
    "D_beta_11<-cbind(D_beta_1,D_beta_2,D_beta[,1:70])\n",
    "L_beta_11<-cbind(L_beta_1,L_beta_2,LASSO_beta[,1:70])"
   ]
  },
  {
   "cell_type": "code",
   "execution_count": 56,
   "metadata": {},
   "outputs": [],
   "source": [
    "AA_beta<-A_beta_11[,1:100]\n",
    "DD_beta<-D_beta_11[,1:100]\n",
    "LL_beta<-L_beta_11[,1:100]"
   ]
  },
  {
   "cell_type": "code",
   "execution_count": 57,
   "metadata": {},
   "outputs": [],
   "source": [
    "write.matrix(AA_beta,file=\"simulation11A.csv\")\n",
    "write.matrix(DD_beta,file=\"simulation11D.csv\")\n",
    "write.matrix(LL_beta,file=\"simulation11L.csv\")"
   ]
  },
  {
   "cell_type": "code",
   "execution_count": 7,
   "metadata": {},
   "outputs": [],
   "source": [
    "check_function<-function(x){\n",
    "    xlen<-length(x)\n",
    "    return(all(x[1:4]!=0)&all(x[5:6]==0)&all(x[7:8]==0)&all(x[9:10]==0)&all(x[11]==0)&all(x[12:xlen]==0))\n",
    "}\n",
    "\n",
    "check_function2<-function(x){\n",
    "    xlen<-length(x)\n",
    "    return(all(x[1:4]!=0))\n",
    "}\n",
    "\n",
    "distance_function<-function(x,b=c(-3,1,-1,1,0,0,0,0,0,0,0,0,0,rep(0,5))){\n",
    "    return(sqrt(mean((x-b)^2)))\n",
    "}\n",
    "\n",
    "distance_function_2<-function(x,b=c(-3,1,-1,1,0,0,0,0,0,0,0,0,0,rep(0,5))){\n",
    "    return(mean(abs(x-b)))\n",
    "}"
   ]
  },
  {
   "cell_type": "code",
   "execution_count": 5,
   "metadata": {},
   "outputs": [
    {
     "data": {
      "text/html": [
       "32"
      ],
      "text/latex": [
       "32"
      ],
      "text/markdown": [
       "32"
      ],
      "text/plain": [
       "[1] 32"
      ]
     },
     "metadata": {},
     "output_type": "display_data"
    },
    {
     "data": {
      "text/html": [
       "50"
      ],
      "text/latex": [
       "50"
      ],
      "text/markdown": [
       "50"
      ],
      "text/plain": [
       "[1] 50"
      ]
     },
     "metadata": {},
     "output_type": "display_data"
    },
    {
     "data": {
      "text/html": [
       "18"
      ],
      "text/latex": [
       "18"
      ],
      "text/markdown": [
       "18"
      ],
      "text/plain": [
       "[1] 18"
      ]
     },
     "metadata": {},
     "output_type": "display_data"
    },
    {
     "data": {
      "text/html": [
       "1"
      ],
      "text/latex": [
       "1"
      ],
      "text/markdown": [
       "1"
      ],
      "text/plain": [
       "[1] 1"
      ]
     },
     "metadata": {},
     "output_type": "display_data"
    }
   ],
   "source": [
    "length(which(apply(A_beta,2,check_function)))\n",
    "length(which(apply(B_beta,2,check_function)))\n",
    "length(which(apply(D_beta,2,check_function)))\n",
    "length(which(apply(LASSO_beta,2,check_function)))"
   ]
  },
  {
   "cell_type": "code",
   "execution_count": 8,
   "metadata": {},
   "outputs": [
    {
     "data": {
      "text/html": [
       "100"
      ],
      "text/latex": [
       "100"
      ],
      "text/markdown": [
       "100"
      ],
      "text/plain": [
       "[1] 100"
      ]
     },
     "metadata": {},
     "output_type": "display_data"
    },
    {
     "data": {
      "text/html": [
       "100"
      ],
      "text/latex": [
       "100"
      ],
      "text/markdown": [
       "100"
      ],
      "text/plain": [
       "[1] 100"
      ]
     },
     "metadata": {},
     "output_type": "display_data"
    },
    {
     "data": {
      "text/html": [
       "100"
      ],
      "text/latex": [
       "100"
      ],
      "text/markdown": [
       "100"
      ],
      "text/plain": [
       "[1] 100"
      ]
     },
     "metadata": {},
     "output_type": "display_data"
    },
    {
     "data": {
      "text/html": [
       "100"
      ],
      "text/latex": [
       "100"
      ],
      "text/markdown": [
       "100"
      ],
      "text/plain": [
       "[1] 100"
      ]
     },
     "metadata": {},
     "output_type": "display_data"
    }
   ],
   "source": [
    "length(which(apply(A_beta,2,check_function2)))\n",
    "length(which(apply(B_beta,2,check_function2)))\n",
    "length(which(apply(D_beta,2,check_function2)))\n",
    "length(which(apply(LASSO_beta,2,check_function2)))"
   ]
  },
  {
   "cell_type": "code",
   "execution_count": 6,
   "metadata": {},
   "outputs": [
    {
     "data": {
      "text/html": [
       "0.37288704468149"
      ],
      "text/latex": [
       "0.37288704468149"
      ],
      "text/markdown": [
       "0.37288704468149"
      ],
      "text/plain": [
       "[1] 0.372887"
      ]
     },
     "metadata": {},
     "output_type": "display_data"
    },
    {
     "data": {
      "text/html": [
       "0.372481408712638"
      ],
      "text/latex": [
       "0.372481408712638"
      ],
      "text/markdown": [
       "0.372481408712638"
      ],
      "text/plain": [
       "[1] 0.3724814"
      ]
     },
     "metadata": {},
     "output_type": "display_data"
    },
    {
     "data": {
      "text/html": [
       "0.374128569912899"
      ],
      "text/latex": [
       "0.374128569912899"
      ],
      "text/markdown": [
       "0.374128569912899"
      ],
      "text/plain": [
       "[1] 0.3741286"
      ]
     },
     "metadata": {},
     "output_type": "display_data"
    },
    {
     "data": {
      "text/html": [
       "0.389090900272436"
      ],
      "text/latex": [
       "0.389090900272436"
      ],
      "text/markdown": [
       "0.389090900272436"
      ],
      "text/plain": [
       "[1] 0.3890909"
      ]
     },
     "metadata": {},
     "output_type": "display_data"
    }
   ],
   "source": [
    "mean(apply(A_beta,2,distance_function_2))\n",
    "mean(apply(B_beta,2,distance_function_2))\n",
    "mean(apply(D_beta,2,distance_function_2))\n",
    "mean(apply(LASSO_beta,2,distance_function_2))"
   ]
  },
  {
   "cell_type": "code",
   "execution_count": 72,
   "metadata": {},
   "outputs": [
    {
     "data": {
      "text/html": [
       "100"
      ],
      "text/latex": [
       "100"
      ],
      "text/markdown": [
       "100"
      ],
      "text/plain": [
       "[1] 100"
      ]
     },
     "metadata": {},
     "output_type": "display_data"
    },
    {
     "data": {
      "text/html": [
       "100"
      ],
      "text/latex": [
       "100"
      ],
      "text/markdown": [
       "100"
      ],
      "text/plain": [
       "[1] 100"
      ]
     },
     "metadata": {},
     "output_type": "display_data"
    },
    {
     "data": {
      "text/html": [
       "100"
      ],
      "text/latex": [
       "100"
      ],
      "text/markdown": [
       "100"
      ],
      "text/plain": [
       "[1] 100"
      ]
     },
     "metadata": {},
     "output_type": "display_data"
    }
   ],
   "source": [
    "length(which(apply(A_beta,2,check_function_2)))\n",
    "length(which(apply(D_beta,2,check_function_2)))\n",
    "length(which(apply(LASSO_beta,2,check_function_2)))"
   ]
  },
  {
   "cell_type": "code",
   "execution_count": 74,
   "metadata": {},
   "outputs": [
    {
     "data": {
      "text/html": [
       "0.906127168816635"
      ],
      "text/latex": [
       "0.906127168816635"
      ],
      "text/markdown": [
       "0.906127168816635"
      ],
      "text/plain": [
       "[1] 0.9061272"
      ]
     },
     "metadata": {},
     "output_type": "display_data"
    },
    {
     "data": {
      "text/html": [
       "0.371450345098585"
      ],
      "text/latex": [
       "0.371450345098585"
      ],
      "text/markdown": [
       "0.371450345098585"
      ],
      "text/plain": [
       "[1] 0.3714503"
      ]
     },
     "metadata": {},
     "output_type": "display_data"
    }
   ],
   "source": [
    "mean(apply(A_beta,2,distance_function))\n",
    "mean(apply(A_beta,2,distance_function_2))"
   ]
  },
  {
   "cell_type": "code",
   "execution_count": 75,
   "metadata": {},
   "outputs": [
    {
     "data": {
      "text/html": [
       "0.909685222885986"
      ],
      "text/latex": [
       "0.909685222885986"
      ],
      "text/markdown": [
       "0.909685222885986"
      ],
      "text/plain": [
       "[1] 0.9096852"
      ]
     },
     "metadata": {},
     "output_type": "display_data"
    },
    {
     "data": {
      "text/html": [
       "0.375112757219098"
      ],
      "text/latex": [
       "0.375112757219098"
      ],
      "text/markdown": [
       "0.375112757219098"
      ],
      "text/plain": [
       "[1] 0.3751128"
      ]
     },
     "metadata": {},
     "output_type": "display_data"
    }
   ],
   "source": [
    "mean(apply(D_beta,2,distance_function))\n",
    "mean(apply(D_beta,2,distance_function_2))"
   ]
  },
  {
   "cell_type": "code",
   "execution_count": 76,
   "metadata": {},
   "outputs": [
    {
     "data": {
      "text/html": [
       "0.911046935161087"
      ],
      "text/latex": [
       "0.911046935161087"
      ],
      "text/markdown": [
       "0.911046935161087"
      ],
      "text/plain": [
       "[1] 0.9110469"
      ]
     },
     "metadata": {},
     "output_type": "display_data"
    },
    {
     "data": {
      "text/html": [
       "0.388091697955058"
      ],
      "text/latex": [
       "0.388091697955058"
      ],
      "text/markdown": [
       "0.388091697955058"
      ],
      "text/plain": [
       "[1] 0.3880917"
      ]
     },
     "metadata": {},
     "output_type": "display_data"
    }
   ],
   "source": [
    "mean(apply(LASSO_beta,2,distance_function))\n",
    "mean(apply(LASSO_beta,2,distance_function_2))"
   ]
  },
  {
   "cell_type": "code",
   "execution_count": 77,
   "metadata": {},
   "outputs": [
    {
     "data": {
      "text/html": [
       "0.371450345098585"
      ],
      "text/latex": [
       "0.371450345098585"
      ],
      "text/markdown": [
       "0.371450345098585"
      ],
      "text/plain": [
       "[1] 0.3714503"
      ]
     },
     "metadata": {},
     "output_type": "display_data"
    },
    {
     "data": {
      "text/html": [
       "0.375112757219098"
      ],
      "text/latex": [
       "0.375112757219098"
      ],
      "text/markdown": [
       "0.375112757219098"
      ],
      "text/plain": [
       "[1] 0.3751128"
      ]
     },
     "metadata": {},
     "output_type": "display_data"
    },
    {
     "data": {
      "text/html": [
       "0.388091697955058"
      ],
      "text/latex": [
       "0.388091697955058"
      ],
      "text/markdown": [
       "0.388091697955058"
      ],
      "text/plain": [
       "[1] 0.3880917"
      ]
     },
     "metadata": {},
     "output_type": "display_data"
    }
   ],
   "source": [
    "mean(apply(A_beta[,which(apply(A_beta,2,check_function_2))],2,distance_function_2))\n",
    "mean(apply(D_beta[,which(apply(D_beta,2,check_function_2))],2,distance_function_2))\n",
    "mean(apply(LASSO_beta[,which(apply(LASSO_beta,2,check_function_2))],2,distance_function_2))"
   ]
  }
 ],
 "metadata": {
  "kernelspec": {
   "display_name": "R",
   "language": "R",
   "name": "ir"
  },
  "language_info": {
   "codemirror_mode": "r",
   "file_extension": ".r",
   "mimetype": "text/x-r-source",
   "name": "R",
   "pygments_lexer": "r",
   "version": "4.1.1"
  }
 },
 "nbformat": 4,
 "nbformat_minor": 4
}
