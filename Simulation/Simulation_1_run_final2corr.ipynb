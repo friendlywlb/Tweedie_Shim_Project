{
 "cells": [
  {
   "cell_type": "code",
   "execution_count": 1,
   "metadata": {},
   "outputs": [
    {
     "name": "stderr",
     "output_type": "stream",
     "text": [
      "Loading required package: coda\n",
      "\n",
      "Loading required package: Matrix\n",
      "\n",
      "Loading required package: splines\n",
      "\n",
      "Loading required package: lattice\n",
      "\n",
      "Loaded TDboost 1.2\n",
      "\n",
      "\n",
      "Loading required package: nlme\n",
      "\n",
      "\n",
      "Attaching package: 'nlme'\n",
      "\n",
      "\n",
      "The following objects are masked from 'package:cplm':\n",
      "\n",
      "    fixef, ranef, VarCorr\n",
      "\n",
      "\n",
      "This is mgcv 1.8-38. For overview type 'help(\"mgcv-package\")'.\n",
      "\n",
      "Loaded glmnet 4.1-2\n",
      "\n"
     ]
    }
   ],
   "source": [
    "library(fastDummies)\n",
    "library(cplm)\n",
    "library(tweedie)\n",
    "library(statmod)\n",
    "library(TDboost)\n",
    "library(mgcv)\n",
    "library(MASS)\n",
    "library(glmnet)\n",
    "source(\"S_U2.R\")\n",
    "options(warn=-1)"
   ]
  },
  {
   "cell_type": "code",
   "execution_count": 2,
   "metadata": {},
   "outputs": [],
   "source": [
    "D_beta<-matrix(nrow=16,ncol=100)\n",
    "A_beta<-matrix(nrow=16,ncol=100)\n",
    "LASSO_beta<-matrix(nrow=16,ncol=100)\n",
    "B_beta<-matrix(nrow=16,ncol=100)\n",
    "nc=1"
   ]
  },
  {
   "cell_type": "code",
   "execution_count": 3,
   "metadata": {},
   "outputs": [],
   "source": [
    "while(nc<=100){\n",
    "    sigma_matrix = matrix(nrow=5,ncol=5)\n",
    "    for (i in 1:5){\n",
    "        for (j in 1:5){\n",
    "            if (i==j){\n",
    "                sigma_matrix[i,j]<-1\n",
    "            }\n",
    "            else{\n",
    "                sigma_matrix[i,j]<-0.5^abs(i-j)\n",
    "            }\n",
    "        }\n",
    "    }\n",
    "    x<- mvrnorm(n = 1000, mu=c(rep(0,5)), Sigma=sigma_matrix, tol = 1e-6, empirical = FALSE, EISPACK = FALSE)\n",
    "    colnames(x)=c('x1','x2','x3','x4','x5')\n",
    "    X<-as.data.frame(x)\n",
    "    b_t<-c(0.3,0.8,0.8,0.8,0,0)\n",
    "    design_x <- model.matrix(~.,data=X)\n",
    "    mu<-exp(design_x%*%b_t)\n",
    "    y_sim<- rTweedie(mu,p=1.5,phi=5)\n",
    "    dd<-as.data.frame(cbind(design_x[,2:6],y_sim))\n",
    "    sam <- sample(rep(1:2,len=1000))\n",
    "    sim_train<-dd[sam==1,]\n",
    "    sim_test<-dd[sam==2,]\n",
    "    sim_train<-as.data.frame(sim_train)\n",
    "    sim_test<-as.data.frame(sim_test)\n",
    "    colnames(sim_train)[6]='y'\n",
    "    colnames(sim_test)[6]='y'\n",
    "    fit_0<-glm(y~.^2,data=sim_train,family=tweedie(link.power=0,var.power=1.5),control=list(maxit=500))\n",
    "    beta_0_t<-c(fit_0$coefficients[1:6])\n",
    "    index=combn(c(1:5),2)\n",
    "    int_coef<-fit_0$coefficients[-(1:6)]\n",
    "    r_0_t<-c()\n",
    "    for (i in 1:length(int_coef)){\n",
    "        tmp_coef<-int_coef[i]/(beta_0_t[index[1,i]+1]*beta_0_t[index[2,i]+1])\n",
    "        r_0_t<-c(r_0_t,tmp_coef)\n",
    "    }\n",
    "    X<-model.matrix(~.^2-1,data=sim_train[,1:5])\n",
    "    qw=cv.glmnet(x=X,y=sim_train$y,family=tweedie(link.power=0,var.power=1.5),control=list(maxit=500),nlambda=10)\n",
    "    LASSO_beta[,nc]<-coef(qw, s=qw$lambda.min)[,1]\n",
    "    r_lamb<-qw$lambda\n",
    "    beta_lamb<-qw$lambda\n",
    "    n_lamb<-length(beta_lamb)\n",
    "    power=1.5\n",
    "    final_result1=matrix(nrow=n_lamb,ncol=n_lamb)\n",
    "    final_result2=matrix(nrow=n_lamb,ncol=n_lamb)\n",
    "    final_result3=matrix(nrow=n_lamb,ncol=n_lamb)\n",
    "    for (i in 1:n_lamb){\n",
    "        for (j in 1:n_lamb){\n",
    "            coef_result<-shim_lasso_update_2(sim_train[,1:5],sim_train$y,power,lamb_r=r_lamb[i],lamb_b=beta_lamb[j],r_0_t,beta_0_t)\n",
    "            fitted<-ts_fitted(sim_test[,1:5],coef_result$'beta',coef_result$'r')\n",
    "            final_result1[i,j]=mean(tweedie.dev(sim_test$y,fitted,1.5))\n",
    "            fitted<-ts_fitted(sim_train[,1:5],coef_result$'beta',coef_result$'r')\n",
    "            if (is.infinite(mean(tweedie.dev(sim_train$y,fitted,1.5),na.rm=T))){\n",
    "                    final_result2[i,j]<-999999999\n",
    "                    final_result3[i,j]<-999999999\n",
    "                        }\n",
    "            else{\n",
    "                den<-dtweedie(sim_train$y,mu=fitted+0.0000001,phi=sum(tweedie.dev(sim_train$y,fitted,1.5),na.rm=T)/length(sim_train$y),power=1.5)\n",
    "                df<-length(which(r_beta(coef_result$'beta',coef_result$'r')!=0))\n",
    "                final_result2[i,j]<--2*sum( log(den))+2*(df)\n",
    "                final_result3[i,j]<--2*sum( log(den))+log(length(sim_train$y))*(df)\n",
    "                }\n",
    "    }\n",
    "        }\n",
    "    index1<-which(final_result1==min(final_result1,na.rm=T), arr.ind = TRUE)[1,]\n",
    "    index2<-which(final_result2==min(final_result2,na.rm=T), arr.ind = TRUE)[1,]\n",
    "    index3<-which(final_result3==min(final_result3,na.rm=T), arr.ind = TRUE)[1,]\n",
    "    coef_result<-shim_lasso_update_2(sim_train[,1:5],sim_train$y,power,lamb_r=r_lamb[index1[1]],lamb_b=beta_lamb[index1[2]],r_0_t,beta_0_t)\n",
    "    D_beta[,nc]<-r_beta(coef_result$beta,coef_result$r)\n",
    "    coef_result<-shim_lasso_update_2(sim_train[,1:5],sim_train$y,power,lamb_r=r_lamb[index2[1]],lamb_b=beta_lamb[index2[2]],r_0_t,beta_0_t)\n",
    "    A_beta[,nc]<-r_beta(coef_result$beta,coef_result$r)\n",
    "    coef_result<-shim_lasso_update_2(sim_train[,1:5],sim_train$y,power,lamb_r=r_lamb[index3[1]],lamb_b=beta_lamb[index3[2]],r_0_t,beta_0_t)\n",
    "    B_beta[,nc]<-r_beta(coef_result$beta,coef_result$r)\n",
    "    nc=nc+1\n",
    "}"
   ]
  },
  {
   "cell_type": "code",
   "execution_count": 155,
   "metadata": {},
   "outputs": [
    {
     "data": {
      "text/html": [
       "<style>\n",
       ".list-inline {list-style: none; margin:0; padding: 0}\n",
       ".list-inline>li {display: inline-block}\n",
       ".list-inline>li:not(:last-child)::after {content: \"\\00b7\"; padding: 0 .5ex}\n",
       "</style>\n",
       "<ol class=list-inline><li>26</li><li>27</li><li>28</li><li>29</li><li>30</li><li>31</li><li>32</li><li>33</li><li>34</li><li>35</li><li>36</li><li>37</li><li>38</li><li>39</li><li>40</li><li>41</li><li>42</li><li>43</li><li>44</li><li>45</li><li>46</li><li>47</li><li>48</li><li>49</li><li>50</li><li>51</li><li>52</li><li>53</li><li>54</li><li>55</li><li>56</li><li>57</li><li>58</li><li>59</li><li>60</li><li>61</li><li>62</li><li>63</li><li>64</li><li>65</li><li>66</li><li>67</li><li>68</li><li>69</li><li>70</li><li>71</li><li>72</li><li>73</li><li>74</li><li>75</li><li>76</li><li>77</li><li>78</li><li>79</li><li>80</li><li>81</li><li>82</li><li>83</li><li>84</li><li>85</li><li>86</li><li>87</li><li>88</li><li>89</li><li>90</li><li>91</li><li>92</li><li>93</li><li>94</li><li>95</li><li>96</li><li>97</li><li>98</li><li>99</li><li>100</li></ol>\n"
      ],
      "text/latex": [
       "\\begin{enumerate*}\n",
       "\\item 26\n",
       "\\item 27\n",
       "\\item 28\n",
       "\\item 29\n",
       "\\item 30\n",
       "\\item 31\n",
       "\\item 32\n",
       "\\item 33\n",
       "\\item 34\n",
       "\\item 35\n",
       "\\item 36\n",
       "\\item 37\n",
       "\\item 38\n",
       "\\item 39\n",
       "\\item 40\n",
       "\\item 41\n",
       "\\item 42\n",
       "\\item 43\n",
       "\\item 44\n",
       "\\item 45\n",
       "\\item 46\n",
       "\\item 47\n",
       "\\item 48\n",
       "\\item 49\n",
       "\\item 50\n",
       "\\item 51\n",
       "\\item 52\n",
       "\\item 53\n",
       "\\item 54\n",
       "\\item 55\n",
       "\\item 56\n",
       "\\item 57\n",
       "\\item 58\n",
       "\\item 59\n",
       "\\item 60\n",
       "\\item 61\n",
       "\\item 62\n",
       "\\item 63\n",
       "\\item 64\n",
       "\\item 65\n",
       "\\item 66\n",
       "\\item 67\n",
       "\\item 68\n",
       "\\item 69\n",
       "\\item 70\n",
       "\\item 71\n",
       "\\item 72\n",
       "\\item 73\n",
       "\\item 74\n",
       "\\item 75\n",
       "\\item 76\n",
       "\\item 77\n",
       "\\item 78\n",
       "\\item 79\n",
       "\\item 80\n",
       "\\item 81\n",
       "\\item 82\n",
       "\\item 83\n",
       "\\item 84\n",
       "\\item 85\n",
       "\\item 86\n",
       "\\item 87\n",
       "\\item 88\n",
       "\\item 89\n",
       "\\item 90\n",
       "\\item 91\n",
       "\\item 92\n",
       "\\item 93\n",
       "\\item 94\n",
       "\\item 95\n",
       "\\item 96\n",
       "\\item 97\n",
       "\\item 98\n",
       "\\item 99\n",
       "\\item 100\n",
       "\\end{enumerate*}\n"
      ],
      "text/markdown": [
       "1. 26\n",
       "2. 27\n",
       "3. 28\n",
       "4. 29\n",
       "5. 30\n",
       "6. 31\n",
       "7. 32\n",
       "8. 33\n",
       "9. 34\n",
       "10. 35\n",
       "11. 36\n",
       "12. 37\n",
       "13. 38\n",
       "14. 39\n",
       "15. 40\n",
       "16. 41\n",
       "17. 42\n",
       "18. 43\n",
       "19. 44\n",
       "20. 45\n",
       "21. 46\n",
       "22. 47\n",
       "23. 48\n",
       "24. 49\n",
       "25. 50\n",
       "26. 51\n",
       "27. 52\n",
       "28. 53\n",
       "29. 54\n",
       "30. 55\n",
       "31. 56\n",
       "32. 57\n",
       "33. 58\n",
       "34. 59\n",
       "35. 60\n",
       "36. 61\n",
       "37. 62\n",
       "38. 63\n",
       "39. 64\n",
       "40. 65\n",
       "41. 66\n",
       "42. 67\n",
       "43. 68\n",
       "44. 69\n",
       "45. 70\n",
       "46. 71\n",
       "47. 72\n",
       "48. 73\n",
       "49. 74\n",
       "50. 75\n",
       "51. 76\n",
       "52. 77\n",
       "53. 78\n",
       "54. 79\n",
       "55. 80\n",
       "56. 81\n",
       "57. 82\n",
       "58. 83\n",
       "59. 84\n",
       "60. 85\n",
       "61. 86\n",
       "62. 87\n",
       "63. 88\n",
       "64. 89\n",
       "65. 90\n",
       "66. 91\n",
       "67. 92\n",
       "68. 93\n",
       "69. 94\n",
       "70. 95\n",
       "71. 96\n",
       "72. 97\n",
       "73. 98\n",
       "74. 99\n",
       "75. 100\n",
       "\n",
       "\n"
      ],
      "text/plain": [
       " [1]  26  27  28  29  30  31  32  33  34  35  36  37  38  39  40  41  42  43  44\n",
       "[20]  45  46  47  48  49  50  51  52  53  54  55  56  57  58  59  60  61  62  63\n",
       "[39]  64  65  66  67  68  69  70  71  72  73  74  75  76  77  78  79  80  81  82\n",
       "[58]  83  84  85  86  87  88  89  90  91  92  93  94  95  96  97  98  99 100"
      ]
     },
     "metadata": {},
     "output_type": "display_data"
    }
   ],
   "source": [
    "which(is.na(A_beta[1,]))"
   ]
  },
  {
   "cell_type": "code",
   "execution_count": 4,
   "metadata": {},
   "outputs": [],
   "source": [
    "write.matrix(A_beta,file=\"simulation111Ac.csv\")\n",
    "write.matrix(D_beta,file=\"simulation111Dc.csv\")\n",
    "write.matrix(B_beta,file=\"simulation111Bc.csv\")\n",
    "write.matrix(LASSO_beta,file=\"simulation111Lc.csv\")"
   ]
  },
  {
   "cell_type": "code",
   "execution_count": 5,
   "metadata": {},
   "outputs": [],
   "source": [
    "check_function<-function(x){\n",
    "    xlen<-length(x)\n",
    "    return(all(x[1:4]!=0)&all(x[5:6]==0)&all(x[7:8]==0)&all(x[9:10]==0)&all(x[11]==0)&all(x[12:xlen]==0))\n",
    "}\n",
    "\n",
    "check_function2<-function(x){\n",
    "    xlen<-length(x)\n",
    "    return(all(x[1:4]!=0))\n",
    "}\n",
    "\n",
    "distance_function<-function(x,b=c(0.3,0.8,0.8,0.8,0,0,0,0,0,0,0,0,0,rep(0,5))){\n",
    "    return(sqrt(mean((x-b)^2)))\n",
    "}\n",
    "\n",
    "distance_function_2<-function(x,b=c(0.3,0.8,0.8,0.8,0,0,0,0,0,0,0,0,0,rep(0,5))){\n",
    "    return(mean(abs(x-b)))\n",
    "}"
   ]
  },
  {
   "cell_type": "code",
   "execution_count": 6,
   "metadata": {},
   "outputs": [
    {
     "data": {
      "text/html": [
       "27"
      ],
      "text/latex": [
       "27"
      ],
      "text/markdown": [
       "27"
      ],
      "text/plain": [
       "[1] 27"
      ]
     },
     "metadata": {},
     "output_type": "display_data"
    },
    {
     "data": {
      "text/html": [
       "68"
      ],
      "text/latex": [
       "68"
      ],
      "text/markdown": [
       "68"
      ],
      "text/plain": [
       "[1] 68"
      ]
     },
     "metadata": {},
     "output_type": "display_data"
    },
    {
     "data": {
      "text/html": [
       "19"
      ],
      "text/latex": [
       "19"
      ],
      "text/markdown": [
       "19"
      ],
      "text/plain": [
       "[1] 19"
      ]
     },
     "metadata": {},
     "output_type": "display_data"
    },
    {
     "data": {
      "text/html": [
       "2"
      ],
      "text/latex": [
       "2"
      ],
      "text/markdown": [
       "2"
      ],
      "text/plain": [
       "[1] 2"
      ]
     },
     "metadata": {},
     "output_type": "display_data"
    }
   ],
   "source": [
    "length(which(apply(A_beta,2,check_function)))\n",
    "length(which(apply(B_beta,2,check_function)))\n",
    "length(which(apply(D_beta,2,check_function)))\n",
    "length(which(apply(LASSO_beta,2,check_function)))"
   ]
  },
  {
   "cell_type": "code",
   "execution_count": 7,
   "metadata": {},
   "outputs": [
    {
     "data": {
      "text/html": [
       "100"
      ],
      "text/latex": [
       "100"
      ],
      "text/markdown": [
       "100"
      ],
      "text/plain": [
       "[1] 100"
      ]
     },
     "metadata": {},
     "output_type": "display_data"
    },
    {
     "data": {
      "text/html": [
       "100"
      ],
      "text/latex": [
       "100"
      ],
      "text/markdown": [
       "100"
      ],
      "text/plain": [
       "[1] 100"
      ]
     },
     "metadata": {},
     "output_type": "display_data"
    },
    {
     "data": {
      "text/html": [
       "100"
      ],
      "text/latex": [
       "100"
      ],
      "text/markdown": [
       "100"
      ],
      "text/plain": [
       "[1] 100"
      ]
     },
     "metadata": {},
     "output_type": "display_data"
    },
    {
     "data": {
      "text/html": [
       "100"
      ],
      "text/latex": [
       "100"
      ],
      "text/markdown": [
       "100"
      ],
      "text/plain": [
       "[1] 100"
      ]
     },
     "metadata": {},
     "output_type": "display_data"
    }
   ],
   "source": [
    "length(which(apply(A_beta,2,check_function2)))\n",
    "length(which(apply(B_beta,2,check_function2)))\n",
    "length(which(apply(D_beta,2,check_function2)))\n",
    "length(which(apply(LASSO_beta,2,check_function2)))"
   ]
  },
  {
   "cell_type": "code",
   "execution_count": 8,
   "metadata": {},
   "outputs": [
    {
     "data": {
      "text/html": [
       "0.088346795644345"
      ],
      "text/latex": [
       "0.088346795644345"
      ],
      "text/markdown": [
       "0.088346795644345"
      ],
      "text/plain": [
       "[1] 0.0883468"
      ]
     },
     "metadata": {},
     "output_type": "display_data"
    },
    {
     "data": {
      "text/html": [
       "0.0850591079758884"
      ],
      "text/latex": [
       "0.0850591079758884"
      ],
      "text/markdown": [
       "0.0850591079758884"
      ],
      "text/plain": [
       "[1] 0.08505911"
      ]
     },
     "metadata": {},
     "output_type": "display_data"
    },
    {
     "data": {
      "text/html": [
       "0.0836747896891259"
      ],
      "text/latex": [
       "0.0836747896891259"
      ],
      "text/markdown": [
       "0.0836747896891259"
      ],
      "text/plain": [
       "[1] 0.08367479"
      ]
     },
     "metadata": {},
     "output_type": "display_data"
    },
    {
     "data": {
      "text/html": [
       "0.0976244237780109"
      ],
      "text/latex": [
       "0.0976244237780109"
      ],
      "text/markdown": [
       "0.0976244237780109"
      ],
      "text/plain": [
       "[1] 0.09762442"
      ]
     },
     "metadata": {},
     "output_type": "display_data"
    }
   ],
   "source": [
    "mean(apply(A_beta,2,distance_function_2))\n",
    "mean(apply(B_beta,2,distance_function_2))\n",
    "mean(apply(D_beta,2,distance_function_2))\n",
    "mean(apply(LASSO_beta,2,distance_function_2))"
   ]
  },
  {
   "cell_type": "code",
   "execution_count": 165,
   "metadata": {},
   "outputs": [
    {
     "data": {
      "text/html": [
       "30"
      ],
      "text/latex": [
       "30"
      ],
      "text/markdown": [
       "30"
      ],
      "text/plain": [
       "[1] 30"
      ]
     },
     "metadata": {},
     "output_type": "display_data"
    },
    {
     "data": {
      "text/html": [
       "15"
      ],
      "text/latex": [
       "15"
      ],
      "text/markdown": [
       "15"
      ],
      "text/plain": [
       "[1] 15"
      ]
     },
     "metadata": {},
     "output_type": "display_data"
    },
    {
     "data": {
      "text/html": [
       "2"
      ],
      "text/latex": [
       "2"
      ],
      "text/markdown": [
       "2"
      ],
      "text/plain": [
       "[1] 2"
      ]
     },
     "metadata": {},
     "output_type": "display_data"
    }
   ],
   "source": [
    "length(which(apply(AA_beta,2,check_function)))\n",
    "length(which(apply(DD_beta,2,check_function)))\n",
    "length(which(apply(LL_beta,2,check_function)))"
   ]
  },
  {
   "cell_type": "code",
   "execution_count": 166,
   "metadata": {},
   "outputs": [
    {
     "data": {
      "text/html": [
       "100"
      ],
      "text/latex": [
       "100"
      ],
      "text/markdown": [
       "100"
      ],
      "text/plain": [
       "[1] 100"
      ]
     },
     "metadata": {},
     "output_type": "display_data"
    },
    {
     "data": {
      "text/html": [
       "100"
      ],
      "text/latex": [
       "100"
      ],
      "text/markdown": [
       "100"
      ],
      "text/plain": [
       "[1] 100"
      ]
     },
     "metadata": {},
     "output_type": "display_data"
    },
    {
     "data": {
      "text/html": [
       "100"
      ],
      "text/latex": [
       "100"
      ],
      "text/markdown": [
       "100"
      ],
      "text/plain": [
       "[1] 100"
      ]
     },
     "metadata": {},
     "output_type": "display_data"
    }
   ],
   "source": [
    "length(which(apply(AA_beta,2,check_function_2)))\n",
    "length(which(apply(DD_beta,2,check_function_2)))\n",
    "length(which(apply(LL_beta,2,check_function_2)))"
   ]
  },
  {
   "cell_type": "code",
   "execution_count": 167,
   "metadata": {},
   "outputs": [
    {
     "data": {
      "text/html": [
       "0.207291615643917"
      ],
      "text/latex": [
       "0.207291615643917"
      ],
      "text/markdown": [
       "0.207291615643917"
      ],
      "text/plain": [
       "[1] 0.2072916"
      ]
     },
     "metadata": {},
     "output_type": "display_data"
    },
    {
     "data": {
      "text/html": [
       "0.0844244560294444"
      ],
      "text/latex": [
       "0.0844244560294444"
      ],
      "text/markdown": [
       "0.0844244560294444"
      ],
      "text/plain": [
       "[1] 0.08442446"
      ]
     },
     "metadata": {},
     "output_type": "display_data"
    }
   ],
   "source": [
    "mean(apply(AA_beta,2,distance_function))\n",
    "mean(apply(AA_beta,2,distance_function_2))"
   ]
  },
  {
   "cell_type": "code",
   "execution_count": 168,
   "metadata": {},
   "outputs": [
    {
     "data": {
      "text/html": [
       "0.20574379829445"
      ],
      "text/latex": [
       "0.20574379829445"
      ],
      "text/markdown": [
       "0.20574379829445"
      ],
      "text/plain": [
       "[1] 0.2057438"
      ]
     },
     "metadata": {},
     "output_type": "display_data"
    },
    {
     "data": {
      "text/html": [
       "0.0832190130044445"
      ],
      "text/latex": [
       "0.0832190130044445"
      ],
      "text/markdown": [
       "0.0832190130044445"
      ],
      "text/plain": [
       "[1] 0.08321901"
      ]
     },
     "metadata": {},
     "output_type": "display_data"
    }
   ],
   "source": [
    "mean(apply(DD_beta,2,distance_function))\n",
    "mean(apply(DD_beta,2,distance_function_2))"
   ]
  },
  {
   "cell_type": "code",
   "execution_count": 169,
   "metadata": {},
   "outputs": [
    {
     "data": {
      "text/html": [
       "0.205842580642687"
      ],
      "text/latex": [
       "0.205842580642687"
      ],
      "text/markdown": [
       "0.205842580642687"
      ],
      "text/plain": [
       "[1] 0.2058426"
      ]
     },
     "metadata": {},
     "output_type": "display_data"
    },
    {
     "data": {
      "text/html": [
       "0.0960719844243333"
      ],
      "text/latex": [
       "0.0960719844243333"
      ],
      "text/markdown": [
       "0.0960719844243333"
      ],
      "text/plain": [
       "[1] 0.09607198"
      ]
     },
     "metadata": {},
     "output_type": "display_data"
    }
   ],
   "source": [
    "mean(apply(LL_beta,2,distance_function))\n",
    "mean(apply(LL_beta,2,distance_function_2))"
   ]
  },
  {
   "cell_type": "code",
   "execution_count": 171,
   "metadata": {},
   "outputs": [],
   "source": [
    "A_beta<-AA_beta\n",
    "D_beta<-DD_beta\n",
    "LASSO_beta<-LL_beta\n"
   ]
  },
  {
   "cell_type": "code",
   "execution_count": 172,
   "metadata": {},
   "outputs": [
    {
     "data": {
      "text/html": [
       "0.0844244560294444"
      ],
      "text/latex": [
       "0.0844244560294444"
      ],
      "text/markdown": [
       "0.0844244560294444"
      ],
      "text/plain": [
       "[1] 0.08442446"
      ]
     },
     "metadata": {},
     "output_type": "display_data"
    },
    {
     "data": {
      "text/html": [
       "0.0832190130044445"
      ],
      "text/latex": [
       "0.0832190130044445"
      ],
      "text/markdown": [
       "0.0832190130044445"
      ],
      "text/plain": [
       "[1] 0.08321901"
      ]
     },
     "metadata": {},
     "output_type": "display_data"
    },
    {
     "data": {
      "text/html": [
       "0.0960719844243333"
      ],
      "text/latex": [
       "0.0960719844243333"
      ],
      "text/markdown": [
       "0.0960719844243333"
      ],
      "text/plain": [
       "[1] 0.09607198"
      ]
     },
     "metadata": {},
     "output_type": "display_data"
    }
   ],
   "source": [
    "mean(apply(A_beta[,which(apply(A_beta,2,check_function_2))],2,distance_function_2))\n",
    "mean(apply(D_beta[,which(apply(D_beta,2,check_function_2))],2,distance_function_2))\n",
    "mean(apply(LASSO_beta[,which(apply(LASSO_beta,2,check_function_2))],2,distance_function_2))"
   ]
  }
 ],
 "metadata": {
  "kernelspec": {
   "display_name": "R",
   "language": "R",
   "name": "ir"
  },
  "language_info": {
   "codemirror_mode": "r",
   "file_extension": ".r",
   "mimetype": "text/x-r-source",
   "name": "R",
   "pygments_lexer": "r",
   "version": "4.1.1"
  }
 },
 "nbformat": 4,
 "nbformat_minor": 4
}
