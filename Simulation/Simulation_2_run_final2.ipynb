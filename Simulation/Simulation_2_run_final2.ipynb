{
 "cells": [
  {
   "cell_type": "code",
   "execution_count": 1,
   "metadata": {},
   "outputs": [
    {
     "name": "stderr",
     "output_type": "stream",
     "text": [
      "Loading required package: coda\n",
      "\n",
      "Loading required package: Matrix\n",
      "\n",
      "Loading required package: splines\n",
      "\n",
      "Loading required package: lattice\n",
      "\n",
      "Loaded TDboost 1.2\n",
      "\n",
      "\n",
      "Loading required package: nlme\n",
      "\n",
      "\n",
      "Attaching package: 'nlme'\n",
      "\n",
      "\n",
      "The following objects are masked from 'package:cplm':\n",
      "\n",
      "    fixef, ranef, VarCorr\n",
      "\n",
      "\n",
      "This is mgcv 1.8-38. For overview type 'help(\"mgcv-package\")'.\n",
      "\n",
      "Loaded glmnet 4.1-2\n",
      "\n"
     ]
    }
   ],
   "source": [
    "library(fastDummies)\n",
    "library(cplm)\n",
    "library(tweedie)\n",
    "library(statmod)\n",
    "library(TDboost)\n",
    "library(mgcv)\n",
    "library(MASS)\n",
    "library(glmnet)\n",
    "source(\"S_U2.R\")\n",
    "options(warn=-1)"
   ]
  },
  {
   "cell_type": "code",
   "execution_count": 6,
   "metadata": {},
   "outputs": [],
   "source": [
    "D_beta<-matrix(nrow=16,ncol=100)\n",
    "A_beta<-matrix(nrow=16,ncol=100)\n",
    "LASSO_beta<-matrix(nrow=16,ncol=100)\n",
    "B_beta<-matrix(nrow=16,ncol=100)\n",
    "nc=1"
   ]
  },
  {
   "cell_type": "code",
   "execution_count": 7,
   "metadata": {},
   "outputs": [],
   "source": [
    "while(nc<=100){\n",
    "    x<-matrix( rnorm(1000*10,mean=0,sd=1),1000, 5) \n",
    "    colnames(x)=c('x1','x2','x3','x4','x5')\n",
    "    X<-as.data.frame(x)\n",
    "    b_t<-c(-0.3,0.8,-0.8,0.8,0,0,-0.8,-0.8,-0.8)\n",
    "    design_x <- model.matrix(~.+x1*x2+x1*x3+x2*x3,data=X)\n",
    "    mu<-exp(design_x%*%b_t)\n",
    "    y_sim<- rTweedie(mu,p=1.5,phi=5)\n",
    "    dd<-as.data.frame(cbind(design_x[,2:6],y_sim))\n",
    "    sam <- sample(rep(1:2,len=1000))\n",
    "    sim_train<-dd[sam==1,]\n",
    "    sim_test<-dd[sam==2,]\n",
    "    sim_train<-as.data.frame(sim_train)\n",
    "    sim_test<-as.data.frame(sim_test)\n",
    "    colnames(sim_train)[6]='y'\n",
    "    colnames(sim_test)[6]='y'\n",
    "    fit_0<-glm(y~.^2,data=sim_train,family=tweedie(link.power=0,var.power=1.5),control=list(maxit=500))\n",
    "    beta_0_t<-c(fit_0$coefficients[1:6])\n",
    "    index=combn(c(1:5),2)\n",
    "    int_coef<-fit_0$coefficients[-(1:6)]\n",
    "    r_0_t<-c()\n",
    "    for (i in 1:length(int_coef)){\n",
    "        tmp_coef<-int_coef[i]/(beta_0_t[index[1,i]+1]*beta_0_t[index[2,i]+1])\n",
    "        r_0_t<-c(r_0_t,tmp_coef)\n",
    "    }\n",
    "    X<-model.matrix(~.^2-1,data=sim_train[,1:5])\n",
    "    qw=cv.glmnet(x=X,y=sim_train$y,family=tweedie(link.power=0,var.power=1.5),control=list(maxit=500),nlambda=10)\n",
    "    LASSO_beta[,nc]<-coef(qw, s=qw$lambda.min)[,1]\n",
    "    as=cv.glmnet(x=X[,1:5],y=sim_train$y,family=tweedie(link.power=0,var.power=1.5),control=list(maxit=500),nlambda=10)\n",
    "    df=cv.glmnet(x=X[,-c(1:5)],y=sim_train$y,family=tweedie(link.power=0,var.power=1.5),control=list(maxit=500),nlambda=10,nfolds=5)\n",
    "    r_lamb<-df$lambda\n",
    "    beta_lamb<-as$lambda\n",
    "    n_lamb<-length(beta_lamb)\n",
    "    power=1.5\n",
    "    final_result1=matrix(nrow=n_lamb,ncol=n_lamb)\n",
    "    final_result2=matrix(nrow=n_lamb,ncol=n_lamb)\n",
    "    final_result3=matrix(nrow=n_lamb,ncol=n_lamb)\n",
    "    for (i in 1:n_lamb){\n",
    "        for (j in 1:n_lamb){\n",
    "            coef_result<-shim_lasso_update_2(sim_train[,1:5],sim_train$y,power,lamb_r=r_lamb[i],lamb_b=beta_lamb[j],r_0_t,beta_0_t)\n",
    "            fitted<-ts_fitted(sim_test[,1:5],coef_result$'beta',coef_result$'r')\n",
    "            final_result1[i,j]=mean(tweedie.dev(sim_test$y,fitted,1.5))\n",
    "            fitted<-ts_fitted(sim_train[,1:5],coef_result$'beta',coef_result$'r')\n",
    "            if (is.infinite(mean(tweedie.dev(sim_train$y,fitted,1.5),na.rm=T))){\n",
    "                            final_result2[i,j]<-999999999\n",
    "                            final_result3[i,j]<-999999999\n",
    "                        }\n",
    "            else{\n",
    "                den<-dtweedie(sim_train$y,mu=fitted+0.0000001,phi=sum(tweedie.dev(sim_train$y,fitted,1.5),na.rm=T)/length(sim_train$y),power=1.5)\n",
    "                df<-length(which(r_beta(coef_result$'beta',coef_result$'r')!=0))\n",
    "                final_result2[i,j]<--2*sum( log(den))+2*(df)\n",
    "                final_result3[i,j]<--2*sum( log(den))+log(length(sim_train$y))*(df)\n",
    "                }\n",
    "    }\n",
    "        }\n",
    "    index1<-which(final_result1==min(final_result1,na.rm=T), arr.ind = TRUE)[1,]\n",
    "    index2<-which(final_result2==min(final_result2,na.rm=T), arr.ind = TRUE)[1,]\n",
    "    index3<-which(final_result3==min(final_result3,na.rm=T), arr.ind = TRUE)[1,]\n",
    "    coef_result<-shim_lasso_update_2(sim_train[,1:5],sim_train$y,power,lamb_r=r_lamb[index1[1]],lamb_b=beta_lamb[index1[2]],r_0_t,beta_0_t)\n",
    "    D_beta[,nc]<-r_beta(coef_result$beta,coef_result$r)\n",
    "    coef_result<-shim_lasso_update_2(sim_train[,1:5],sim_train$y,power,lamb_r=r_lamb[index2[1]],lamb_b=beta_lamb[index2[2]],r_0_t,beta_0_t)\n",
    "    A_beta[,nc]<-r_beta(coef_result$beta,coef_result$r)\n",
    "    coef_result<-shim_lasso_update_2(sim_train[,1:5],sim_train$y,power,lamb_r=r_lamb[index3[1]],lamb_b=beta_lamb[index3[2]],r_0_t,beta_0_t)\n",
    "    B_beta[,nc]<-r_beta(coef_result$beta,coef_result$r)\n",
    "    nc=nc+1\n",
    "}"
   ]
  },
  {
   "cell_type": "code",
   "execution_count": 5,
   "metadata": {},
   "outputs": [
    {
     "data": {
      "text/html": [
       "<style>\n",
       ".list-inline {list-style: none; margin:0; padding: 0}\n",
       ".list-inline>li {display: inline-block}\n",
       ".list-inline>li:not(:last-child)::after {content: \"\\00b7\"; padding: 0 .5ex}\n",
       "</style>\n",
       "<ol class=list-inline><li>-0.193410900511591</li><li>0.801881982102044</li><li>-0.848848616606505</li><li>0.595845261454657</li><li>-0.201486357423992</li><li>-0.0762448859610444</li><li>-0.641382252500849</li><li>-0.687310791655315</li><li>0</li><li>0</li><li>-0.833781840022174</li><li>-0.0348597354879207</li><li>0</li><li>0</li><li>0</li><li>0</li></ol>\n"
      ],
      "text/latex": [
       "\\begin{enumerate*}\n",
       "\\item -0.193410900511591\n",
       "\\item 0.801881982102044\n",
       "\\item -0.848848616606505\n",
       "\\item 0.595845261454657\n",
       "\\item -0.201486357423992\n",
       "\\item -0.0762448859610444\n",
       "\\item -0.641382252500849\n",
       "\\item -0.687310791655315\n",
       "\\item 0\n",
       "\\item 0\n",
       "\\item -0.833781840022174\n",
       "\\item -0.0348597354879207\n",
       "\\item 0\n",
       "\\item 0\n",
       "\\item 0\n",
       "\\item 0\n",
       "\\end{enumerate*}\n"
      ],
      "text/markdown": [
       "1. -0.193410900511591\n",
       "2. 0.801881982102044\n",
       "3. -0.848848616606505\n",
       "4. 0.595845261454657\n",
       "5. -0.201486357423992\n",
       "6. -0.0762448859610444\n",
       "7. -0.641382252500849\n",
       "8. -0.687310791655315\n",
       "9. 0\n",
       "10. 0\n",
       "11. -0.833781840022174\n",
       "12. -0.0348597354879207\n",
       "13. 0\n",
       "14. 0\n",
       "15. 0\n",
       "16. 0\n",
       "\n",
       "\n"
      ],
      "text/plain": [
       " [1] -0.19341090  0.80188198 -0.84884862  0.59584526 -0.20148636 -0.07624489\n",
       " [7] -0.64138225 -0.68731079  0.00000000  0.00000000 -0.83378184 -0.03485974\n",
       "[13]  0.00000000  0.00000000  0.00000000  0.00000000"
      ]
     },
     "metadata": {},
     "output_type": "display_data"
    },
    {
     "data": {
      "text/html": [
       "<style>\n",
       ".list-inline {list-style: none; margin:0; padding: 0}\n",
       ".list-inline>li {display: inline-block}\n",
       ".list-inline>li:not(:last-child)::after {content: \"\\00b7\"; padding: 0 .5ex}\n",
       "</style>\n",
       "<ol class=list-inline><li>-0.16373767740822</li><li>0.794200605217157</li><li>-0.849124842421202</li><li>0.583260846083369</li><li>-0.164936916746541</li><li>-0.0524872406474448</li><li>-0.635445046816711</li><li>-0.666349774398784</li><li>0</li><li>0</li><li>-0.81643773132754</li><li>-0.0285454974368706</li><li>0</li><li>0</li><li>0</li><li>0</li></ol>\n"
      ],
      "text/latex": [
       "\\begin{enumerate*}\n",
       "\\item -0.16373767740822\n",
       "\\item 0.794200605217157\n",
       "\\item -0.849124842421202\n",
       "\\item 0.583260846083369\n",
       "\\item -0.164936916746541\n",
       "\\item -0.0524872406474448\n",
       "\\item -0.635445046816711\n",
       "\\item -0.666349774398784\n",
       "\\item 0\n",
       "\\item 0\n",
       "\\item -0.81643773132754\n",
       "\\item -0.0285454974368706\n",
       "\\item 0\n",
       "\\item 0\n",
       "\\item 0\n",
       "\\item 0\n",
       "\\end{enumerate*}\n"
      ],
      "text/markdown": [
       "1. -0.16373767740822\n",
       "2. 0.794200605217157\n",
       "3. -0.849124842421202\n",
       "4. 0.583260846083369\n",
       "5. -0.164936916746541\n",
       "6. -0.0524872406474448\n",
       "7. -0.635445046816711\n",
       "8. -0.666349774398784\n",
       "9. 0\n",
       "10. 0\n",
       "11. -0.81643773132754\n",
       "12. -0.0285454974368706\n",
       "13. 0\n",
       "14. 0\n",
       "15. 0\n",
       "16. 0\n",
       "\n",
       "\n"
      ],
      "text/plain": [
       " [1] -0.16373768  0.79420061 -0.84912484  0.58326085 -0.16493692 -0.05248724\n",
       " [7] -0.63544505 -0.66634977  0.00000000  0.00000000 -0.81643773 -0.02854550\n",
       "[13]  0.00000000  0.00000000  0.00000000  0.00000000"
      ]
     },
     "metadata": {},
     "output_type": "display_data"
    }
   ],
   "source": [
    "A_beta[,99]\n",
    "D_beta[,99]"
   ]
  },
  {
   "cell_type": "code",
   "execution_count": 3,
   "metadata": {},
   "outputs": [
    {
     "data": {
      "text/html": [],
      "text/latex": [],
      "text/markdown": [],
      "text/plain": [
       "integer(0)"
      ]
     },
     "metadata": {},
     "output_type": "display_data"
    }
   ],
   "source": [
    "which(is.na(D_beta_1[1,]))"
   ]
  },
  {
   "cell_type": "code",
   "execution_count": 15,
   "metadata": {},
   "outputs": [],
   "source": [
    "write.matrix(A_beta,file=\"simulation222A.csv\")\n",
    "write.matrix(D_beta,file=\"simulation222D.csv\")\n",
    "write.matrix(B_beta,file=\"simulation222B.csv\")\n",
    "write.matrix(LASSO_beta,file=\"simulation222L.csv\")\n"
   ]
  },
  {
   "cell_type": "code",
   "execution_count": null,
   "metadata": {},
   "outputs": [],
   "source": [
    "D_beta<-read.csv(\"simulation222D.csv\", sep=\"\",header=F)\n",
    "A_beta<-read.csv(\"simulation222A.csv\", sep=\"\",header=F)\n",
    "B_beta<-read.csv(\"simulation222B.csv\", sep=\"\",header=F)\n",
    "LASSO_beta<-read.csv(\"simulation222L.csv\", sep=\"\",header=F)\n"
   ]
  },
  {
   "cell_type": "code",
   "execution_count": 10,
   "metadata": {},
   "outputs": [
    {
     "data": {
      "text/html": [
       "<style>\n",
       ".list-inline {list-style: none; margin:0; padding: 0}\n",
       ".list-inline>li {display: inline-block}\n",
       ".list-inline>li:not(:last-child)::after {content: \"\\00b7\"; padding: 0 .5ex}\n",
       "</style>\n",
       "<ol class=list-inline><li>16</li><li>100</li></ol>\n"
      ],
      "text/latex": [
       "\\begin{enumerate*}\n",
       "\\item 16\n",
       "\\item 100\n",
       "\\end{enumerate*}\n"
      ],
      "text/markdown": [
       "1. 16\n",
       "2. 100\n",
       "\n",
       "\n"
      ],
      "text/plain": [
       "[1]  16 100"
      ]
     },
     "metadata": {},
     "output_type": "display_data"
    }
   ],
   "source": [
    "dim(D_beta)"
   ]
  },
  {
   "cell_type": "code",
   "execution_count": 16,
   "metadata": {},
   "outputs": [],
   "source": [
    "check_function<-function(x){\n",
    "    xlen<-length(x)\n",
    "    return(all(x[1:4]!=0)&all(x[5:6]==0)&all(x[7:8]!=0)&all(x[9:10]==0)&all(x[11]!=0)&all(x[12:xlen]==0))\n",
    "}\n",
    "\n",
    "check_function2<-function(x){\n",
    "    xlen<-length(x)\n",
    "    return(all(x[1:4]!=0)&all(x[7:8]!=0)&x[11]!=0)\n",
    "}\n",
    "\n",
    "distance_function<-function(x,b=c(-0.3,0.8,-0.8,0.8,0,0,-0.8,-0.8,0,0,-0.8,rep(0,5))){\n",
    "    return(sqrt(mean((x-b)^2)))\n",
    "}\n",
    "\n",
    "distance_function_2<-function(x,b=c(-0.3,0.8,-0.8,0.8,0,0,-0.8,-0.8,0,0,-0.8,rep(0,5))){\n",
    "    return(mean(abs(x-b)))\n",
    "}"
   ]
  },
  {
   "cell_type": "code",
   "execution_count": null,
   "metadata": {},
   "outputs": [],
   "source": [
    "length(which(apply(D_beta_1,2,check_function)))\n",
    "mean(apply(D_beta_1,2,distance_function_2))"
   ]
  },
  {
   "cell_type": "code",
   "execution_count": 12,
   "metadata": {},
   "outputs": [
    {
     "data": {
      "text/html": [
       "16"
      ],
      "text/latex": [
       "16"
      ],
      "text/markdown": [
       "16"
      ],
      "text/plain": [
       "[1] 16"
      ]
     },
     "metadata": {},
     "output_type": "display_data"
    },
    {
     "data": {
      "text/html": [
       "48"
      ],
      "text/latex": [
       "48"
      ],
      "text/markdown": [
       "48"
      ],
      "text/plain": [
       "[1] 48"
      ]
     },
     "metadata": {},
     "output_type": "display_data"
    },
    {
     "data": {
      "text/html": [
       "1"
      ],
      "text/latex": [
       "1"
      ],
      "text/markdown": [
       "1"
      ],
      "text/plain": [
       "[1] 1"
      ]
     },
     "metadata": {},
     "output_type": "display_data"
    },
    {
     "data": {
      "text/html": [
       "2"
      ],
      "text/latex": [
       "2"
      ],
      "text/markdown": [
       "2"
      ],
      "text/plain": [
       "[1] 2"
      ]
     },
     "metadata": {},
     "output_type": "display_data"
    }
   ],
   "source": [
    "length(which(apply(A_beta,2,check_function)))\n",
    "length(which(apply(B_beta,2,check_function)))\n",
    "length(which(apply(D_beta,2,check_function)))\n",
    "length(which(apply(LASSO_beta,2,check_function)))"
   ]
  },
  {
   "cell_type": "code",
   "execution_count": 17,
   "metadata": {},
   "outputs": [
    {
     "data": {
      "text/html": [
       "100"
      ],
      "text/latex": [
       "100"
      ],
      "text/markdown": [
       "100"
      ],
      "text/plain": [
       "[1] 100"
      ]
     },
     "metadata": {},
     "output_type": "display_data"
    },
    {
     "data": {
      "text/html": [
       "100"
      ],
      "text/latex": [
       "100"
      ],
      "text/markdown": [
       "100"
      ],
      "text/plain": [
       "[1] 100"
      ]
     },
     "metadata": {},
     "output_type": "display_data"
    },
    {
     "data": {
      "text/html": [
       "100"
      ],
      "text/latex": [
       "100"
      ],
      "text/markdown": [
       "100"
      ],
      "text/plain": [
       "[1] 100"
      ]
     },
     "metadata": {},
     "output_type": "display_data"
    },
    {
     "data": {
      "text/html": [
       "100"
      ],
      "text/latex": [
       "100"
      ],
      "text/markdown": [
       "100"
      ],
      "text/plain": [
       "[1] 100"
      ]
     },
     "metadata": {},
     "output_type": "display_data"
    }
   ],
   "source": [
    "length(which(apply(A_beta,2,check_function2)))\n",
    "length(which(apply(B_beta,2,check_function2)))\n",
    "length(which(apply(D_beta,2,check_function2)))\n",
    "length(which(apply(LASSO_beta,2,check_function2)))"
   ]
  },
  {
   "cell_type": "code",
   "execution_count": 13,
   "metadata": {},
   "outputs": [
    {
     "data": {
      "text/html": [
       "0.0694456689940784"
      ],
      "text/latex": [
       "0.0694456689940784"
      ],
      "text/markdown": [
       "0.0694456689940784"
      ],
      "text/plain": [
       "[1] 0.06944567"
      ]
     },
     "metadata": {},
     "output_type": "display_data"
    },
    {
     "data": {
      "text/html": [
       "0.0675908186831214"
      ],
      "text/latex": [
       "0.0675908186831214"
      ],
      "text/markdown": [
       "0.0675908186831214"
      ],
      "text/plain": [
       "[1] 0.06759082"
      ]
     },
     "metadata": {},
     "output_type": "display_data"
    },
    {
     "data": {
      "text/html": [
       "0.0700495920745786"
      ],
      "text/latex": [
       "0.0700495920745786"
      ],
      "text/markdown": [
       "0.0700495920745786"
      ],
      "text/plain": [
       "[1] 0.07004959"
      ]
     },
     "metadata": {},
     "output_type": "display_data"
    },
    {
     "data": {
      "text/html": [
       "0.0633569860601635"
      ],
      "text/latex": [
       "0.0633569860601635"
      ],
      "text/markdown": [
       "0.0633569860601635"
      ],
      "text/plain": [
       "[1] 0.06335699"
      ]
     },
     "metadata": {},
     "output_type": "display_data"
    }
   ],
   "source": [
    "mean(apply(A_beta,2,distance_function_2))\n",
    "mean(apply(B_beta,2,distance_function_2))\n",
    "mean(apply(D_beta,2,distance_function_2))\n",
    "mean(apply(LASSO_beta,2,distance_function_2))"
   ]
  },
  {
   "cell_type": "code",
   "execution_count": 63,
   "metadata": {},
   "outputs": [
    {
     "data": {
      "text/html": [
       "91"
      ],
      "text/latex": [
       "91"
      ],
      "text/markdown": [
       "91"
      ],
      "text/plain": [
       "[1] 91"
      ]
     },
     "metadata": {},
     "output_type": "display_data"
    },
    {
     "data": {
      "text/html": [
       "94"
      ],
      "text/latex": [
       "94"
      ],
      "text/markdown": [
       "94"
      ],
      "text/plain": [
       "[1] 94"
      ]
     },
     "metadata": {},
     "output_type": "display_data"
    },
    {
     "data": {
      "text/html": [
       "100"
      ],
      "text/latex": [
       "100"
      ],
      "text/markdown": [
       "100"
      ],
      "text/plain": [
       "[1] 100"
      ]
     },
     "metadata": {},
     "output_type": "display_data"
    }
   ],
   "source": [
    "length(which(apply(A_beta,2,check_function_2)))\n",
    "length(which(apply(D_beta,2,check_function_2)))\n",
    "length(which(apply(LASSO_beta,2,check_function_2)))"
   ]
  },
  {
   "cell_type": "code",
   "execution_count": 68,
   "metadata": {},
   "outputs": [
    {
     "data": {
      "text/html": [
       "0.180031964628269"
      ],
      "text/latex": [
       "0.180031964628269"
      ],
      "text/markdown": [
       "0.180031964628269"
      ],
      "text/plain": [
       "[1] 0.180032"
      ]
     },
     "metadata": {},
     "output_type": "display_data"
    },
    {
     "data": {
      "text/html": [
       "0.111523857511492"
      ],
      "text/latex": [
       "0.111523857511492"
      ],
      "text/markdown": [
       "0.111523857511492"
      ],
      "text/plain": [
       "[1] 0.1115239"
      ]
     },
     "metadata": {},
     "output_type": "display_data"
    }
   ],
   "source": [
    "mean(apply(A_beta,2,distance_function))\n",
    "mean(apply(A_beta,2,distance_function_2))"
   ]
  },
  {
   "cell_type": "code",
   "execution_count": 69,
   "metadata": {},
   "outputs": [
    {
     "data": {
      "text/html": [
       "0.179682388264374"
      ],
      "text/latex": [
       "0.179682388264374"
      ],
      "text/markdown": [
       "0.179682388264374"
      ],
      "text/plain": [
       "[1] 0.1796824"
      ]
     },
     "metadata": {},
     "output_type": "display_data"
    },
    {
     "data": {
      "text/html": [
       "0.111528134037706"
      ],
      "text/latex": [
       "0.111528134037706"
      ],
      "text/markdown": [
       "0.111528134037706"
      ],
      "text/plain": [
       "[1] 0.1115281"
      ]
     },
     "metadata": {},
     "output_type": "display_data"
    }
   ],
   "source": [
    "mean(apply(D_beta,2,distance_function))\n",
    "mean(apply(D_beta,2,distance_function_2))"
   ]
  },
  {
   "cell_type": "code",
   "execution_count": 70,
   "metadata": {},
   "outputs": [
    {
     "data": {
      "text/html": [
       "0.0892446930783739"
      ],
      "text/latex": [
       "0.0892446930783739"
      ],
      "text/markdown": [
       "0.0892446930783739"
      ],
      "text/plain": [
       "[1] 0.08924469"
      ]
     },
     "metadata": {},
     "output_type": "display_data"
    },
    {
     "data": {
      "text/html": [
       "0.0629375010945733"
      ],
      "text/latex": [
       "0.0629375010945733"
      ],
      "text/markdown": [
       "0.0629375010945733"
      ],
      "text/plain": [
       "[1] 0.0629375"
      ]
     },
     "metadata": {},
     "output_type": "display_data"
    }
   ],
   "source": [
    "mean(apply(LASSO_beta,2,distance_function))\n",
    "mean(apply(LASSO_beta,2,distance_function_2))"
   ]
  },
  {
   "cell_type": "code",
   "execution_count": 16,
   "metadata": {},
   "outputs": [
    {
     "data": {
      "text/html": [
       "0.101706008924588"
      ],
      "text/latex": [
       "0.101706008924588"
      ],
      "text/markdown": [
       "0.101706008924588"
      ],
      "text/plain": [
       "[1] 0.101706"
      ]
     },
     "metadata": {},
     "output_type": "display_data"
    },
    {
     "data": {
      "text/html": [
       "0.104331548337301"
      ],
      "text/latex": [
       "0.104331548337301"
      ],
      "text/markdown": [
       "0.104331548337301"
      ],
      "text/plain": [
       "[1] 0.1043315"
      ]
     },
     "metadata": {},
     "output_type": "display_data"
    },
    {
     "data": {
      "text/html": [
       "0.06293750109475"
      ],
      "text/latex": [
       "0.06293750109475"
      ],
      "text/markdown": [
       "0.06293750109475"
      ],
      "text/plain": [
       "[1] 0.0629375"
      ]
     },
     "metadata": {},
     "output_type": "display_data"
    }
   ],
   "source": [
    "mean(apply(A_beta[,which(apply(A_beta,2,check_function_2))],2,distance_function_2))\n",
    "mean(apply(D_beta[,which(apply(D_beta,2,check_function_2))],2,distance_function_2))\n",
    "mean(apply(LASSO_beta[,which(apply(LASSO_beta,2,check_function_2))],2,distance_function_2))"
   ]
  }
 ],
 "metadata": {
  "kernelspec": {
   "display_name": "R",
   "language": "R",
   "name": "ir"
  },
  "language_info": {
   "codemirror_mode": "r",
   "file_extension": ".r",
   "mimetype": "text/x-r-source",
   "name": "R",
   "pygments_lexer": "r",
   "version": "4.1.1"
  }
 },
 "nbformat": 4,
 "nbformat_minor": 4
}
