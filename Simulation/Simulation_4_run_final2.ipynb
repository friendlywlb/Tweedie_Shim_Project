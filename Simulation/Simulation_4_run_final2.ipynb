{
 "cells": [
  {
   "cell_type": "code",
   "execution_count": 1,
   "metadata": {},
   "outputs": [
    {
     "name": "stderr",
     "output_type": "stream",
     "text": [
      "Loading required package: coda\n",
      "\n",
      "Loading required package: Matrix\n",
      "\n",
      "Loading required package: splines\n",
      "\n",
      "Loading required package: lattice\n",
      "\n",
      "Loaded TDboost 1.2\n",
      "\n",
      "\n",
      "Loading required package: nlme\n",
      "\n",
      "\n",
      "Attaching package: 'nlme'\n",
      "\n",
      "\n",
      "The following objects are masked from 'package:cplm':\n",
      "\n",
      "    fixef, ranef, VarCorr\n",
      "\n",
      "\n",
      "This is mgcv 1.8-38. For overview type 'help(\"mgcv-package\")'.\n",
      "\n",
      "Loaded glmnet 4.1-2\n",
      "\n"
     ]
    }
   ],
   "source": [
    "library(fastDummies)\n",
    "library(cplm)\n",
    "library(tweedie)\n",
    "library(statmod)\n",
    "library(TDboost)\n",
    "library(mgcv)\n",
    "library(MASS)\n",
    "library(glmnet)\n",
    "source(\"S_U2.R\")\n",
    "options(warn=-1)"
   ]
  },
  {
   "cell_type": "code",
   "execution_count": 2,
   "metadata": {},
   "outputs": [],
   "source": [
    "D_beta<-matrix(nrow=16,ncol=100)\n",
    "A_beta<-matrix(nrow=16,ncol=100)\n",
    "LASSO_beta<-matrix(nrow=16,ncol=100)\n",
    "B_beta<-matrix(nrow=16,ncol=100)\n",
    "nc=1"
   ]
  },
  {
   "cell_type": "code",
   "execution_count": 3,
   "metadata": {},
   "outputs": [],
   "source": [
    "while(nc<=100){\n",
    "    x<-matrix( rnorm(1000*10,mean=0,sd=1),1000, 5) \n",
    "    colnames(x)=c('x1','x2','x3','x4','x5')\n",
    "    X<-as.data.frame(x)\n",
    "    b_t<-c(-0.3,0.5,-0.5,0.5,0,0,-.8,-.8,-0.8)\n",
    "    design_x <- model.matrix(~.+x1*x2+x1*x3+x2*x3,data=X)\n",
    "    mu<-exp(design_x%*%b_t)\n",
    "    y_sim<- rTweedie(mu,p=1.5,phi=5)\n",
    "    dd<-as.data.frame(cbind(design_x[,2:6],y_sim))\n",
    "    sam <- sample(rep(1:2,len=1000))\n",
    "    sim_train<-dd[sam==1,]\n",
    "    sim_test<-dd[sam==2,]\n",
    "    sim_train<-as.data.frame(sim_train)\n",
    "    sim_test<-as.data.frame(sim_test)\n",
    "    colnames(sim_train)[6]='y'\n",
    "    colnames(sim_test)[6]='y'\n",
    "    fit_0<-glm(y~.^2,data=sim_train,family=tweedie(link.power=0,var.power=1.5),control=list(maxit=500))\n",
    "    beta_0_t<-c(fit_0$coefficients[1:6])\n",
    "    index=combn(c(1:5),2)\n",
    "    int_coef<-fit_0$coefficients[-(1:6)]\n",
    "    r_0_t<-c()\n",
    "    for (i in 1:length(int_coef)){\n",
    "        tmp_coef<-int_coef[i]/(beta_0_t[index[1,i]+1]*beta_0_t[index[2,i]+1])\n",
    "        r_0_t<-c(r_0_t,tmp_coef)\n",
    "    }\n",
    "    X<-model.matrix(~.^2-1,data=sim_train[,1:5])\n",
    "    qw=cv.glmnet(x=X,y=sim_train$y,family=tweedie(link.power=0,var.power=1.5),control=list(maxit=500),nlambda=10)\n",
    "    LASSO_beta[,nc]<-coef(qw, s=qw$lambda.min)[,1]\n",
    "    as=cv.glmnet(x=X[,1:5],y=sim_train$y,family=tweedie(link.power=0,var.power=1.5),control=list(maxit=500),nlambda=10)\n",
    "    df=cv.glmnet(x=X[,-c(1:5)],y=sim_train$y,family=tweedie(link.power=0,var.power=1.5),control=list(maxit=500),nlambda=10,nfolds=5)\n",
    "    r_lamb<-df$lambda\n",
    "    beta_lamb<-as$lambda\n",
    "    n_lamb<-length(beta_lamb)\n",
    "    power=1.5\n",
    "    final_result1=matrix(nrow=n_lamb,ncol=n_lamb)\n",
    "    final_result2=matrix(nrow=n_lamb,ncol=n_lamb)\n",
    "    final_result3=matrix(nrow=n_lamb,ncol=n_lamb)\n",
    "    for (i in 1:n_lamb){\n",
    "        for (j in 1:n_lamb){\n",
    "            coef_result<-shim_lasso_update_2(sim_train[,1:5],sim_train$y,power,lamb_r=r_lamb[i],lamb_b=beta_lamb[j],r_0_t,beta_0_t)\n",
    "            fitted<-ts_fitted(sim_test[,1:5],coef_result$'beta',coef_result$'r')\n",
    "            final_result1[i,j]=mean(tweedie.dev(sim_test$y,fitted,1.5))\n",
    "            fitted<-ts_fitted(sim_train[,1:5],coef_result$'beta',coef_result$'r')\n",
    "            if (is.infinite(mean(tweedie.dev(sim_train$y,fitted,1.5),na.rm=T))){\n",
    "                    final_result2[i,j]<-999999999\n",
    "                    final_result3[i,j]<-999999999\n",
    "                        }\n",
    "            else{\n",
    "                den<-dtweedie(sim_train$y,mu=fitted+0.0000001,phi=sum(tweedie.dev(sim_train$y,fitted,1.5),na.rm=T)/length(sim_train$y),power=1.5)\n",
    "                df<-length(which(r_beta(coef_result$'beta',coef_result$'r')!=0))\n",
    "                final_result2[i,j]<--2*sum( log(den))+2*(df)\n",
    "                final_result3[i,j]<--2*sum( log(den))+log(length(sim_train$y))*(df)\n",
    "                }\n",
    "    }\n",
    "        }\n",
    "    index1<-which(final_result1==min(final_result1,na.rm=T), arr.ind = TRUE)[1,]\n",
    "    index2<-which(final_result2==min(final_result2,na.rm=T), arr.ind = TRUE)[1,]\n",
    "    index3<-which(final_result3==min(final_result3,na.rm=T), arr.ind = TRUE)[1,]\n",
    "    coef_result<-shim_lasso_update_2(sim_train[,1:5],sim_train$y,power,lamb_r=r_lamb[index1[1]],lamb_b=beta_lamb[index1[2]],r_0_t,beta_0_t)\n",
    "    D_beta[,nc]<-r_beta(coef_result$beta,coef_result$r)\n",
    "    coef_result<-shim_lasso_update_2(sim_train[,1:5],sim_train$y,power,lamb_r=r_lamb[index2[1]],lamb_b=beta_lamb[index2[2]],r_0_t,beta_0_t)\n",
    "    A_beta[,nc]<-r_beta(coef_result$beta,coef_result$r)\n",
    "    coef_result<-shim_lasso_update_2(sim_train[,1:5],sim_train$y,power,lamb_r=r_lamb[index3[1]],lamb_b=beta_lamb[index3[2]],r_0_t,beta_0_t)\n",
    "    B_beta[,nc]<-r_beta(coef_result$beta,coef_result$r)\n",
    "    nc=nc+1\n",
    "}"
   ]
  },
  {
   "cell_type": "code",
   "execution_count": 8,
   "metadata": {},
   "outputs": [
    {
     "data": {
      "text/html": [
       "<style>\n",
       ".list-inline {list-style: none; margin:0; padding: 0}\n",
       ".list-inline>li {display: inline-block}\n",
       ".list-inline>li:not(:last-child)::after {content: \"\\00b7\"; padding: 0 .5ex}\n",
       "</style>\n",
       "<ol class=list-inline><li>9</li><li>10</li><li>11</li><li>12</li><li>13</li><li>14</li><li>15</li><li>16</li><li>17</li><li>18</li><li>19</li><li>20</li><li>21</li><li>22</li><li>23</li><li>24</li><li>25</li><li>26</li><li>27</li><li>28</li><li>29</li><li>30</li><li>31</li><li>32</li><li>33</li><li>34</li><li>35</li><li>36</li><li>37</li><li>38</li><li>39</li><li>40</li><li>41</li><li>42</li><li>43</li><li>44</li><li>45</li><li>46</li><li>47</li><li>48</li><li>49</li><li>50</li><li>51</li><li>52</li><li>53</li><li>54</li><li>55</li><li>56</li><li>57</li><li>58</li><li>59</li><li>60</li><li>61</li><li>62</li><li>63</li><li>64</li><li>65</li><li>66</li><li>67</li><li>68</li><li>69</li><li>70</li><li>71</li><li>72</li><li>73</li><li>74</li><li>75</li><li>76</li><li>77</li><li>78</li><li>79</li><li>80</li><li>81</li><li>82</li><li>83</li><li>84</li><li>85</li><li>86</li><li>87</li><li>88</li><li>89</li><li>90</li><li>91</li><li>92</li><li>93</li><li>94</li><li>95</li><li>96</li><li>97</li><li>98</li><li>99</li><li>100</li></ol>\n"
      ],
      "text/latex": [
       "\\begin{enumerate*}\n",
       "\\item 9\n",
       "\\item 10\n",
       "\\item 11\n",
       "\\item 12\n",
       "\\item 13\n",
       "\\item 14\n",
       "\\item 15\n",
       "\\item 16\n",
       "\\item 17\n",
       "\\item 18\n",
       "\\item 19\n",
       "\\item 20\n",
       "\\item 21\n",
       "\\item 22\n",
       "\\item 23\n",
       "\\item 24\n",
       "\\item 25\n",
       "\\item 26\n",
       "\\item 27\n",
       "\\item 28\n",
       "\\item 29\n",
       "\\item 30\n",
       "\\item 31\n",
       "\\item 32\n",
       "\\item 33\n",
       "\\item 34\n",
       "\\item 35\n",
       "\\item 36\n",
       "\\item 37\n",
       "\\item 38\n",
       "\\item 39\n",
       "\\item 40\n",
       "\\item 41\n",
       "\\item 42\n",
       "\\item 43\n",
       "\\item 44\n",
       "\\item 45\n",
       "\\item 46\n",
       "\\item 47\n",
       "\\item 48\n",
       "\\item 49\n",
       "\\item 50\n",
       "\\item 51\n",
       "\\item 52\n",
       "\\item 53\n",
       "\\item 54\n",
       "\\item 55\n",
       "\\item 56\n",
       "\\item 57\n",
       "\\item 58\n",
       "\\item 59\n",
       "\\item 60\n",
       "\\item 61\n",
       "\\item 62\n",
       "\\item 63\n",
       "\\item 64\n",
       "\\item 65\n",
       "\\item 66\n",
       "\\item 67\n",
       "\\item 68\n",
       "\\item 69\n",
       "\\item 70\n",
       "\\item 71\n",
       "\\item 72\n",
       "\\item 73\n",
       "\\item 74\n",
       "\\item 75\n",
       "\\item 76\n",
       "\\item 77\n",
       "\\item 78\n",
       "\\item 79\n",
       "\\item 80\n",
       "\\item 81\n",
       "\\item 82\n",
       "\\item 83\n",
       "\\item 84\n",
       "\\item 85\n",
       "\\item 86\n",
       "\\item 87\n",
       "\\item 88\n",
       "\\item 89\n",
       "\\item 90\n",
       "\\item 91\n",
       "\\item 92\n",
       "\\item 93\n",
       "\\item 94\n",
       "\\item 95\n",
       "\\item 96\n",
       "\\item 97\n",
       "\\item 98\n",
       "\\item 99\n",
       "\\item 100\n",
       "\\end{enumerate*}\n"
      ],
      "text/markdown": [
       "1. 9\n",
       "2. 10\n",
       "3. 11\n",
       "4. 12\n",
       "5. 13\n",
       "6. 14\n",
       "7. 15\n",
       "8. 16\n",
       "9. 17\n",
       "10. 18\n",
       "11. 19\n",
       "12. 20\n",
       "13. 21\n",
       "14. 22\n",
       "15. 23\n",
       "16. 24\n",
       "17. 25\n",
       "18. 26\n",
       "19. 27\n",
       "20. 28\n",
       "21. 29\n",
       "22. 30\n",
       "23. 31\n",
       "24. 32\n",
       "25. 33\n",
       "26. 34\n",
       "27. 35\n",
       "28. 36\n",
       "29. 37\n",
       "30. 38\n",
       "31. 39\n",
       "32. 40\n",
       "33. 41\n",
       "34. 42\n",
       "35. 43\n",
       "36. 44\n",
       "37. 45\n",
       "38. 46\n",
       "39. 47\n",
       "40. 48\n",
       "41. 49\n",
       "42. 50\n",
       "43. 51\n",
       "44. 52\n",
       "45. 53\n",
       "46. 54\n",
       "47. 55\n",
       "48. 56\n",
       "49. 57\n",
       "50. 58\n",
       "51. 59\n",
       "52. 60\n",
       "53. 61\n",
       "54. 62\n",
       "55. 63\n",
       "56. 64\n",
       "57. 65\n",
       "58. 66\n",
       "59. 67\n",
       "60. 68\n",
       "61. 69\n",
       "62. 70\n",
       "63. 71\n",
       "64. 72\n",
       "65. 73\n",
       "66. 74\n",
       "67. 75\n",
       "68. 76\n",
       "69. 77\n",
       "70. 78\n",
       "71. 79\n",
       "72. 80\n",
       "73. 81\n",
       "74. 82\n",
       "75. 83\n",
       "76. 84\n",
       "77. 85\n",
       "78. 86\n",
       "79. 87\n",
       "80. 88\n",
       "81. 89\n",
       "82. 90\n",
       "83. 91\n",
       "84. 92\n",
       "85. 93\n",
       "86. 94\n",
       "87. 95\n",
       "88. 96\n",
       "89. 97\n",
       "90. 98\n",
       "91. 99\n",
       "92. 100\n",
       "\n",
       "\n"
      ],
      "text/plain": [
       " [1]   9  10  11  12  13  14  15  16  17  18  19  20  21  22  23  24  25  26  27\n",
       "[20]  28  29  30  31  32  33  34  35  36  37  38  39  40  41  42  43  44  45  46\n",
       "[39]  47  48  49  50  51  52  53  54  55  56  57  58  59  60  61  62  63  64  65\n",
       "[58]  66  67  68  69  70  71  72  73  74  75  76  77  78  79  80  81  82  83  84\n",
       "[77]  85  86  87  88  89  90  91  92  93  94  95  96  97  98  99 100"
      ]
     },
     "metadata": {},
     "output_type": "display_data"
    }
   ],
   "source": [
    "which(is.na(A_beta[1,]))"
   ]
  },
  {
   "cell_type": "code",
   "execution_count": 7,
   "metadata": {},
   "outputs": [],
   "source": [
    "write.matrix(A_beta,file=\"simulation444A.csv\")\n",
    "write.matrix(D_beta,file=\"simulation444D.csv\")\n",
    "write.matrix(B_beta,file=\"simulation444B.csv\")\n",
    "write.matrix(LASSO_beta,file=\"simulation444L.csv\")"
   ]
  },
  {
   "cell_type": "code",
   "execution_count": 8,
   "metadata": {},
   "outputs": [],
   "source": [
    "check_function<-function(x){\n",
    "    xlen<-length(x)\n",
    "    return(all(x[1:4]!=0)&all(x[5:6]==0)&all(x[7:8]!=0)&all(x[9:10]==0)&all(x[11]!=0)&all(x[12:xlen]==0))\n",
    "}\n",
    "\n",
    "check_function2<-function(x){\n",
    "    xlen<-length(x)\n",
    "    return(all(x[1:4]!=0)&all(x[7:8]!=0)&x[11]!=0)\n",
    "}\n",
    "\n",
    "distance_function<-function(x,b=c(-0.3,0.5,-0.5,0.5,0,0,-0.8,-0.8,0,0,-0.8,rep(0,5))){\n",
    "    return(sqrt(mean((x-b)^2)))\n",
    "}\n",
    "\n",
    "distance_function_2<-function(x,b=c(-0.3,0.5,-0.5,0.5,0,0,-0.8,-0.8,0,0,-0.8,rep(0,5))){\n",
    "    return(mean(abs(x-b)))\n",
    "}"
   ]
  },
  {
   "cell_type": "code",
   "execution_count": 5,
   "metadata": {},
   "outputs": [
    {
     "data": {
      "text/html": [
       "10"
      ],
      "text/latex": [
       "10"
      ],
      "text/markdown": [
       "10"
      ],
      "text/plain": [
       "[1] 10"
      ]
     },
     "metadata": {},
     "output_type": "display_data"
    },
    {
     "data": {
      "text/html": [
       "48"
      ],
      "text/latex": [
       "48"
      ],
      "text/markdown": [
       "48"
      ],
      "text/plain": [
       "[1] 48"
      ]
     },
     "metadata": {},
     "output_type": "display_data"
    },
    {
     "data": {
      "text/html": [
       "6"
      ],
      "text/latex": [
       "6"
      ],
      "text/markdown": [
       "6"
      ],
      "text/plain": [
       "[1] 6"
      ]
     },
     "metadata": {},
     "output_type": "display_data"
    },
    {
     "data": {
      "text/html": [
       "0"
      ],
      "text/latex": [
       "0"
      ],
      "text/markdown": [
       "0"
      ],
      "text/plain": [
       "[1] 0"
      ]
     },
     "metadata": {},
     "output_type": "display_data"
    }
   ],
   "source": [
    "length(which(apply(A_beta,2,check_function)))\n",
    "length(which(apply(B_beta,2,check_function)))\n",
    "length(which(apply(D_beta,2,check_function)))\n",
    "length(which(apply(LASSO_beta,2,check_function)))"
   ]
  },
  {
   "cell_type": "code",
   "execution_count": 9,
   "metadata": {},
   "outputs": [
    {
     "data": {
      "text/html": [
       "100"
      ],
      "text/latex": [
       "100"
      ],
      "text/markdown": [
       "100"
      ],
      "text/plain": [
       "[1] 100"
      ]
     },
     "metadata": {},
     "output_type": "display_data"
    },
    {
     "data": {
      "text/html": [
       "99"
      ],
      "text/latex": [
       "99"
      ],
      "text/markdown": [
       "99"
      ],
      "text/plain": [
       "[1] 99"
      ]
     },
     "metadata": {},
     "output_type": "display_data"
    },
    {
     "data": {
      "text/html": [
       "100"
      ],
      "text/latex": [
       "100"
      ],
      "text/markdown": [
       "100"
      ],
      "text/plain": [
       "[1] 100"
      ]
     },
     "metadata": {},
     "output_type": "display_data"
    },
    {
     "data": {
      "text/html": [
       "100"
      ],
      "text/latex": [
       "100"
      ],
      "text/markdown": [
       "100"
      ],
      "text/plain": [
       "[1] 100"
      ]
     },
     "metadata": {},
     "output_type": "display_data"
    }
   ],
   "source": [
    "length(which(apply(A_beta,2,check_function2)))\n",
    "length(which(apply(B_beta,2,check_function2)))\n",
    "length(which(apply(D_beta,2,check_function2)))\n",
    "length(which(apply(LASSO_beta,2,check_function2)))"
   ]
  },
  {
   "cell_type": "code",
   "execution_count": 6,
   "metadata": {},
   "outputs": [
    {
     "data": {
      "text/html": [
       "0.0632588586003122"
      ],
      "text/latex": [
       "0.0632588586003122"
      ],
      "text/markdown": [
       "0.0632588586003122"
      ],
      "text/plain": [
       "[1] 0.06325886"
      ]
     },
     "metadata": {},
     "output_type": "display_data"
    },
    {
     "data": {
      "text/html": [
       "0.0632527615044062"
      ],
      "text/latex": [
       "0.0632527615044062"
      ],
      "text/markdown": [
       "0.0632527615044062"
      ],
      "text/plain": [
       "[1] 0.06325276"
      ]
     },
     "metadata": {},
     "output_type": "display_data"
    },
    {
     "data": {
      "text/html": [
       "0.064676581004119"
      ],
      "text/latex": [
       "0.064676581004119"
      ],
      "text/markdown": [
       "0.064676581004119"
      ],
      "text/plain": [
       "[1] 0.06467658"
      ]
     },
     "metadata": {},
     "output_type": "display_data"
    },
    {
     "data": {
      "text/html": [
       "0.0635446713045954"
      ],
      "text/latex": [
       "0.0635446713045954"
      ],
      "text/markdown": [
       "0.0635446713045954"
      ],
      "text/plain": [
       "[1] 0.06354467"
      ]
     },
     "metadata": {},
     "output_type": "display_data"
    }
   ],
   "source": [
    "mean(apply(A_beta,2,distance_function_2))\n",
    "mean(apply(B_beta,2,distance_function_2))\n",
    "mean(apply(D_beta,2,distance_function_2))\n",
    "mean(apply(LASSO_beta,2,distance_function_2))"
   ]
  },
  {
   "cell_type": "code",
   "execution_count": 16,
   "metadata": {},
   "outputs": [
    {
     "data": {
      "text/html": [
       "94"
      ],
      "text/latex": [
       "94"
      ],
      "text/markdown": [
       "94"
      ],
      "text/plain": [
       "[1] 94"
      ]
     },
     "metadata": {},
     "output_type": "display_data"
    },
    {
     "data": {
      "text/html": [
       "96"
      ],
      "text/latex": [
       "96"
      ],
      "text/markdown": [
       "96"
      ],
      "text/plain": [
       "[1] 96"
      ]
     },
     "metadata": {},
     "output_type": "display_data"
    },
    {
     "data": {
      "text/html": [
       "100"
      ],
      "text/latex": [
       "100"
      ],
      "text/markdown": [
       "100"
      ],
      "text/plain": [
       "[1] 100"
      ]
     },
     "metadata": {},
     "output_type": "display_data"
    }
   ],
   "source": [
    "length(which(apply(A_beta_11,2,check_function_2)))\n",
    "length(which(apply(D_beta_11,2,check_function_2)))\n",
    "length(which(apply(L_beta_11,2,check_function_2)))"
   ]
  },
  {
   "cell_type": "code",
   "execution_count": 18,
   "metadata": {},
   "outputs": [
    {
     "data": {
      "text/html": [
       "0.120688816625686"
      ],
      "text/latex": [
       "0.120688816625686"
      ],
      "text/markdown": [
       "0.120688816625686"
      ],
      "text/plain": [
       "[1] 0.1206888"
      ]
     },
     "metadata": {},
     "output_type": "display_data"
    },
    {
     "data": {
      "text/html": [
       "0.0746402031476769"
      ],
      "text/latex": [
       "0.0746402031476769"
      ],
      "text/markdown": [
       "0.0746402031476769"
      ],
      "text/plain": [
       "[1] 0.0746402"
      ]
     },
     "metadata": {},
     "output_type": "display_data"
    }
   ],
   "source": [
    "mean(apply(A_beta_11,2,distance_function))\n",
    "mean(apply(A_beta_11,2,distance_function_2))"
   ]
  },
  {
   "cell_type": "code",
   "execution_count": 19,
   "metadata": {},
   "outputs": [
    {
     "data": {
      "text/html": [
       "0.117752340535319"
      ],
      "text/latex": [
       "0.117752340535319"
      ],
      "text/markdown": [
       "0.117752340535319"
      ],
      "text/plain": [
       "[1] 0.1177523"
      ]
     },
     "metadata": {},
     "output_type": "display_data"
    },
    {
     "data": {
      "text/html": [
       "0.0771144639948975"
      ],
      "text/latex": [
       "0.0771144639948975"
      ],
      "text/markdown": [
       "0.0771144639948975"
      ],
      "text/plain": [
       "[1] 0.07711446"
      ]
     },
     "metadata": {},
     "output_type": "display_data"
    }
   ],
   "source": [
    "mean(apply(D_beta_11,2,distance_function))\n",
    "mean(apply(D_beta_11,2,distance_function_2))"
   ]
  },
  {
   "cell_type": "code",
   "execution_count": 20,
   "metadata": {},
   "outputs": [
    {
     "data": {
      "text/html": [
       "0.0959042906832684"
      ],
      "text/latex": [
       "0.0959042906832684"
      ],
      "text/markdown": [
       "0.0959042906832684"
      ],
      "text/plain": [
       "[1] 0.09590429"
      ]
     },
     "metadata": {},
     "output_type": "display_data"
    },
    {
     "data": {
      "text/html": [
       "0.068002677117635"
      ],
      "text/latex": [
       "0.068002677117635"
      ],
      "text/markdown": [
       "0.068002677117635"
      ],
      "text/plain": [
       "[1] 0.06800268"
      ]
     },
     "metadata": {},
     "output_type": "display_data"
    }
   ],
   "source": [
    "mean(apply(L_beta_11,2,distance_function))\n",
    "mean(apply(L_beta_11,2,distance_function_2))"
   ]
  }
 ],
 "metadata": {
  "kernelspec": {
   "display_name": "R",
   "language": "R",
   "name": "ir"
  },
  "language_info": {
   "codemirror_mode": "r",
   "file_extension": ".r",
   "mimetype": "text/x-r-source",
   "name": "R",
   "pygments_lexer": "r",
   "version": "4.1.1"
  }
 },
 "nbformat": 4,
 "nbformat_minor": 4
}
