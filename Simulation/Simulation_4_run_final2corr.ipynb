{
 "cells": [
  {
   "cell_type": "code",
   "execution_count": 1,
   "metadata": {},
   "outputs": [
    {
     "name": "stderr",
     "output_type": "stream",
     "text": [
      "Loading required package: coda\n",
      "\n",
      "Loading required package: Matrix\n",
      "\n",
      "Loading required package: splines\n",
      "\n",
      "Loading required package: lattice\n",
      "\n",
      "Loaded TDboost 1.2\n",
      "\n",
      "\n",
      "Loading required package: nlme\n",
      "\n",
      "\n",
      "Attaching package: 'nlme'\n",
      "\n",
      "\n",
      "The following objects are masked from 'package:cplm':\n",
      "\n",
      "    fixef, ranef, VarCorr\n",
      "\n",
      "\n",
      "This is mgcv 1.8-38. For overview type 'help(\"mgcv-package\")'.\n",
      "\n",
      "Loaded glmnet 4.1-2\n",
      "\n"
     ]
    }
   ],
   "source": [
    "library(fastDummies)\n",
    "library(cplm)\n",
    "library(tweedie)\n",
    "library(statmod)\n",
    "library(TDboost)\n",
    "library(mgcv)\n",
    "library(MASS)\n",
    "library(glmnet)\n",
    "source(\"S_U2.R\")\n",
    "options(warn=-1)"
   ]
  },
  {
   "cell_type": "code",
   "execution_count": 2,
   "metadata": {},
   "outputs": [],
   "source": [
    "D_beta<-matrix(nrow=16,ncol=100)\n",
    "A_beta<-matrix(nrow=16,ncol=100)\n",
    "LASSO_beta<-matrix(nrow=16,ncol=100)\n",
    "B_beta<-matrix(nrow=16,ncol=100)\n",
    "nc=1"
   ]
  },
  {
   "cell_type": "code",
   "execution_count": 3,
   "metadata": {},
   "outputs": [],
   "source": [
    "while(nc<=100){\n",
    "    sigma_matrix = matrix(nrow=5,ncol=5)\n",
    "    for (i in 1:5){\n",
    "        for (j in 1:5){\n",
    "            if (i==j){\n",
    "                sigma_matrix[i,j]<-1\n",
    "            }\n",
    "            else{\n",
    "                sigma_matrix[i,j]<-0.5^abs(i-j)\n",
    "            }\n",
    "        }\n",
    "    }\n",
    "    x<- mvrnorm(n = 1000, mu=c(rep(0,5)), Sigma=sigma_matrix, tol = 1e-6, empirical = FALSE, EISPACK = FALSE)\n",
    "    colnames(x)=c('x1','x2','x3','x4','x5')\n",
    "    X<-as.data.frame(x)\n",
    "    b_t<-c(-0.3,0.5,-0.5,0.5,0,0,-.8,-.8,-0.8)\n",
    "    design_x <- model.matrix(~.+x1*x2+x1*x3+x2*x3,data=X)\n",
    "    mu<-exp(design_x%*%b_t)\n",
    "    y_sim<- rTweedie(mu,p=1.5,phi=5)\n",
    "    dd<-as.data.frame(cbind(design_x[,2:6],y_sim))\n",
    "    sam <- sample(rep(1:2,len=1000))\n",
    "    sim_train<-dd[sam==1,]\n",
    "    sim_test<-dd[sam==2,]\n",
    "    sim_train<-as.data.frame(sim_train)\n",
    "    sim_test<-as.data.frame(sim_test)\n",
    "    colnames(sim_train)[6]='y'\n",
    "    colnames(sim_test)[6]='y'\n",
    "    fit_0<-glm(y~.^2,data=sim_train,family=tweedie(link.power=0,var.power=1.5),control=list(maxit=500))\n",
    "    beta_0_t<-c(fit_0$coefficients[1:6])\n",
    "    index=combn(c(1:5),2)\n",
    "    int_coef<-fit_0$coefficients[-(1:6)]\n",
    "    r_0_t<-c()\n",
    "    for (i in 1:length(int_coef)){\n",
    "        tmp_coef<-int_coef[i]/(beta_0_t[index[1,i]+1]*beta_0_t[index[2,i]+1])\n",
    "        r_0_t<-c(r_0_t,tmp_coef)\n",
    "    }\n",
    "    X<-model.matrix(~.^2-1,data=sim_train[,1:5])\n",
    "    qw=cv.glmnet(x=X,y=sim_train$y,family=tweedie(link.power=0,var.power=1.5),control=list(maxit=500),nlambda=10)\n",
    "    LASSO_beta[,nc]<-coef(qw, s=qw$lambda.min)[,1]\n",
    "    as=cv.glmnet(x=X[,1:5],y=sim_train$y,family=tweedie(link.power=0,var.power=1.5),control=list(maxit=500),nlambda=10)\n",
    "    df=cv.glmnet(x=X[,-c(1:5)],y=sim_train$y,family=tweedie(link.power=0,var.power=1.5),control=list(maxit=500),nlambda=10,nfolds=5)\n",
    "    r_lamb<-df$lambda\n",
    "    beta_lamb<-as$lambda\n",
    "    n_lamb<-length(beta_lamb)\n",
    "    power=1.5\n",
    "    final_result1=matrix(nrow=n_lamb,ncol=n_lamb)\n",
    "    final_result2=matrix(nrow=n_lamb,ncol=n_lamb)\n",
    "    final_result3=matrix(nrow=n_lamb,ncol=n_lamb)\n",
    "    for (i in 1:n_lamb){\n",
    "        for (j in 1:n_lamb){\n",
    "            coef_result<-shim_lasso_update_2(sim_train[,1:5],sim_train$y,power,lamb_r=r_lamb[i],lamb_b=beta_lamb[j],r_0_t,beta_0_t)\n",
    "            fitted<-ts_fitted(sim_test[,1:5],coef_result$'beta',coef_result$'r')\n",
    "            final_result1[i,j]=mean(tweedie.dev(sim_test$y,fitted,1.5))\n",
    "            fitted<-ts_fitted(sim_train[,1:5],coef_result$'beta',coef_result$'r')\n",
    "            if (is.infinite(mean(tweedie.dev(sim_train$y,fitted,1.5),na.rm=T))){\n",
    "                    final_result2[i,j]<-999999999\n",
    "                    final_result3[i,j]<-999999999\n",
    "                        }\n",
    "            else{\n",
    "                den<-dtweedie(sim_train$y,mu=fitted+0.0000001,phi=sum(tweedie.dev(sim_train$y,fitted,1.5),na.rm=T)/length(sim_train$y),power=1.5)\n",
    "                df<-length(which(r_beta(coef_result$'beta',coef_result$'r')!=0))\n",
    "                final_result2[i,j]<--2*sum( log(den))+2*(df)\n",
    "                final_result3[i,j]<--2*sum( log(den))+log(length(sim_train$y))*(df)\n",
    "                }\n",
    "    }\n",
    "        }\n",
    "    index1<-which(final_result1==min(final_result1,na.rm=T), arr.ind = TRUE)[1,]\n",
    "    index2<-which(final_result2==min(final_result2,na.rm=T), arr.ind = TRUE)[1,]\n",
    "    index3<-which(final_result3==min(final_result3,na.rm=T), arr.ind = TRUE)[1,]\n",
    "    coef_result<-shim_lasso_update_2(sim_train[,1:5],sim_train$y,power,lamb_r=r_lamb[index1[1]],lamb_b=beta_lamb[index1[2]],r_0_t,beta_0_t)\n",
    "    D_beta[,nc]<-r_beta(coef_result$beta,coef_result$r)\n",
    "    coef_result<-shim_lasso_update_2(sim_train[,1:5],sim_train$y,power,lamb_r=r_lamb[index2[1]],lamb_b=beta_lamb[index2[2]],r_0_t,beta_0_t)\n",
    "    A_beta[,nc]<-r_beta(coef_result$beta,coef_result$r)\n",
    "    coef_result<-shim_lasso_update_2(sim_train[,1:5],sim_train$y,power,lamb_r=r_lamb[index3[1]],lamb_b=beta_lamb[index3[2]],r_0_t,beta_0_t)\n",
    "    B_beta[,nc]<-r_beta(coef_result$beta,coef_result$r)\n",
    "    nc=nc+1\n",
    "}"
   ]
  },
  {
   "cell_type": "code",
   "execution_count": 11,
   "metadata": {},
   "outputs": [
    {
     "data": {
      "text/plain": [
       "    Min.  1st Qu.   Median     Mean  3rd Qu.     Max. \n",
       "  0.0000   0.0000   0.0000   0.8176   0.0000 118.5922 "
      ]
     },
     "metadata": {},
     "output_type": "display_data"
    }
   ],
   "source": [
    "summary(y_sim)"
   ]
  },
  {
   "cell_type": "code",
   "execution_count": 15,
   "metadata": {},
   "outputs": [],
   "source": [
    "write.matrix(A_beta,file=\"simulation444Ac.csv\")\n",
    "write.matrix(D_beta,file=\"simulation444Dc.csv\")\n",
    "write.matrix(B_beta,file=\"simulation444Bc.csv\")\n",
    "write.matrix(LASSO_beta,file=\"simulation444Lc.csv\")"
   ]
  },
  {
   "cell_type": "code",
   "execution_count": 10,
   "metadata": {},
   "outputs": [],
   "source": [
    "check_function<-function(x){\n",
    "    xlen<-length(x)\n",
    "    return(all(x[1:4]!=0)&all(x[5:6]==0)&all(x[7:8]!=0)&all(x[9:10]==0)&all(x[11]!=0)&all(x[12:xlen]==0))\n",
    "}\n",
    "\n",
    "check_function2<-function(x){\n",
    "    xlen<-length(x)\n",
    "    return(all(x[1:4]!=0)&all(x[7:8]!=0)&x[11]!=0)\n",
    "}\n",
    "\n",
    "distance_function<-function(x,b=c(-0.3,0.5,-0.5,0.5,0,0,-0.8,-0.8,0,0,-0.8,rep(0,5))){\n",
    "    return(sqrt(mean((x-b)^2)))\n",
    "}\n",
    "\n",
    "distance_function_2<-function(x,b=c(-0.3,0.5,-0.5,0.5,0,0,-0.8,-0.8,0,0,-0.8,rep(0,5))){\n",
    "    return(mean(abs(x-b)))\n",
    "}"
   ]
  },
  {
   "cell_type": "code",
   "execution_count": 11,
   "metadata": {},
   "outputs": [
    {
     "data": {
      "text/html": [
       "6"
      ],
      "text/latex": [
       "6"
      ],
      "text/markdown": [
       "6"
      ],
      "text/plain": [
       "[1] 6"
      ]
     },
     "metadata": {},
     "output_type": "display_data"
    },
    {
     "data": {
      "text/html": [
       "25"
      ],
      "text/latex": [
       "25"
      ],
      "text/markdown": [
       "25"
      ],
      "text/plain": [
       "[1] 25"
      ]
     },
     "metadata": {},
     "output_type": "display_data"
    },
    {
     "data": {
      "text/html": [
       "4"
      ],
      "text/latex": [
       "4"
      ],
      "text/markdown": [
       "4"
      ],
      "text/plain": [
       "[1] 4"
      ]
     },
     "metadata": {},
     "output_type": "display_data"
    },
    {
     "data": {
      "text/html": [
       "0"
      ],
      "text/latex": [
       "0"
      ],
      "text/markdown": [
       "0"
      ],
      "text/plain": [
       "[1] 0"
      ]
     },
     "metadata": {},
     "output_type": "display_data"
    }
   ],
   "source": [
    "length(which(apply(A_beta,2,check_function)))\n",
    "length(which(apply(B_beta,2,check_function)))\n",
    "length(which(apply(D_beta,2,check_function)))\n",
    "length(which(apply(LASSO_beta,2,check_function)))"
   ]
  },
  {
   "cell_type": "code",
   "execution_count": 13,
   "metadata": {},
   "outputs": [
    {
     "data": {
      "text/html": [
       "100"
      ],
      "text/latex": [
       "100"
      ],
      "text/markdown": [
       "100"
      ],
      "text/plain": [
       "[1] 100"
      ]
     },
     "metadata": {},
     "output_type": "display_data"
    },
    {
     "data": {
      "text/html": [
       "84"
      ],
      "text/latex": [
       "84"
      ],
      "text/markdown": [
       "84"
      ],
      "text/plain": [
       "[1] 84"
      ]
     },
     "metadata": {},
     "output_type": "display_data"
    },
    {
     "data": {
      "text/html": [
       "98"
      ],
      "text/latex": [
       "98"
      ],
      "text/markdown": [
       "98"
      ],
      "text/plain": [
       "[1] 98"
      ]
     },
     "metadata": {},
     "output_type": "display_data"
    },
    {
     "data": {
      "text/html": [
       "97"
      ],
      "text/latex": [
       "97"
      ],
      "text/markdown": [
       "97"
      ],
      "text/plain": [
       "[1] 97"
      ]
     },
     "metadata": {},
     "output_type": "display_data"
    }
   ],
   "source": [
    "length(which(apply(A_beta,2,check_function2)))\n",
    "length(which(apply(B_beta,2,check_function2)))\n",
    "length(which(apply(D_beta,2,check_function2)))\n",
    "length(which(apply(LASSO_beta,2,check_function2)))"
   ]
  },
  {
   "cell_type": "code",
   "execution_count": 14,
   "metadata": {},
   "outputs": [
    {
     "data": {
      "text/html": [
       "0.102140809153731"
      ],
      "text/latex": [
       "0.102140809153731"
      ],
      "text/markdown": [
       "0.102140809153731"
      ],
      "text/plain": [
       "[1] 0.1021408"
      ]
     },
     "metadata": {},
     "output_type": "display_data"
    },
    {
     "data": {
      "text/html": [
       "0.105979866151235"
      ],
      "text/latex": [
       "0.105979866151235"
      ],
      "text/markdown": [
       "0.105979866151235"
      ],
      "text/plain": [
       "[1] 0.1059799"
      ]
     },
     "metadata": {},
     "output_type": "display_data"
    },
    {
     "data": {
      "text/html": [
       "0.0931483146219698"
      ],
      "text/latex": [
       "0.0931483146219698"
      ],
      "text/markdown": [
       "0.0931483146219698"
      ],
      "text/plain": [
       "[1] 0.09314831"
      ]
     },
     "metadata": {},
     "output_type": "display_data"
    },
    {
     "data": {
      "text/html": [
       "0.100403732588698"
      ],
      "text/latex": [
       "0.100403732588698"
      ],
      "text/markdown": [
       "0.100403732588698"
      ],
      "text/plain": [
       "[1] 0.1004037"
      ]
     },
     "metadata": {},
     "output_type": "display_data"
    }
   ],
   "source": [
    "mean(apply(A_beta,2,distance_function_2))\n",
    "mean(apply(B_beta,2,distance_function_2))\n",
    "mean(apply(D_beta,2,distance_function_2))\n",
    "mean(apply(LASSO_beta,2,distance_function_2))"
   ]
  },
  {
   "cell_type": "code",
   "execution_count": 7,
   "metadata": {},
   "outputs": [
    {
     "data": {
      "text/html": [
       "100"
      ],
      "text/latex": [
       "100"
      ],
      "text/markdown": [
       "100"
      ],
      "text/plain": [
       "[1] 100"
      ]
     },
     "metadata": {},
     "output_type": "display_data"
    },
    {
     "data": {
      "text/html": [
       "98"
      ],
      "text/latex": [
       "98"
      ],
      "text/markdown": [
       "98"
      ],
      "text/plain": [
       "[1] 98"
      ]
     },
     "metadata": {},
     "output_type": "display_data"
    },
    {
     "data": {
      "text/html": [
       "97"
      ],
      "text/latex": [
       "97"
      ],
      "text/markdown": [
       "97"
      ],
      "text/plain": [
       "[1] 97"
      ]
     },
     "metadata": {},
     "output_type": "display_data"
    }
   ],
   "source": [
    "length(which(apply(A_beta,2,check_function_2)))\n",
    "length(which(apply(D_beta,2,check_function_2)))\n",
    "length(which(apply(LASSO_beta,2,check_function_2)))"
   ]
  },
  {
   "cell_type": "code",
   "execution_count": 8,
   "metadata": {},
   "outputs": [
    {
     "data": {
      "text/html": [
       "0.172609692917507"
      ],
      "text/latex": [
       "0.172609692917507"
      ],
      "text/markdown": [
       "0.172609692917507"
      ],
      "text/plain": [
       "[1] 0.1726097"
      ]
     },
     "metadata": {},
     "output_type": "display_data"
    },
    {
     "data": {
      "text/html": [
       "0.112472973256866"
      ],
      "text/latex": [
       "0.112472973256866"
      ],
      "text/markdown": [
       "0.112472973256866"
      ],
      "text/plain": [
       "[1] 0.112473"
      ]
     },
     "metadata": {},
     "output_type": "display_data"
    }
   ],
   "source": [
    "mean(apply(A_beta,2,distance_function))\n",
    "mean(apply(A_beta,2,distance_function_2))"
   ]
  },
  {
   "cell_type": "code",
   "execution_count": 9,
   "metadata": {},
   "outputs": [
    {
     "data": {
      "text/html": [
       "0.159558679726436"
      ],
      "text/latex": [
       "0.159558679726436"
      ],
      "text/markdown": [
       "0.159558679726436"
      ],
      "text/plain": [
       "[1] 0.1595587"
      ]
     },
     "metadata": {},
     "output_type": "display_data"
    },
    {
     "data": {
      "text/html": [
       "0.10870505954474"
      ],
      "text/latex": [
       "0.10870505954474"
      ],
      "text/markdown": [
       "0.10870505954474"
      ],
      "text/plain": [
       "[1] 0.1087051"
      ]
     },
     "metadata": {},
     "output_type": "display_data"
    }
   ],
   "source": [
    "mean(apply(D_beta,2,distance_function))\n",
    "mean(apply(D_beta,2,distance_function_2))"
   ]
  },
  {
   "cell_type": "code",
   "execution_count": 10,
   "metadata": {},
   "outputs": [
    {
     "data": {
      "text/html": [
       "0.152000568179353"
      ],
      "text/latex": [
       "0.152000568179353"
      ],
      "text/markdown": [
       "0.152000568179353"
      ],
      "text/plain": [
       "[1] 0.1520006"
      ]
     },
     "metadata": {},
     "output_type": "display_data"
    },
    {
     "data": {
      "text/html": [
       "0.10504431828511"
      ],
      "text/latex": [
       "0.10504431828511"
      ],
      "text/markdown": [
       "0.10504431828511"
      ],
      "text/plain": [
       "[1] 0.1050443"
      ]
     },
     "metadata": {},
     "output_type": "display_data"
    }
   ],
   "source": [
    "mean(apply(LASSO_beta,2,distance_function))\n",
    "mean(apply(LASSO_beta,2,distance_function_2))"
   ]
  },
  {
   "cell_type": "code",
   "execution_count": 12,
   "metadata": {},
   "outputs": [
    {
     "data": {
      "text/html": [
       "0.112472973256866"
      ],
      "text/latex": [
       "0.112472973256866"
      ],
      "text/markdown": [
       "0.112472973256866"
      ],
      "text/plain": [
       "[1] 0.112473"
      ]
     },
     "metadata": {},
     "output_type": "display_data"
    },
    {
     "data": {
      "text/html": [
       "0.106294155545308"
      ],
      "text/latex": [
       "0.106294155545308"
      ],
      "text/markdown": [
       "0.106294155545308"
      ],
      "text/plain": [
       "[1] 0.1062942"
      ]
     },
     "metadata": {},
     "output_type": "display_data"
    },
    {
     "data": {
      "text/html": [
       "0.103776839167109"
      ],
      "text/latex": [
       "0.103776839167109"
      ],
      "text/markdown": [
       "0.103776839167109"
      ],
      "text/plain": [
       "[1] 0.1037768"
      ]
     },
     "metadata": {},
     "output_type": "display_data"
    }
   ],
   "source": [
    "mean(apply(A_beta[,which(apply(A_beta,2,check_function_2))],2,distance_function_2))\n",
    "mean(apply(D_beta[,which(apply(D_beta,2,check_function_2))],2,distance_function_2))\n",
    "mean(apply(LASSO_beta[,which(apply(LASSO_beta,2,check_function_2))],2,distance_function_2))"
   ]
  }
 ],
 "metadata": {
  "kernelspec": {
   "display_name": "R",
   "language": "R",
   "name": "ir"
  },
  "language_info": {
   "codemirror_mode": "r",
   "file_extension": ".r",
   "mimetype": "text/x-r-source",
   "name": "R",
   "pygments_lexer": "r",
   "version": "4.1.1"
  }
 },
 "nbformat": 4,
 "nbformat_minor": 4
}
