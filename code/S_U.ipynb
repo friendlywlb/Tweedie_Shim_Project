{
 "cells": [
  {
   "cell_type": "markdown",
   "metadata": {},
   "source": [
    "Calculate log likehood and penalty term"
   ]
  },
  {
   "cell_type": "code",
   "execution_count": 3,
   "metadata": {},
   "outputs": [],
   "source": [
    "Q<-function(y,mu,power,lamb_r,lamb_b,r,b){\n",
    "    den<-dtweedie(y=y,mu=mu,phi=sum(tweedie.dev(y=y,mu=mu,power=power))/length(y),power=power)\n",
    "    Q<--sum(log(den))+sum(abs(r))*lamb_r+sum(abs(b))*lamb_b\n",
    "    return(Q)\n",
    "}"
   ]
  },
  {
   "cell_type": "markdown",
   "metadata": {},
   "source": [
    "Utility function used to update beta"
   ]
  },
  {
   "cell_type": "code",
   "execution_count": 1,
   "metadata": {},
   "outputs": [],
   "source": [
    "beta_comb<-function(beta){\n",
    "    n=length(beta)\n",
    "    if (n>2){\n",
    "    index=combn(c(1:n),2)\n",
    "    count=1\n",
    "    comb_result=c()\n",
    "    while (count<=n){\n",
    "        comb_result=c(comb_result,beta[index[1,count]]*beta[index[2,count]])\n",
    "        count=count+1\n",
    "    }\n",
    "    return(c(beta,comb_result))}\n",
    "    else{\n",
    "        index=combn(c(1:n),2)\n",
    "        comb_result=c()\n",
    "        comb_result=c(comb_result,beta[index[1,1]]*beta[index[2,1]])\n",
    "        return(c(beta,comb_result))\n",
    "    }\n",
    "}"
   ]
  },
  {
   "cell_type": "code",
   "execution_count": null,
   "metadata": {},
   "outputs": [],
   "source": [
    "beta_update <- function(beta,r,power,y,X,lambda){\n",
    "    n_beta = length(beta)\n",
    "    beta_update_result<-c()\n",
    "    for (i in 1:n_beta){\n",
    "        X_i<-X[,-i]\n",
    "        X_i_m <- model.matrix(~.^2-1, data=X_i)\n",
    "        beta_i<-beta[-i]\n",
    "        beta_i_m<-beta_comb(beta_i)\n",
    "        tmp_offset<-X_i_m%*%beta_i_m\n",
    "        index_r<-which(apply(combn(c(1:n_beta),m=2), 2,function(x) i %in% x))            \n",
    "        coefficient_r<-r[index_r]*beta_i\n",
    "        X_matrix_0<-as.matrix(X_i*X[,i])\n",
    "        b_matrix_0<-X[,i]+X_matrix_0%*%coefficient_r\n",
    "        b_matrix_1<- as.matrix(cbind(0, b_matrix_0))\n",
    "        b_fit<-glmnet(x=b_matrix_1,y=y,family=tweedie(link.power=0,var.power=power)\n",
    "                    ,offset=tmp_offset,intercept=FALSE,lambda=lambda)\n",
    "        b_update_tmp<-coef(b_fit)[3,1]\n",
    "        beta_update_result<-c(beta_update_result,b_update_tmp)\n",
    "        beta[i]<-b_update_tmp\n",
    "    }\n",
    "    \n",
    "    return(beta_update_result)\n",
    "}"
   ]
  },
  {
   "cell_type": "markdown",
   "metadata": {},
   "source": [
    "update r_ij"
   ]
  },
  {
   "cell_type": "code",
   "execution_count": null,
   "metadata": {},
   "outputs": [],
   "source": [
    "r_update<-function(beta,power,y,X,lambda){\n",
    "    offset=as.matrix(X)%*%beta\n",
    "    n<-length(beta)\n",
    "    design_matrix<-c()\n",
    "    index<-combn(c(1:n),m=2)\n",
    "    for (i in 1:n){\n",
    "        beta_tmp<-beta[index[1,i]]*beta[index[2,i]]\n",
    "        design_matrix<-cbind(design_matrix,beta_tmp*X[,index[1,i]]*X[,index[2,i]]  )\n",
    "    }\n",
    "    r_fit<-glmnet(x=design_matrix,y=y,family=tweedie(link.power=0,var.power=power),offset=offset,intercept=FALSE,lambda=lambda)\n",
    "    return(coef(r_fit)[-1,1])\n",
    "}"
   ]
  },
  {
   "cell_type": "markdown",
   "metadata": {},
   "source": [
    "Turn Tweedie GLM into a WLS problem, rely on initial beta"
   ]
  },
  {
   "cell_type": "code",
   "execution_count": null,
   "metadata": {},
   "outputs": [],
   "source": [
    "tweedie_wls<-function(x,y,power,initial_beta){\n",
    "    n1=nrow(x)\n",
    "    n2=ncol(x)\n",
    "    v_i=1/n1\n",
    "    beta_new=initial_beta\n",
    "    v_new<-c()\n",
    "    y_new=c()\n",
    "    for (i in 1:n1){\n",
    "        v_i_new<-v_i*((power-1)*y[i]*exp(-(power-1)*x[i,]%*%beta_new)+(2-power)*exp((2-power)*x[i,]%*%beta_new))\n",
    "        y_i_new<-x[i,]%*%beta_new+v_i/v_i_new*(y[i]*exp(-(power-1)*x[i,]%*%beta_new)-exp((2-power)*x[i,]%*%beta_new))\n",
    "        v_new<-c(v_new,v_i_new)\n",
    "        y_new=c(y_new,y_i_new)\n",
    "    }\n",
    "    data_new<-as.data.frame(cbind(y_new,x))\n",
    "    tmp_fit<-lm(y_new~.-1,data=data_new,weights = v_new)\n",
    "    return(tmp_fit)\n",
    "}"
   ]
  },
  {
   "cell_type": "markdown",
   "metadata": {},
   "source": [
    "update beta and r_ij when threshold is 0.005. So far cannot handle inf Q and glm fitting problem.\n",
    "The other stopping criteria is that the design matrix be all zero when updating r_ij\n"
   ]
  },
  {
   "cell_type": "code",
   "execution_count": 1,
   "metadata": {},
   "outputs": [],
   "source": [
    "shim_lasso_update<-function(x,y,power,lamb_r,lamb_b,initial_r,initial_b){\n",
    "    initial_per<-999\n",
    "    tmp_r<-initial_r\n",
    "    tmp_b<-initial_b\n",
    "    n<-length(tmp_b)\n",
    "    index<-combn(c(1:n),m=2)\n",
    "    n_c=0\n",
    "    while(initial_per>0.005){\n",
    "        total_effect=0\n",
    "        for (i in 1:n){\n",
    "            tmp_effect<-tmp_r[i]*tmp_b[index[1,i]]*tmp_b[index[2,i]]*x[,index[1,i]]*x[,index[2,i]]\n",
    "            total_effect=total_effect+tmp_effect\n",
    "        }\n",
    "        tmp_fitted<-exp(as.matrix(x)%*%tmp_b+total_effect)\n",
    "        Q_1<-Q(y,tmp_fitted,power,lamb_r,lamb_b,tmp_r,tmp_b)\n",
    "        design_matrix<-c()\n",
    "        for (i in 1:n){\n",
    "            beta_tmp<-tmp_b[index[1,i]]*tmp_b[index[2,i]]\n",
    "            design_matrix<-cbind(design_matrix,beta_tmp*x[,index[1,i]]*x[,index[2,i]]  )\n",
    "        }\n",
    "        if (all(design_matrix==0)){\n",
    "            result=data.frame('beta'=tmp_b,'r'=tmp_r,'n'=rep(n_c,length(tmp_b)))\n",
    "            return(result)\n",
    "            break\n",
    "        }\n",
    "        else{\n",
    "            tmp_r<-r_update(tmp_b,power=power,y=y,X=x,lambda=lamb_r)\n",
    "            tmp_b<-beta_update(tmp_b,tmp_r,power=power,y=y,X=x,lambda=lamb_b) \n",
    "            total_effect=0\n",
    "            for (i in 1:n){\n",
    "                tmp_effect<-tmp_r[i]*tmp_b[index[1,i]]*tmp_b[index[2,i]]*X[,index[1,i]]*X[,index[2,i]]\n",
    "                total_effect=total_effect+tmp_effect\n",
    "            }\n",
    "            tmp_fitted<-exp(as.matrix(x)%*%tmp_b+total_effect)\n",
    "            Q_2<-Q(y,tmp_fitted,power,lamb_r,lamb_b,tmp_r,tmp_b)\n",
    "            initial_per<-abs(Q_1-Q_2)/abs(Q_1)\n",
    "            n_c=n_c+1}\n",
    "    }\n",
    "    result=data.frame('beta'=tmp_b,'r'=tmp_r,'n'=rep(n_c,length(tmp_b)))\n",
    "    return(result)\n",
    "    }"
   ]
  },
  {
   "cell_type": "markdown",
   "metadata": {},
   "source": [
    "Calculate fitted value based on beta and r_ij"
   ]
  },
  {
   "cell_type": "code",
   "execution_count": null,
   "metadata": {},
   "outputs": [],
   "source": [
    "ts_fitted<-function(x,beta,r){\n",
    "    n<-length(beta)\n",
    "    total_effect=0\n",
    "    index<-combn(c(1:n),m=2)\n",
    "    for (i in 1:n){\n",
    "        tmp_effect<-r[i]*beta[index[1,i]]*beta[index[2,i]]*x[,index[1,i]]*x[,index[2,i]]\n",
    "        total_effect=total_effect+tmp_effect\n",
    "    }\n",
    "    tmp_fitted<-exp(as.matrix(x)%*%beta+total_effect)\n",
    "    return(tmp_fitted)\n",
    "    \n",
    "}"
   ]
  }
 ],
 "metadata": {
  "kernelspec": {
   "display_name": "R",
   "language": "R",
   "name": "ir"
  },
  "language_info": {
   "codemirror_mode": "r",
   "file_extension": ".r",
   "mimetype": "text/x-r-source",
   "name": "R",
   "pygments_lexer": "r",
   "version": "4.1.1"
  }
 },
 "nbformat": 4,
 "nbformat_minor": 4
}
