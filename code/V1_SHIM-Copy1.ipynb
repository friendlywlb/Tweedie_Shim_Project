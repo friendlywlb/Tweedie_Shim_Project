{
 "cells": [
  {
   "cell_type": "code",
   "execution_count": 9,
   "metadata": {},
   "outputs": [],
   "source": [
    "library(fastDummies)\n",
    "library(cplm)\n",
    "library(tweedie)\n",
    "library(statmod)\n",
    "library(HDtweedie)\n",
    "library(TDboost)\n",
    "library(mgcv)\n",
    "library(MASS)\n",
    "library(glmnet)"
   ]
  },
  {
   "cell_type": "code",
   "execution_count": 249,
   "metadata": {},
   "outputs": [
    {
     "data": {
      "text/plain": [
       "       V1          \n",
       " Min.   :  0.1266  \n",
       " 1st Qu.:  1.3828  \n",
       " Median :  4.1281  \n",
       " Mean   : 23.2231  \n",
       " 3rd Qu.: 14.6926  \n",
       " Max.   :729.0415  "
      ]
     },
     "metadata": {},
     "output_type": "display_data"
    }
   ],
   "source": [
    "x1<-runif(10000,2,8)\n",
    "x2<-runif(10000,-10,1)\n",
    "x3<-runif(10000,-2,0)\n",
    "b_t<-runif(4,-2,1)\n",
    "design_x <- as.matrix(cbind(x1,x2,x3,x1*x2))\n",
    "colnames(design_x) <- c('x1','x2','x3','x1:x2')\n",
    "mu<-exp(design_x%*%b_t)\n",
    "summary(mu)"
   ]
  },
  {
   "cell_type": "code",
   "execution_count": 252,
   "metadata": {},
   "outputs": [
    {
     "data": {
      "text/html": [
       "6071"
      ],
      "text/latex": [
       "6071"
      ],
      "text/markdown": [
       "6071"
      ],
      "text/plain": [
       "[1] 6071"
      ]
     },
     "metadata": {},
     "output_type": "display_data"
    }
   ],
   "source": [
    "y_sim<- rTweedie(mu,p=1.5,phi=10)\n",
    "length(which(y_sim==0))"
   ]
  },
  {
   "cell_type": "code",
   "execution_count": 253,
   "metadata": {},
   "outputs": [],
   "source": [
    "dd<-as.data.frame(cbind(design_x[,1:3],y_sim))"
   ]
  },
  {
   "cell_type": "code",
   "execution_count": 235,
   "metadata": {},
   "outputs": [
    {
     "name": "stdout",
     "output_type": "stream",
     "text": [
      "---\n",
      " This function may take some time to complete;\n",
      " Please be patient.  If it fails, try using  method=\"series\"\n",
      " rather than the default  method=\"inversion\"\n",
      " Another possible reason for failure is the range of p:\n",
      " Try a different input for  p.vec\n",
      "---\n"
     ]
    },
    {
     "name": "stderr",
     "output_type": "stream",
     "text": [
      "Warning message in model.matrix.default(mt, mf, contrasts):\n",
      "\"non-list contrasts argument ignored\"\n"
     ]
    },
    {
     "name": "stdout",
     "output_type": "stream",
     "text": [
      "1.2 1.3 1.4 1.5 1.6 1.7 1.8 \n",
      "xi = 1.2\n",
      "* Fitting initial model: Done\n",
      "* Phi estimation, method:  mle (using optimize):  Done (phi = 0.2629851 )\n",
      "* Computing the log-likelihood (method = series ): Done: L = -1928.991 \n",
      "xi = 1.3\n",
      "* Fitting initial model: Done\n",
      "* Phi estimation, method:  mle (using optimize):  Done (phi = 0.4764082 )\n",
      "* Computing the log-likelihood (method = series ): Done: L = -1338.365 \n",
      "xi = 1.4\n",
      "* Fitting initial model: Done\n",
      "* Phi estimation, method:  mle (using optimize):  Done (phi = 0.8372583 )\n",
      "* Computing the log-likelihood (method = series ): Done: L = -1098.649 \n",
      "xi = 1.5\n",
      "* Fitting initial model: Done\n",
      "* Phi estimation, method:  mle (using optimize):  Done (phi = 1.50644 )\n",
      "* Computing the log-likelihood (method = series ): Done: L = -1040.031 \n",
      "xi = 1.6\n",
      "* Fitting initial model: Done\n",
      "* Phi estimation, method:  mle (using optimize):  Done (phi = 2.901584 )\n",
      "* Computing the log-likelihood (method = series ): Done: L = -1108.18 \n",
      "xi = 1.7\n",
      "* Fitting initial model: Done\n",
      "* Phi estimation, method:  mle (using optimize):  Done (phi = 6.310457 )\n",
      "* Computing the log-likelihood (method = series ): Done: L = -1289.167 \n",
      "xi = 1.8\n",
      "* Fitting initial model: Done\n",
      "* Phi estimation, method:  mle (using optimize):  Done (phi = 16.75439 )\n",
      "* Computing the log-likelihood (method = series ): Done: L = -1598.935 \n",
      ". --- \n",
      "* Smoothing:  Done\n",
      " Estimating phi:   Done\n",
      "ML Estimates:   xi = 1.493878  with phi= 1.451098  giving L= -1039.744 \n",
      " ---\n",
      "* Finding confidence interval: Done\n",
      "\n"
     ]
    },
    {
     "data": {
      "image/png": "[encoded data removed]",
      "text/plain": [
       "plot without title"
      ]
     },
     "metadata": {
      "image/png": {
       "height": 420,
       "width": 420
      }
     },
     "output_type": "display_data"
    }
   ],
   "source": [
    "# est_p <-tweedie.profile(y_sim~x1+x2+x3+x1*x2-1,data=dd,\n",
    "#                         method='series',verbose=2,\n",
    "#                         link.power = 0,do.smooth = TRUE, do.plot = TRUE)"
   ]
  },
  {
   "cell_type": "code",
   "execution_count": 254,
   "metadata": {},
   "outputs": [],
   "source": [
    "sam <- sample(rep(1:2,len=10000))"
   ]
  },
  {
   "cell_type": "code",
   "execution_count": 255,
   "metadata": {},
   "outputs": [],
   "source": [
    "sim_train<-dd[sam==1,]\n",
    "sim_test<-dd[sam==2,]"
   ]
  },
  {
   "cell_type": "code",
   "execution_count": 256,
   "metadata": {},
   "outputs": [],
   "source": [
    "sim_train<-as.data.frame(sim_train)\n",
    "sim_test<-as.data.frame(sim_test)"
   ]
  },
  {
   "cell_type": "code",
   "execution_count": 257,
   "metadata": {},
   "outputs": [],
   "source": [
    "colnames(sim_train)[4]='y'\n",
    "colnames(sim_test)[4]='y'"
   ]
  },
  {
   "cell_type": "code",
   "execution_count": 258,
   "metadata": {},
   "outputs": [
    {
     "data": {
      "text/html": [
       "<table class=\"dataframe\">\n",
       "<caption>A data.frame: 6 × 4</caption>\n",
       "<thead>\n",
       "\t<tr><th></th><th scope=col>x1</th><th scope=col>x2</th><th scope=col>x3</th><th scope=col>y</th></tr>\n",
       "\t<tr><th></th><th scope=col>&lt;dbl&gt;</th><th scope=col>&lt;dbl&gt;</th><th scope=col>&lt;dbl&gt;</th><th scope=col>&lt;dbl&gt;</th></tr>\n",
       "</thead>\n",
       "<tbody>\n",
       "\t<tr><th scope=row>1</th><td>4.511052</td><td>-6.271984</td><td>-0.2453881</td><td>0</td></tr>\n",
       "\t<tr><th scope=row>4</th><td>2.017875</td><td>-9.340325</td><td>-1.8154807</td><td>0</td></tr>\n",
       "\t<tr><th scope=row>8</th><td>7.821450</td><td>-8.574359</td><td>-0.4245308</td><td>0</td></tr>\n",
       "\t<tr><th scope=row>14</th><td>2.639772</td><td>-5.001531</td><td>-0.3911517</td><td>0</td></tr>\n",
       "\t<tr><th scope=row>18</th><td>2.600786</td><td>-8.106091</td><td>-0.2245491</td><td>0</td></tr>\n",
       "\t<tr><th scope=row>19</th><td>2.682553</td><td>-3.699548</td><td>-0.5979809</td><td>0</td></tr>\n",
       "</tbody>\n",
       "</table>\n"
      ],
      "text/latex": [
       "A data.frame: 6 × 4\n",
       "\\begin{tabular}{r|llll}\n",
       "  & x1 & x2 & x3 & y\\\\\n",
       "  & <dbl> & <dbl> & <dbl> & <dbl>\\\\\n",
       "\\hline\n",
       "\t1 & 4.511052 & -6.271984 & -0.2453881 & 0\\\\\n",
       "\t4 & 2.017875 & -9.340325 & -1.8154807 & 0\\\\\n",
       "\t8 & 7.821450 & -8.574359 & -0.4245308 & 0\\\\\n",
       "\t14 & 2.639772 & -5.001531 & -0.3911517 & 0\\\\\n",
       "\t18 & 2.600786 & -8.106091 & -0.2245491 & 0\\\\\n",
       "\t19 & 2.682553 & -3.699548 & -0.5979809 & 0\\\\\n",
       "\\end{tabular}\n"
      ],
      "text/markdown": [
       "\n",
       "A data.frame: 6 × 4\n",
       "\n",
       "| <!--/--> | x1 &lt;dbl&gt; | x2 &lt;dbl&gt; | x3 &lt;dbl&gt; | y &lt;dbl&gt; |\n",
       "|---|---|---|---|---|\n",
       "| 1 | 4.511052 | -6.271984 | -0.2453881 | 0 |\n",
       "| 4 | 2.017875 | -9.340325 | -1.8154807 | 0 |\n",
       "| 8 | 7.821450 | -8.574359 | -0.4245308 | 0 |\n",
       "| 14 | 2.639772 | -5.001531 | -0.3911517 | 0 |\n",
       "| 18 | 2.600786 | -8.106091 | -0.2245491 | 0 |\n",
       "| 19 | 2.682553 | -3.699548 | -0.5979809 | 0 |\n",
       "\n"
      ],
      "text/plain": [
       "   x1       x2        x3         y\n",
       "1  4.511052 -6.271984 -0.2453881 0\n",
       "4  2.017875 -9.340325 -1.8154807 0\n",
       "8  7.821450 -8.574359 -0.4245308 0\n",
       "14 2.639772 -5.001531 -0.3911517 0\n",
       "18 2.600786 -8.106091 -0.2245491 0\n",
       "19 2.682553 -3.699548 -0.5979809 0"
      ]
     },
     "metadata": {},
     "output_type": "display_data"
    }
   ],
   "source": [
    "head(sim_train)"
   ]
  },
  {
   "cell_type": "code",
   "execution_count": 259,
   "metadata": {},
   "outputs": [
    {
     "data": {
      "text/plain": [
       "\n",
       "Call:\n",
       "glm(formula = y ~ . + x1 * x2 - 1, family = tweedie(link.power = 0, \n",
       "    var.power = 1.5), data = sim_train)\n",
       "\n",
       "Deviance Residuals: \n",
       "    Min       1Q   Median       3Q      Max  \n",
       "-8.6481  -2.7657  -1.9803  -0.1248  10.6119  \n",
       "\n",
       "Coefficients:\n",
       "       Estimate Std. Error t value Pr(>|t|)    \n",
       "x1     0.688780   0.008570  80.369   <2e-16 ***\n",
       "x2    -0.004423   0.023973  -0.185    0.854    \n",
       "x3    -0.349785   0.040110  -8.721   <2e-16 ***\n",
       "x1:x2  0.098069   0.004512  21.736   <2e-16 ***\n",
       "---\n",
       "Signif. codes:  0 '***' 0.001 '**' 0.01 '*' 0.05 '.' 0.1 ' ' 1\n",
       "\n",
       "(Dispersion parameter for Tweedie family taken to be 10.08719)\n",
       "\n",
       "    Null deviance: 392277  on 5000  degrees of freedom\n",
       "Residual deviance:  39637  on 4996  degrees of freedom\n",
       "AIC: NA\n",
       "\n",
       "Number of Fisher Scoring iterations: 5\n"
      ]
     },
     "metadata": {},
     "output_type": "display_data"
    },
    {
     "data": {
      "text/html": [
       "7.92747006849601"
      ],
      "text/latex": [
       "7.92747006849601"
      ],
      "text/markdown": [
       "7.92747006849601"
      ],
      "text/plain": [
       "[1] 7.92747"
      ]
     },
     "metadata": {},
     "output_type": "display_data"
    },
    {
     "data": {
      "text/html": [
       "<style>\n",
       ".list-inline {list-style: none; margin:0; padding: 0}\n",
       ".list-inline>li {display: inline-block}\n",
       ".list-inline>li:not(:last-child)::after {content: \"\\00b7\"; padding: 0 .5ex}\n",
       "</style>\n",
       "<ol class=list-inline><li>0.698405494214967</li><li>-0.0158487097360194</li><li>-0.288283426547423</li><li>0.100068082567304</li></ol>\n"
      ],
      "text/latex": [
       "\\begin{enumerate*}\n",
       "\\item 0.698405494214967\n",
       "\\item -0.0158487097360194\n",
       "\\item -0.288283426547423\n",
       "\\item 0.100068082567304\n",
       "\\end{enumerate*}\n"
      ],
      "text/markdown": [
       "1. 0.698405494214967\n",
       "2. -0.0158487097360194\n",
       "3. -0.288283426547423\n",
       "4. 0.100068082567304\n",
       "\n",
       "\n"
      ],
      "text/plain": [
       "[1]  0.69840549 -0.01584871 -0.28828343  0.10006808"
      ]
     },
     "metadata": {},
     "output_type": "display_data"
    }
   ],
   "source": [
    "fit1<-glm(y~.+x1*x2-1,data=sim_train,family=tweedie(link.power=0,var.power=1.5))\n",
    "summary(fit1)\n",
    "mean(residuals(fit1)^2)\n",
    "b_t"
   ]
  },
  {
   "cell_type": "code",
   "execution_count": 260,
   "metadata": {},
   "outputs": [],
   "source": [
    "#Initial: For example, we can use the least square estimates or the simple regression estimates by regressing the response y on each of the terms.\n",
    "# Main effects\n",
    "fit_b1<-glm(y~x1-1,data=sim_train,family=tweedie(link.power=0,var.power=1.5),control=list(maxit=500))\n",
    "b1_0 <- fit_b1$coefficients\n",
    "\n",
    "fit_b2<-glm(y~x2-1,data=sim_train,family=tweedie(link.power=0,var.power=1.5),control=list(maxit=500))\n",
    "b2_0 <- fit_b2$coefficients\n",
    "\n",
    "fit_b3<-glm(y~x3-1,data=sim_train,family=tweedie(link.power=0,var.power=1.5))\n",
    "b3_0 <- fit_b3$coefficients"
   ]
  },
  {
   "cell_type": "code",
   "execution_count": 261,
   "metadata": {},
   "outputs": [],
   "source": [
    "#Interaction: when update r12, use y~b1b2x1x2 with no intercept.\n",
    "effect_12<-b1_0*b2_0*sim_train$x1*sim_train$x2\n",
    "fit_r12<-glm(sim_train$y~effect_12-1,family=tweedie(link.power=0,var.power=1.5),control=list(maxit=500))\n",
    "r12_0<-fit_r12$coefficients\n",
    "\n",
    "effect_13<-b1_0*b3_0*sim_train$x1*sim_train$x3\n",
    "fit_r13<-glm(sim_train$y~effect_13-1,family=tweedie(link.power=0,var.power=1.5),control=list(maxit=500))\n",
    "r13_0<-fit_r13$coefficients\n",
    "\n",
    "effect_23<-b1_0*b2_0*sim_train$x2*sim_train$x3\n",
    "fit_r23<-glm(sim_train$y~effect_23-1,family=tweedie(link.power=0,var.power=1.5),control=list(maxit=500))\n",
    "r23_0<-fit_r23$coefficients"
   ]
  },
  {
   "cell_type": "code",
   "execution_count": 262,
   "metadata": {},
   "outputs": [
    {
     "data": {
      "text/html": [
       "<strong>x1:</strong> 0.543664565556216"
      ],
      "text/latex": [
       "\\textbf{x1:} 0.543664565556216"
      ],
      "text/markdown": [
       "**x1:** 0.543664565556216"
      ],
      "text/plain": [
       "       x1 \n",
       "0.5436646 "
      ]
     },
     "metadata": {},
     "output_type": "display_data"
    },
    {
     "data": {
      "text/html": [
       "<strong>x2:</strong> -0.197062061048141"
      ],
      "text/latex": [
       "\\textbf{x2:} -0.197062061048141"
      ],
      "text/markdown": [
       "**x2:** -0.197062061048141"
      ],
      "text/plain": [
       "        x2 \n",
       "-0.1970621 "
      ]
     },
     "metadata": {},
     "output_type": "display_data"
    },
    {
     "data": {
      "text/html": [
       "<strong>x3:</strong> -2.3881112156275"
      ],
      "text/latex": [
       "\\textbf{x3:} -2.3881112156275"
      ],
      "text/markdown": [
       "**x3:** -2.3881112156275"
      ],
      "text/plain": [
       "       x3 \n",
       "-2.388111 "
      ]
     },
     "metadata": {},
     "output_type": "display_data"
    },
    {
     "data": {
      "text/html": [
       "<strong>effect_12:</strong> 0.332597580997245"
      ],
      "text/latex": [
       "\\textbf{effect\\textbackslash{}\\_12:} 0.332597580997245"
      ],
      "text/markdown": [
       "**effect_12:** 0.332597580997245"
      ],
      "text/plain": [
       "effect_12 \n",
       "0.3325976 "
      ]
     },
     "metadata": {},
     "output_type": "display_data"
    },
    {
     "data": {
      "text/html": [
       "<strong>effect_13:</strong> 0.318498020309189"
      ],
      "text/latex": [
       "\\textbf{effect\\textbackslash{}\\_13:} 0.318498020309189"
      ],
      "text/markdown": [
       "**effect_13:** 0.318498020309189"
      ],
      "text/plain": [
       "effect_13 \n",
       " 0.318498 "
      ]
     },
     "metadata": {},
     "output_type": "display_data"
    },
    {
     "data": {
      "text/html": [
       "<strong>effect_23:</strong> -1.47813831351822"
      ],
      "text/latex": [
       "\\textbf{effect\\textbackslash{}\\_23:} -1.47813831351822"
      ],
      "text/markdown": [
       "**effect_23:** -1.47813831351822"
      ],
      "text/plain": [
       "effect_23 \n",
       "-1.478138 "
      ]
     },
     "metadata": {},
     "output_type": "display_data"
    }
   ],
   "source": [
    "b1_0\n",
    "b2_0\n",
    "b3_0\n",
    "r12_0\n",
    "r13_0\n",
    "r23_0"
   ]
  },
  {
   "cell_type": "code",
   "execution_count": 263,
   "metadata": {},
   "outputs": [],
   "source": [
    "X1<-sim_train$x1\n",
    "X2<-sim_train$x2\n",
    "X3<-sim_train$x3"
   ]
  },
  {
   "cell_type": "code",
   "execution_count": 264,
   "metadata": {},
   "outputs": [],
   "source": [
    "w<-rep(1, 2500)\n",
    "sx<-cbind(X1,X2,X3)#,X1*X2,X1*X3,X2*X3\n",
    "sy<-sim_train$y\n",
    "lambda.max <- max(abs(colSums(sy * sx))) / nrow(sx)\n",
    "lambda.factor = 1e-06\n",
    "nlambda = 100\n",
    "lamb<-rev(exp(seq(log(lambda.factor * lambda.max), log(lambda.max), length.out = nlambda)))"
   ]
  },
  {
   "cell_type": "code",
   "execution_count": 265,
   "metadata": {},
   "outputs": [],
   "source": [
    "base<-glmnet(x=sx, y=sy,family=tweedie(link.power=0,var.power=1.7),intercept=FALSE,control=list(maxit=500))\n",
    "lambb<-base$lambda"
   ]
  },
  {
   "cell_type": "code",
   "execution_count": 266,
   "metadata": {},
   "outputs": [],
   "source": [
    "#Update r: y~r12 (b1b2x1x2+r13b1b3x1x3+r23b2b3x2x3)+ offset [b1x1+b2x2+b3x3]\n",
    "#offset:\n",
    "offset_r_1<-b1_0*X1+b2_0*X2+b3_0*X3"
   ]
  },
  {
   "cell_type": "code",
   "execution_count": 267,
   "metadata": {},
   "outputs": [],
   "source": [
    "effect_1_matrix<- as.matrix(cbind(effect_12,effect_13,effect_23))"
   ]
  },
  {
   "cell_type": "code",
   "execution_count": 273,
   "metadata": {},
   "outputs": [],
   "source": [
    "#Use lambda from r12 as candidate\n",
    "r12_1_fit<-glmnet(x=effect_1_matrix,y=sim_train$y,family=tweedie(link.power=0,var.power=1.5),offset=offset_r_1,intercept=FALSE,lambda=lambb[20])"
   ]
  },
  {
   "cell_type": "code",
   "execution_count": 274,
   "metadata": {},
   "outputs": [
    {
     "data": {
      "text/html": [
       "<style>\n",
       ".dl-inline {width: auto; margin:0; padding: 0}\n",
       ".dl-inline>dt, .dl-inline>dd {float: none; width: auto; display: inline-block}\n",
       ".dl-inline>dt::after {content: \":\\0020\"; padding-right: .5ex}\n",
       ".dl-inline>dt:not(:first-of-type) {padding-left: .5ex}\n",
       "</style><dl class=dl-inline><dt>effect_12</dt><dd>-0.164107402811342</dd><dt>effect_13</dt><dd>-0.17145246066417</dd><dt>effect_23</dt><dd>0</dd></dl>\n"
      ],
      "text/latex": [
       "\\begin{description*}\n",
       "\\item[effect\\textbackslash{}\\_12] -0.164107402811342\n",
       "\\item[effect\\textbackslash{}\\_13] -0.17145246066417\n",
       "\\item[effect\\textbackslash{}\\_23] 0\n",
       "\\end{description*}\n"
      ],
      "text/markdown": [
       "effect_12\n",
       ":   -0.164107402811342effect_13\n",
       ":   -0.17145246066417effect_23\n",
       ":   0\n",
       "\n"
      ],
      "text/plain": [
       " effect_12  effect_13  effect_23 \n",
       "-0.1641074 -0.1714525  0.0000000 "
      ]
     },
     "metadata": {},
     "output_type": "display_data"
    }
   ],
   "source": [
    "r_update<-coef(r12_1_fit)[,1]\n",
    "r_update_1<-r_update[2:length(r_update)]\n",
    "r_update_1"
   ]
  },
  {
   "cell_type": "code",
   "execution_count": 275,
   "metadata": {},
   "outputs": [],
   "source": [
    "r_update<-function(beta,power,y,X,lambda){\n",
    "    offset=as.matrix(X)%*%beta\n",
    "    n<-length(beta)\n",
    "    design_matrix<-c()\n",
    "    index<-combn(c(1:n),m=2)\n",
    "    for (i in 1:n){\n",
    "        beta_tmp<-beta[index[1,i]]*beta[index[2,i]]\n",
    "        design_matrix<-cbind(design_matrix,beta_tmp*X[,index[1,i]]*X[,index[2,i]]  )\n",
    "    }\n",
    "    r_fit<-glmnet(x=design_matrix,y=y,family=tweedie(link.power=0,var.power=power),offset=offset,intercept=FALSE,lambda=lambda)\n",
    "    return(coef(r12_1_fit)[-1,1])\n",
    "}"
   ]
  },
  {
   "cell_type": "code",
   "execution_count": 276,
   "metadata": {},
   "outputs": [],
   "source": [
    "beta_0_t<-c(b1_0, b2_0, b3_0)"
   ]
  },
  {
   "cell_type": "code",
   "execution_count": 277,
   "metadata": {},
   "outputs": [
    {
     "data": {
      "text/html": [
       "<style>\n",
       ".dl-inline {width: auto; margin:0; padding: 0}\n",
       ".dl-inline>dt, .dl-inline>dd {float: none; width: auto; display: inline-block}\n",
       ".dl-inline>dt::after {content: \":\\0020\"; padding-right: .5ex}\n",
       ".dl-inline>dt:not(:first-of-type) {padding-left: .5ex}\n",
       "</style><dl class=dl-inline><dt>effect_12</dt><dd>-0.164107402811342</dd><dt>effect_13</dt><dd>-0.17145246066417</dd><dt>effect_23</dt><dd>0</dd></dl>\n"
      ],
      "text/latex": [
       "\\begin{description*}\n",
       "\\item[effect\\textbackslash{}\\_12] -0.164107402811342\n",
       "\\item[effect\\textbackslash{}\\_13] -0.17145246066417\n",
       "\\item[effect\\textbackslash{}\\_23] 0\n",
       "\\end{description*}\n"
      ],
      "text/markdown": [
       "effect_12\n",
       ":   -0.164107402811342effect_13\n",
       ":   -0.17145246066417effect_23\n",
       ":   0\n",
       "\n"
      ],
      "text/plain": [
       " effect_12  effect_13  effect_23 \n",
       "-0.1641074 -0.1714525  0.0000000 "
      ]
     },
     "metadata": {},
     "output_type": "display_data"
    }
   ],
   "source": [
    "r_update(beta_0_t,power=1.5,y=sim_train$y,X=sim_train[,1:3],lambda=lambb[20])"
   ]
  },
  {
   "cell_type": "code",
   "execution_count": 278,
   "metadata": {},
   "outputs": [],
   "source": [
    "#Update b1. To note design matrix is (0, x1)\n",
    "offset_b1<-b2_0*X2+b3_0*X3+b2_0*b3_0*X2*X3\n",
    "b1_x1<-X1+r_update_1[1]*b2_0*X1*X2+r_update_1[2]*b3_0*X1*X3\n",
    "b1_matrix <- (as.matrix(cbind(0,b1_x1)))\n",
    "b1_1_fit<-glmnet(x=b1_matrix,y=sim_train$y,family=tweedie(link.power=0,var.power=1.5)\n",
    "                    ,offset=offset_b1,intercept=FALSE,lambda=lambb[20],control=list(maxit=500))\n",
    "b1_update<-coef(b1_1_fit)[,1]\n",
    "b1_update_1<-b1_update[3]"
   ]
  },
  {
   "cell_type": "code",
   "execution_count": 279,
   "metadata": {},
   "outputs": [],
   "source": [
    "#Update b2\n",
    "offset_b2<-b1_update_1*X1+b3_0*X3+b1_update_1*b3_0*X1*X3\n",
    "b2_x1<-X2+r_update_1[1]*b1_update_1*X1*X2+r_update_1[3]*b3_0*X2*X3\n",
    "b2_matrix <- as.matrix(cbind(0,b2_x1))\n",
    "b2_1_fit<-glmnet(x=b2_matrix,y=sim_train$y,family=tweedie(link.power=0,var.power=1.5)\n",
    "                    ,offset=offset_b2,intercept=FALSE,lambda=lambb[20],control=list(maxit=500))\n",
    "b2_update<-coef(b2_1_fit)[,1]\n",
    "b2_update_1<-b2_update[3]"
   ]
  },
  {
   "cell_type": "code",
   "execution_count": 285,
   "metadata": {},
   "outputs": [],
   "source": [
    "offset_b3<-b1_update_1*X1+b2_update_1*X2+b1_update_1*b2_update_1*X1*X2\n",
    "b3_x1<-X3+r_update_1[2]*b1_update_1*X1*X3+r_update_1[3]*b2_update_1*X2*X3\n",
    "b3_matrix <- as.matrix(cbind(0,b3_x1))\n",
    "b3_1_fit<-glmnet(x=b3_matrix,y=sim_train$y,family=tweedie(link.power=0,var.power=1.5)\n",
    "                    ,offset=offset_b3,intercept=FALSE,lambda=lambb[20],control=list(maxit=500))\n",
    "b3_update<-coef(b3_1_fit)[,1]\n",
    "b3_update_1<-b3_update[3]"
   ]
  },
  {
   "cell_type": "code",
   "execution_count": 281,
   "metadata": {},
   "outputs": [],
   "source": [
    "beta_update <- function(beta,r,power,y,X,lambda){\n",
    "    n_beta = length(beta)\n",
    "    beta_update_result<-c()\n",
    "    for (i in 1:n_beta){\n",
    "        X_i<-X[,-i]\n",
    "        X_i_m <- model.matrix(~.^2-1, data=X_i)\n",
    "        beta_i<-beta[-i]\n",
    "        beta_i_m<-beta_comb(beta_i)\n",
    "        tmp_offset<-X_i_m%*%beta_i_m\n",
    "        index_r<-which(apply(combn(c(1:n_beta),m=2), 2,function(x) i %in% x))            \n",
    "        coefficient_r<-r[index_r]*beta_i\n",
    "        X_matrix_0<-as.matrix(X_i*X[,i])\n",
    "        b_matrix_0<-X[,i]+X_matrix_0%*%coefficient_r\n",
    "        b_matrix_1<- as.matrix(cbind(0, b_matrix_0))\n",
    "        b_fit<-glmnet(x=b_matrix_1,y=y,family=tweedie(link.power=0,var.power=power)\n",
    "                    ,offset=tmp_offset,intercept=FALSE,lambda=lambda,control=list(maxit=500))\n",
    "        b_update_tmp<-coef(b_fit)[3,1]\n",
    "        beta_update_result<-c(beta_update_result,b_update_tmp)\n",
    "        beta[i]<-b_update_tmp\n",
    "    }\n",
    "    \n",
    "    return(beta_update_result)\n",
    "}"
   ]
  },
  {
   "cell_type": "code",
   "execution_count": 286,
   "metadata": {},
   "outputs": [
    {
     "data": {
      "text/html": [
       "<style>\n",
       ".list-inline {list-style: none; margin:0; padding: 0}\n",
       ".list-inline>li {display: inline-block}\n",
       ".list-inline>li:not(:last-child)::after {content: \"\\00b7\"; padding: 0 .5ex}\n",
       "</style>\n",
       "<ol class=list-inline><li>0</li><li>0</li><li>-1.31524068609521</li></ol>\n"
      ],
      "text/latex": [
       "\\begin{enumerate*}\n",
       "\\item 0\n",
       "\\item 0\n",
       "\\item -1.31524068609521\n",
       "\\end{enumerate*}\n"
      ],
      "text/markdown": [
       "1. 0\n",
       "2. 0\n",
       "3. -1.31524068609521\n",
       "\n",
       "\n"
      ],
      "text/plain": [
       "[1]  0.000000  0.000000 -1.315241"
      ]
     },
     "metadata": {},
     "output_type": "display_data"
    }
   ],
   "source": [
    "beta_update(beta_0_t,r_update_1,power=1.5,y=sim_train$y,X=sim_train[,1:3],lambda=lambb[20])"
   ]
  },
  {
   "cell_type": "code",
   "execution_count": 283,
   "metadata": {},
   "outputs": [],
   "source": [
    "b_update_1<-c(b1_update_1,b2_update_1,b3_update_1)"
   ]
  },
  {
   "cell_type": "code",
   "execution_count": 284,
   "metadata": {},
   "outputs": [
    {
     "data": {
      "text/html": [
       "<style>\n",
       ".dl-inline {width: auto; margin:0; padding: 0}\n",
       ".dl-inline>dt, .dl-inline>dd {float: none; width: auto; display: inline-block}\n",
       ".dl-inline>dt::after {content: \":\\0020\"; padding-right: .5ex}\n",
       ".dl-inline>dt:not(:first-of-type) {padding-left: .5ex}\n",
       "</style><dl class=dl-inline><dt>b1_x1</dt><dd>0</dd><dt>b2_x1</dt><dd>0</dd><dt>b3_x1</dt><dd>-2.37583247740341</dd></dl>\n"
      ],
      "text/latex": [
       "\\begin{description*}\n",
       "\\item[b1\\textbackslash{}\\_x1] 0\n",
       "\\item[b2\\textbackslash{}\\_x1] 0\n",
       "\\item[b3\\textbackslash{}\\_x1] -2.37583247740341\n",
       "\\end{description*}\n"
      ],
      "text/markdown": [
       "b1_x1\n",
       ":   0b2_x1\n",
       ":   0b3_x1\n",
       ":   -2.37583247740341\n",
       "\n"
      ],
      "text/plain": [
       "    b1_x1     b2_x1     b3_x1 \n",
       " 0.000000  0.000000 -2.375832 "
      ]
     },
     "metadata": {},
     "output_type": "display_data"
    }
   ],
   "source": [
    "b_update_1"
   ]
  },
  {
   "cell_type": "code",
   "execution_count": 287,
   "metadata": {},
   "outputs": [],
   "source": [
    "X<-as.matrix(cbind(X1,X2,X3))"
   ]
  },
  {
   "cell_type": "code",
   "execution_count": 298,
   "metadata": {},
   "outputs": [],
   "source": [
    "r_0_t<-c(r12_0,r13_0,r23_0)"
   ]
  },
  {
   "cell_type": "code",
   "execution_count": 300,
   "metadata": {},
   "outputs": [],
   "source": [
    "fitted_0<-exp(X%*%beta_0_t+ r_0_t[1]*beta_0_t[1]*beta_0_t[2]*X1*X2 +r_0_t[2]*beta_0_t[1]*beta_0_t[3]*X1*X3+r_0_t[3]*beta_0_t[2]*beta_0_t[3]*X2*X3)"
   ]
  },
  {
   "cell_type": "code",
   "execution_count": 288,
   "metadata": {},
   "outputs": [],
   "source": [
    "fitted_1 <- exp(X%*%b_update_1 + r_update_1[1]*b_update_1[1]*b_update_1[2]*X1*X2 +r_update_1[2]*b_update_1[1]*b_update_1[3]*X1*X3+r_update_1[3]*b_update_1[2]*b_update_1[3]*X2*X3)"
   ]
  },
  {
   "cell_type": "code",
   "execution_count": 289,
   "metadata": {},
   "outputs": [],
   "source": [
    "ytrain<-sim_train$y"
   ]
  },
  {
   "cell_type": "code",
   "execution_count": 303,
   "metadata": {},
   "outputs": [
    {
     "data": {
      "text/html": [
       "0.304842180770411"
      ],
      "text/latex": [
       "0.304842180770411"
      ],
      "text/markdown": [
       "0.304842180770411"
      ],
      "text/plain": [
       "[1] 0.3048422"
      ]
     },
     "metadata": {},
     "output_type": "display_data"
    }
   ],
   "source": [
    "abs(Q(ytrain,fitted_0,1.5,lambb[20],r_0_t,beta_0_t)-Q(ytrain,fitted_1,1.5,lambb[20],r_update_1,b_update_1))/abs(Q(ytrain,fitted_0,1.5,lambb[20],r_0_t,beta_0_t))"
   ]
  },
  {
   "cell_type": "code",
   "execution_count": 293,
   "metadata": {},
   "outputs": [],
   "source": [
    "Q<-function(y,mu,power,lamb,r,b){\n",
    "    den<-dtweedie(y=y,mu=mu,phi=sum(tweedie.dev(y=y,mu=mu,power=power))/length(y),power=power)\n",
    "    Q<--sum(log(den))+sum(abs(r))*lamb+sum(abs(b))*lamb\n",
    "    return(Q)\n",
    "}"
   ]
  },
  {
   "cell_type": "code",
   "execution_count": 125,
   "metadata": {},
   "outputs": [],
   "source": [
    "beta_comb<-function(beta){\n",
    "    n=length(beta)\n",
    "    if (n>2){\n",
    "    index=combn(c(1:n),2)\n",
    "    count=1\n",
    "    comb_result=c()\n",
    "    while (count<=n){\n",
    "        comb_result=c(comb_result,beta[index[1,count]]*beta[index[2,count]])\n",
    "        count=count+1\n",
    "    }\n",
    "    return(c(beta,comb_result))}\n",
    "    else{\n",
    "        index=combn(c(1:n),2)\n",
    "        comb_result=c()\n",
    "        comb_result=c(comb_result,beta[index[1,1]]*beta[index[2,1]])\n",
    "        return(c(beta,comb_result))\n",
    "    }\n",
    "}"
   ]
  },
  {
   "cell_type": "code",
   "execution_count": 305,
   "metadata": {},
   "outputs": [
    {
     "ename": "ERROR",
     "evalue": "Error in glmnet.path(x, y, weights, lambda, nlambda, lambda.min.ratio, : All used predictors have zero variance\n",
     "output_type": "error",
     "traceback": [
      "Error in glmnet.path(x, y, weights, lambda, nlambda, lambda.min.ratio, : All used predictors have zero variance\nTraceback:\n",
      "1. r_update(b_update_1, power = 1.5, y = sim_train$y, X = sim_train[, \n .     1:3], lambda = lambb[20])",
      "2. glmnet(x = design_matrix, y = y, family = tweedie(link.power = 0, \n .     var.power = power), offset = offset, intercept = FALSE, lambda = lambda)   # at line 10 of file <text>",
      "3. glmnet.path(x, y, weights, lambda, nlambda, lambda.min.ratio, \n .     alpha, offset, family, standardize, intercept, thresh = thresh, \n .     maxit, penalty.factor, exclude, lower.limits, upper.limits, \n .     trace.it = trace.it)",
      "4. stop(\"All used predictors have zero variance\")"
     ]
    }
   ],
   "source": [
    "r_update_2<-r_update(b_update_1,power=1.5,y=sim_train$y,X=sim_train[,1:3],lambda=lambb[20])\n"
   ]
  },
  {
   "cell_type": "code",
   "execution_count": 307,
   "metadata": {},
   "outputs": [],
   "source": [
    "b_update_2<-beta_update(b_update_1,r_update_1,power=1.5,y=sim_train$y,X=sim_train[,1:3],lambda=lambb[20])"
   ]
  },
  {
   "cell_type": "code",
   "execution_count": 308,
   "metadata": {},
   "outputs": [
    {
     "data": {
      "text/html": [
       "<style>\n",
       ".list-inline {list-style: none; margin:0; padding: 0}\n",
       ".list-inline>li {display: inline-block}\n",
       ".list-inline>li:not(:last-child)::after {content: \"\\00b7\"; padding: 0 .5ex}\n",
       "</style>\n",
       "<ol class=list-inline><li>0.0179822245763664</li><li>0</li><li>-1.24706548426855</li></ol>\n"
      ],
      "text/latex": [
       "\\begin{enumerate*}\n",
       "\\item 0.0179822245763664\n",
       "\\item 0\n",
       "\\item -1.24706548426855\n",
       "\\end{enumerate*}\n"
      ],
      "text/markdown": [
       "1. 0.0179822245763664\n",
       "2. 0\n",
       "3. -1.24706548426855\n",
       "\n",
       "\n"
      ],
      "text/plain": [
       "[1]  0.01798222  0.00000000 -1.24706548"
      ]
     },
     "metadata": {},
     "output_type": "display_data"
    }
   ],
   "source": [
    "b_update_2"
   ]
  },
  {
   "cell_type": "code",
   "execution_count": 309,
   "metadata": {},
   "outputs": [
    {
     "data": {
      "text/html": [
       "<style>\n",
       ".dl-inline {width: auto; margin:0; padding: 0}\n",
       ".dl-inline>dt, .dl-inline>dd {float: none; width: auto; display: inline-block}\n",
       ".dl-inline>dt::after {content: \":\\0020\"; padding-right: .5ex}\n",
       ".dl-inline>dt:not(:first-of-type) {padding-left: .5ex}\n",
       "</style><dl class=dl-inline><dt>effect_12</dt><dd>-0.164107402811342</dd><dt>effect_13</dt><dd>-0.17145246066417</dd><dt>effect_23</dt><dd>0</dd></dl>\n"
      ],
      "text/latex": [
       "\\begin{description*}\n",
       "\\item[effect\\textbackslash{}\\_12] -0.164107402811342\n",
       "\\item[effect\\textbackslash{}\\_13] -0.17145246066417\n",
       "\\item[effect\\textbackslash{}\\_23] 0\n",
       "\\end{description*}\n"
      ],
      "text/markdown": [
       "effect_12\n",
       ":   -0.164107402811342effect_13\n",
       ":   -0.17145246066417effect_23\n",
       ":   0\n",
       "\n"
      ],
      "text/plain": [
       " effect_12  effect_13  effect_23 \n",
       "-0.1641074 -0.1714525  0.0000000 "
      ]
     },
     "metadata": {},
     "output_type": "display_data"
    }
   ],
   "source": [
    "r_update_1"
   ]
  },
  {
   "cell_type": "code",
   "execution_count": null,
   "metadata": {},
   "outputs": [],
   "source": []
  }
 ],
 "metadata": {
  "kernelspec": {
   "display_name": "R",
   "language": "R",
   "name": "ir"
  },
  "language_info": {
   "codemirror_mode": "r",
   "file_extension": ".r",
   "mimetype": "text/x-r-source",
   "name": "R",
   "pygments_lexer": "r",
   "version": "4.1.1"
  }
 },
 "nbformat": 4,
 "nbformat_minor": 4
}
