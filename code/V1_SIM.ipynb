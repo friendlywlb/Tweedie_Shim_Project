{
 "cells": [
  {
   "cell_type": "code",
   "execution_count": 5,
   "metadata": {},
   "outputs": [
    {
     "name": "stderr",
     "output_type": "stream",
     "text": [
      "Loading required package: coda\n",
      "\n",
      "Loading required package: Matrix\n",
      "\n",
      "Loading required package: splines\n",
      "\n",
      "Loading required package: lattice\n",
      "\n",
      "Loaded TDboost 1.2\n",
      "\n",
      "\n",
      "Loading required package: nlme\n",
      "\n",
      "\n",
      "Attaching package: 'nlme'\n",
      "\n",
      "\n",
      "The following objects are masked from 'package:cplm':\n",
      "\n",
      "    fixef, ranef, VarCorr\n",
      "\n",
      "\n",
      "This is mgcv 1.8-38. For overview type 'help(\"mgcv-package\")'.\n",
      "\n",
      "Loaded glmnet 4.1-2\n",
      "\n"
     ]
    }
   ],
   "source": [
    "library(fastDummies)\n",
    "library(cplm)\n",
    "library(tweedie)\n",
    "library(statmod)\n",
    "library(HDtweedie)\n",
    "library(TDboost)\n",
    "library(mgcv)\n",
    "library(MASS)\n",
    "library(glmnet)"
   ]
  },
  {
   "cell_type": "code",
   "execution_count": 78,
   "metadata": {},
   "outputs": [],
   "source": [
    "x1<-rnorm(5000,4,2)\n",
    "x2<-rnorm(5000,3,1)\n",
    "x3<-rnorm(5000,1,0.5)"
   ]
  },
  {
   "cell_type": "code",
   "execution_count": 79,
   "metadata": {},
   "outputs": [],
   "source": [
    "design_x <- as.data.frame(cbind(x1,x2,x3))\n",
    "colnames(design_x) <- c('x1','x2','x3')"
   ]
  },
  {
   "cell_type": "code",
   "execution_count": 100,
   "metadata": {},
   "outputs": [],
   "source": [
    "design_x_data <- model.matrix(~.+x1*x2-1,data=design_x)\n",
    "beta_num<- c(0.2,0.25,0.3,0.2)\n",
    "mu<-exp(design_x_data%*%beta_num)\n",
    "y_sim<- rTweedie(mu,p=1.7,phi=15)"
   ]
  },
  {
   "cell_type": "code",
   "execution_count": 101,
   "metadata": {},
   "outputs": [
    {
     "data": {
      "text/html": [
       "2305"
      ],
      "text/latex": [
       "2305"
      ],
      "text/markdown": [
       "2305"
      ],
      "text/plain": [
       "[1] 2305"
      ]
     },
     "metadata": {},
     "output_type": "display_data"
    }
   ],
   "source": [
    "length(which(y_sim==0))"
   ]
  },
  {
   "cell_type": "code",
   "execution_count": 102,
   "metadata": {},
   "outputs": [],
   "source": [
    "sim_full<-cbind(design_x,y_sim)\n",
    "colnames(sim_full)[4]='y'"
   ]
  },
  {
   "cell_type": "code",
   "execution_count": 103,
   "metadata": {},
   "outputs": [],
   "source": [
    "sam <- sample(rep(1:2,len=5000))"
   ]
  },
  {
   "cell_type": "code",
   "execution_count": 104,
   "metadata": {},
   "outputs": [],
   "source": [
    "sim_train<-sim_full[sam==1,]\n",
    "sim_test<-sim_full[sam==2,]"
   ]
  },
  {
   "cell_type": "code",
   "execution_count": 105,
   "metadata": {},
   "outputs": [
    {
     "data": {
      "text/html": [
       "1169"
      ],
      "text/latex": [
       "1169"
      ],
      "text/markdown": [
       "1169"
      ],
      "text/plain": [
       "[1] 1169"
      ]
     },
     "metadata": {},
     "output_type": "display_data"
    },
    {
     "data": {
      "text/html": [
       "1136"
      ],
      "text/latex": [
       "1136"
      ],
      "text/markdown": [
       "1136"
      ],
      "text/plain": [
       "[1] 1136"
      ]
     },
     "metadata": {},
     "output_type": "display_data"
    }
   ],
   "source": [
    "length(which(sim_train$y==0))\n",
    "length(which(sim_test$y==0))"
   ]
  },
  {
   "cell_type": "code",
   "execution_count": 106,
   "metadata": {},
   "outputs": [],
   "source": [
    "sim_train<-as.data.frame(sim_train)\n",
    "sim_test<-as.data.frame(sim_test)"
   ]
  },
  {
   "cell_type": "code",
   "execution_count": 107,
   "metadata": {},
   "outputs": [
    {
     "data": {
      "text/plain": [
       "\n",
       "Call:\n",
       "glm(formula = y ~ . + x1 * x2 - 1, family = tweedie(link.power = 0, \n",
       "    var.power = 1.7), data = sim_train)\n",
       "\n",
       "Deviance Residuals: \n",
       "     Min        1Q    Median        3Q       Max  \n",
       "-11.1448   -4.3211   -3.2978   -0.0382   12.7976  \n",
       "\n",
       "Coefficients:\n",
       "      Estimate Std. Error t value Pr(>|t|)    \n",
       "x1    0.159169   0.027577   5.772 8.82e-09 ***\n",
       "x2    0.188299   0.035149   5.357 9.23e-08 ***\n",
       "x3    0.368154   0.074804   4.922 9.14e-07 ***\n",
       "x1:x2 0.216484   0.008197  26.411  < 2e-16 ***\n",
       "---\n",
       "Signif. codes:  0 '***' 0.001 '**' 0.01 '*' 0.05 '.' 0.1 ' ' 1\n",
       "\n",
       "(Dispersion parameter for Tweedie family taken to be 15.74616)\n",
       "\n",
       "    Null deviance: 28641453  on 2500  degrees of freedom\n",
       "Residual deviance:    38178  on 2496  degrees of freedom\n",
       "AIC: NA\n",
       "\n",
       "Number of Fisher Scoring iterations: 6\n"
      ]
     },
     "metadata": {},
     "output_type": "display_data"
    },
    {
     "data": {
      "text/html": [
       "15.2710498982307"
      ],
      "text/latex": [
       "15.2710498982307"
      ],
      "text/markdown": [
       "15.2710498982307"
      ],
      "text/plain": [
       "[1] 15.27105"
      ]
     },
     "metadata": {},
     "output_type": "display_data"
    }
   ],
   "source": [
    "fit1<-glm(y~.+x1*x2-1,data=sim_train,family=tweedie(link.power=0,var.power=1.7))\n",
    "summary(fit1)\n",
    "mean(residuals(fit1)^2)"
   ]
  },
  {
   "cell_type": "code",
   "execution_count": 108,
   "metadata": {},
   "outputs": [],
   "source": [
    "shim <- model.matrix(~.+x1*x2+x1*x3+x2*x3,data=sim_train)"
   ]
  },
  {
   "cell_type": "code",
   "execution_count": 109,
   "metadata": {},
   "outputs": [],
   "source": [
    "#Initial: For example, we can use the least square estimates or the simple regression estimates by regressing the response y on each of the terms.\n",
    "# Main effects\n",
    "fit_b1<-glm(y~x1-1,data=sim_train,family=tweedie(link.power=0,var.power=1.7),control=list(maxit=500))\n",
    "b1_0 <- fit_b1$coefficients\n",
    "\n",
    "fit_b2<-glm(y~x2-1,data=sim_train,family=tweedie(link.power=0,var.power=1.7),control=list(maxit=500))\n",
    "b2_0 <- fit_b2$coefficients\n",
    "\n",
    "fit_b3<-glm(y~x3-1,data=sim_train,family=tweedie(link.power=0,var.power=1.7))\n",
    "b3_0 <- fit_b3$coefficients"
   ]
  },
  {
   "cell_type": "code",
   "execution_count": 110,
   "metadata": {},
   "outputs": [],
   "source": [
    "#Interaction: when update r12, use y~b1b2x1x2 with no intercept.\n",
    "effect_12<-b1_0*b2_0*sim_train$x1*sim_train$x2\n",
    "fit_r12<-glm(sim_train$y~effect_12-1,family=tweedie(link.power=0,var.power=1.7),control=list(maxit=500))\n",
    "r12_0<-fit_r12$coefficients\n",
    "\n",
    "effect_13<-b1_0*b3_0*sim_train$x1*sim_train$x3\n",
    "fit_r13<-glm(sim_train$y~effect_13-1,family=tweedie(link.power=0,var.power=1.7),control=list(maxit=500))\n",
    "r13_0<-fit_r13$coefficients\n",
    "\n",
    "effect_23<-b1_0*b2_0*sim_train$x2*sim_train$x3\n",
    "fit_r23<-glm(sim_train$y~effect_23-1,family=tweedie(link.power=0,var.power=1.7),control=list(maxit=500))\n",
    "r23_0<-fit_r23$coefficients"
   ]
  },
  {
   "cell_type": "code",
   "execution_count": 112,
   "metadata": {},
   "outputs": [],
   "source": [
    "b1_0\n",
    "b2_0\n",
    "b3_0\n",
    "r12_0\n",
    "r13_0\n",
    "r23_0"
   ]
  },
  {
   "cell_type": "code",
   "execution_count": 121,
   "metadata": {},
   "outputs": [],
   "source": [
    "X1<-sim_train$x1\n",
    "X2<-sim_train$x2\n",
    "X3<-sim_train$x3"
   ]
  },
  {
   "cell_type": "code",
   "execution_count": 157,
   "metadata": {},
   "outputs": [],
   "source": [
    "#Update r: y~r12 (b1b2x1x2+r13b1b3x1x3+r23b2b3x2x3)+ offset [b1x1+b2x2+b3x3]\n",
    "#offset:\n",
    "offset_r_1<-b1_0*X1+b2_0*X2+b3_0*X3"
   ]
  },
  {
   "cell_type": "code",
   "execution_count": 158,
   "metadata": {},
   "outputs": [],
   "source": [
    "effect_1_matrix<- as.matrix(cbind(effect_12,effect_13,effect_23))"
   ]
  },
  {
   "cell_type": "code",
   "execution_count": 159,
   "metadata": {},
   "outputs": [],
   "source": [
    "#Use lambda from r12 as candidate\n",
    "r12_1_fit<-cv.glmnet(x=effect_1_matrix,y=sim_train$y,family=tweedie(link.power=0,var.power=1.7),offset=offset_r_1,intercept=FALSE,type.measure = 'deviance')"
   ]
  },
  {
   "cell_type": "code",
   "execution_count": 160,
   "metadata": {},
   "outputs": [],
   "source": [
    "lambda_r<-r12_1_fit$lambda"
   ]
  },
  {
   "cell_type": "code",
   "execution_count": 171,
   "metadata": {},
   "outputs": [
    {
     "data": {
      "text/html": [
       "<style>\n",
       ".dl-inline {width: auto; margin:0; padding: 0}\n",
       ".dl-inline>dt, .dl-inline>dd {float: none; width: auto; display: inline-block}\n",
       ".dl-inline>dt::after {content: \":\\0020\"; padding-right: .5ex}\n",
       ".dl-inline>dt:not(:first-of-type) {padding-left: .5ex}\n",
       "</style><dl class=dl-inline><dt>effect_12</dt><dd>-0.0497260173807443</dd><dt>effect_13</dt><dd>-0.0246858232760834</dd><dt>effect_23</dt><dd>-0.6137286352166</dd></dl>\n"
      ],
      "text/latex": [
       "\\begin{description*}\n",
       "\\item[effect\\textbackslash{}\\_12] -0.0497260173807443\n",
       "\\item[effect\\textbackslash{}\\_13] -0.0246858232760834\n",
       "\\item[effect\\textbackslash{}\\_23] -0.6137286352166\n",
       "\\end{description*}\n"
      ],
      "text/markdown": [
       "effect_12\n",
       ":   -0.0497260173807443effect_13\n",
       ":   -0.0246858232760834effect_23\n",
       ":   -0.6137286352166\n",
       "\n"
      ],
      "text/plain": [
       "  effect_12   effect_13   effect_23 \n",
       "-0.04972602 -0.02468582 -0.61372864 "
      ]
     },
     "metadata": {},
     "output_type": "display_data"
    }
   ],
   "source": [
    "r_update<-coef(r12_1_fit,s='lambda.min')[,1]\n",
    "r_update_1<-r_update[2:length(r_update)]\n",
    "r_update_1"
   ]
  },
  {
   "cell_type": "code",
   "execution_count": null,
   "metadata": {},
   "outputs": [],
   "source": [
    "max( abs(t(Y - mean(Y)*(1-mean(Y))) %*% X ) )/ ( alpha * n)"
   ]
  },
  {
   "cell_type": "code",
   "execution_count": 173,
   "metadata": {},
   "outputs": [],
   "source": [
    "#Update b1. To note design matrix is (0, x1)\n",
    "offset_b1<-b2_0*X2+b3_0*X3+b2_0*b3_0*X2*X3\n",
    "b1_x1<-X1+r_update_1[1]*b2_0*X1*X2+r_update_1[2]*b3_0*X1*X3\n",
    "b1_matrix <- (as.matrix(cbind(0,b1_x1)))\n",
    "b1_1_fit<-cv.glmnet(x=b1_matrix,y=sim_train$y,family=tweedie(link.power=0,var.power=1.7)\n",
    "                    ,offset=offset_b1,intercept=FALSE,type.measure = 'deviance')\n",
    "b1_update<-coef(b1_1_fit,s='lambda.min')[,1]\n",
    "b1_update_1<-b1_update[3]"
   ]
  },
  {
   "cell_type": "code",
   "execution_count": 213,
   "metadata": {},
   "outputs": [
    {
     "data": {
      "text/html": [
       "2500"
      ],
      "text/latex": [
       "2500"
      ],
      "text/markdown": [
       "2500"
      ],
      "text/plain": [
       "[1] 2500"
      ]
     },
     "metadata": {},
     "output_type": "display_data"
    }
   ],
   "source": [
    "length(offset_b2)"
   ]
  },
  {
   "cell_type": "code",
   "execution_count": 210,
   "metadata": {},
   "outputs": [
    {
     "ename": "ERROR",
     "evalue": "Error in elnet.fit(x, z, w, lambda, alpha, intercept, thresh = thresh, : NA/NaN/Inf in foreign function call (arg 8)\n",
     "output_type": "error",
     "traceback": [
      "Error in elnet.fit(x, z, w, lambda, alpha, intercept, thresh = thresh, : NA/NaN/Inf in foreign function call (arg 8)\nTraceback:\n",
      "1. cv.glmnet(x = b2_matrix, y = sim_train$y, family = tweedie(link.power = 0, \n .     var.power = 1.7), offset = offset_b2, intercept = FALSE, \n .     type.measure = \"deviance\")",
      "2. cv.glmnet.raw(x, y, weights, offset, lambda, type.measure, nfolds, \n .     foldid, alignment, grouped, keep, parallel, trace.it, glmnet.call, \n .     cv.call, ...)",
      "3. glmnet(x, y, weights = weights, offset = offset, lambda = lambda, \n .     trace.it = trace.it, ...)",
      "4. glmnet.path(x, y, weights, lambda, nlambda, lambda.min.ratio, \n .     alpha, offset, family, standardize, intercept, thresh = thresh, \n .     maxit, penalty.factor, exclude, lower.limits, upper.limits, \n .     trace.it = trace.it)",
      "5. glmnet.fit(x, y, weights/sum(weights), cur_lambda, alpha = alpha, \n .     offset = offset, family = family, intercept = intercept, \n .     thresh = thresh, maxit = maxit, penalty.factor = vp, exclude = exclude, \n .     lower.limits = lower.limits, upper.limits = upper.limits, \n .     warm = fit, from.glmnet.path = TRUE, save.fit = TRUE, trace.it = trace.it)",
      "6. elnet.fit(x, z, w, lambda, alpha, intercept, thresh = thresh, \n .     maxit = maxit, penalty.factor = vp, exclude = exclude, lower.limits = lower.limits, \n .     upper.limits = upper.limits, warm = fit, from.glmnet.fit = TRUE, \n .     save.fit = TRUE)"
     ]
    }
   ],
   "source": [
    "#Update b2\n",
    "offset_b2<-b1_update_1*X1+b3_0*X3+b1_update_1*b3_0*X1*X3\n",
    "b2_x1<-X2+r_update_1[1]*b1_update_1*X1*X2+r_update_1[3]*b3_0*X2*X3\n",
    "b2_matrix <- as.matrix(cbind(0,b2_x1))\n",
    "b2_1_fit<-cv.glmnet(x=b2_matrix,y=sim_train$y,family=tweedie(link.power=0,var.power=1.7)\n",
    "                    ,offset=offset_b2,intercept=FALSE,type.measure = 'deviance')\n",
    "# b2_update<-coef(b2_1_fit,s='lambda.min')[,1]\n",
    "# b2_update_1<-b2_update[3]"
   ]
  },
  {
   "cell_type": "code",
   "execution_count": 182,
   "metadata": {},
   "outputs": [],
   "source": [
    "#Update b3\n",
    "offset_b3<-b1_0*X1+b2_0*X2+b1_0*b2_0*X1*X2\n",
    "b3_x1<-X3+r_update_1[2]*b1_0*X1*X3+r_update_1[3]*b2_0*X2*X3\n",
    "b3_matrix <- (as.matrix(cbind(0,b3_x1)))\n",
    "b3_1_fit<-cv.glmnet(x=b3_matrix,y=sim_train$y,family=tweedie(link.power=0,var.power=1.7)\n",
    "                    ,offset=offset_b3,intercept=FALSE,type.measure = 'deviance')\n",
    "b3_update<-coef(b3_1_fit,s='lambda.min')[,1]\n",
    "b3_update_1<-b3_update[3]"
   ]
  },
  {
   "cell_type": "code",
   "execution_count": 183,
   "metadata": {},
   "outputs": [],
   "source": [
    "b_update_1<-c(b1_update_1,b2_update_1,b3_update_1)"
   ]
  },
  {
   "cell_type": "code",
   "execution_count": 185,
   "metadata": {},
   "outputs": [
    {
     "data": {
      "text/html": [
       "<style>\n",
       ".dl-inline {width: auto; margin:0; padding: 0}\n",
       ".dl-inline>dt, .dl-inline>dd {float: none; width: auto; display: inline-block}\n",
       ".dl-inline>dt::after {content: \":\\0020\"; padding-right: .5ex}\n",
       ".dl-inline>dt:not(:first-of-type) {padding-left: .5ex}\n",
       "</style><dl class=dl-inline><dt>b1_x1</dt><dd>-15.0214198523188</dd><dt>b2_x1</dt><dd>1.65019455276502</dd><dt>b3_x1</dt><dd>2.46691224407645</dd></dl>\n"
      ],
      "text/latex": [
       "\\begin{description*}\n",
       "\\item[b1\\textbackslash{}\\_x1] -15.0214198523188\n",
       "\\item[b2\\textbackslash{}\\_x1] 1.65019455276502\n",
       "\\item[b3\\textbackslash{}\\_x1] 2.46691224407645\n",
       "\\end{description*}\n"
      ],
      "text/markdown": [
       "b1_x1\n",
       ":   -15.0214198523188b2_x1\n",
       ":   1.65019455276502b3_x1\n",
       ":   2.46691224407645\n",
       "\n"
      ],
      "text/plain": [
       "     b1_x1      b2_x1      b3_x1 \n",
       "-15.021420   1.650195   2.466912 "
      ]
     },
     "metadata": {},
     "output_type": "display_data"
    }
   ],
   "source": [
    "b_update_1"
   ]
  },
  {
   "cell_type": "code",
   "execution_count": 198,
   "metadata": {},
   "outputs": [],
   "source": [
    "lambda_b_1<-c(b1_1_fit$lambda.min,b2_1_fit$lambda.min,b3_1_fit$lambda.min)"
   ]
  },
  {
   "cell_type": "code",
   "execution_count": 188,
   "metadata": {},
   "outputs": [],
   "source": [
    "X<-as.matrix(cbind(X1,X2,X3))"
   ]
  },
  {
   "cell_type": "code",
   "execution_count": 203,
   "metadata": {},
   "outputs": [],
   "source": [
    "fitted_1 <- X%*%b_update_1 \n",
    "Q_1 <- -sum(tweedie.dev(sim_train$y,fitted_1,1.7),na.rm=T)+sum(abs(r_update_1))*r12_1_fit$lambda.min+t(abs(b_update_1))%*%lambda_b_1"
   ]
  },
  {
   "cell_type": "code",
   "execution_count": null,
   "metadata": {},
   "outputs": [],
   "source": []
  }
 ],
 "metadata": {
  "kernelspec": {
   "display_name": "R",
   "language": "R",
   "name": "ir"
  },
  "language_info": {
   "codemirror_mode": "r",
   "file_extension": ".r",
   "mimetype": "text/x-r-source",
   "name": "R",
   "pygments_lexer": "r",
   "version": "4.1.1"
  }
 },
 "nbformat": 4,
 "nbformat_minor": 4
}
