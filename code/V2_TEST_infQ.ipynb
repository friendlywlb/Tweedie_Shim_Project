{
 "cells": [
  {
   "cell_type": "code",
   "execution_count": 1,
   "metadata": {},
   "outputs": [
    {
     "name": "stderr",
     "output_type": "stream",
     "text": [
      "Loading required package: coda\n",
      "\n",
      "Loading required package: Matrix\n",
      "\n",
      "Loading required package: splines\n",
      "\n",
      "Loading required package: lattice\n",
      "\n",
      "Loaded TDboost 1.2\n",
      "\n",
      "\n",
      "Loading required package: nlme\n",
      "\n",
      "\n",
      "Attaching package: 'nlme'\n",
      "\n",
      "\n",
      "The following objects are masked from 'package:cplm':\n",
      "\n",
      "    fixef, ranef, VarCorr\n",
      "\n",
      "\n",
      "This is mgcv 1.8-38. For overview type 'help(\"mgcv-package\")'.\n",
      "\n",
      "Loaded glmnet 4.1-2\n",
      "\n"
     ]
    }
   ],
   "source": [
    "library(fastDummies)\n",
    "library(cplm)\n",
    "library(tweedie)\n",
    "library(statmod)\n",
    "library(HDtweedie)\n",
    "library(TDboost)\n",
    "library(mgcv)\n",
    "library(MASS)\n",
    "library(glmnet)"
   ]
  },
  {
   "cell_type": "code",
   "execution_count": 93,
   "metadata": {},
   "outputs": [],
   "source": [
    "source(\"S_U.R\")"
   ]
  },
  {
   "cell_type": "code",
   "execution_count": 78,
   "metadata": {},
   "outputs": [
    {
     "data": {
      "text/plain": [
       "       V1           \n",
       " Min.   :  0.00000  \n",
       " 1st Qu.:  0.00257  \n",
       " Median :  0.04557  \n",
       " Mean   :  2.33736  \n",
       " 3rd Qu.:  0.58361  \n",
       " Max.   :123.33127  "
      ]
     },
     "metadata": {},
     "output_type": "display_data"
    }
   ],
   "source": [
    "x1<-runif(10000,2,8)\n",
    "x2<-runif(10000,-10,1)\n",
    "x3<-runif(10000,-2,0)\n",
    "b_t<-runif(4,-2,1)\n",
    "design_x <- as.matrix(cbind(x1,x2,x3,x1*x2))\n",
    "colnames(design_x) <- c('x1','x2','x3','x1:x2')\n",
    "mu<-exp(design_x%*%b_t)\n",
    "summary(mu)"
   ]
  },
  {
   "cell_type": "code",
   "execution_count": 80,
   "metadata": {},
   "outputs": [
    {
     "data": {
      "text/html": [
       "8878"
      ],
      "text/latex": [
       "8878"
      ],
      "text/markdown": [
       "8878"
      ],
      "text/plain": [
       "[1] 8878"
      ]
     },
     "metadata": {},
     "output_type": "display_data"
    }
   ],
   "source": [
    "y_sim<- rTweedie(mu,p=1.5,phi=10)\n",
    "length(which(y_sim==0))"
   ]
  },
  {
   "cell_type": "code",
   "execution_count": 81,
   "metadata": {},
   "outputs": [],
   "source": [
    "dd<-as.data.frame(cbind(design_x[,1:3],y_sim))"
   ]
  },
  {
   "cell_type": "code",
   "execution_count": 82,
   "metadata": {},
   "outputs": [],
   "source": [
    "sam <- sample(rep(1:2,len=10000))\n",
    "sim_train<-dd[sam==1,]\n",
    "sim_test<-dd[sam==2,]\n",
    "sim_train<-as.data.frame(sim_train)\n",
    "sim_test<-as.data.frame(sim_test)\n",
    "colnames(sim_train)[4]='y'\n",
    "colnames(sim_test)[4]='y'"
   ]
  },
  {
   "cell_type": "code",
   "execution_count": 83,
   "metadata": {},
   "outputs": [],
   "source": [
    "#Initial: For example, we can use the least square estimates or the simple regression estimates by regressing the response y on each of the terms.\n",
    "# Main effects\n",
    "fit_b1<-glm(y~x1-1,data=sim_train,family=tweedie(link.power=0,var.power=1.5),control=list(maxit=500))\n",
    "b1_0 <- fit_b1$coefficients\n",
    "\n",
    "fit_b2<-glm(y~x2-1,data=sim_train,family=tweedie(link.power=0,var.power=1.5),control=list(maxit=500))\n",
    "b2_0 <- fit_b2$coefficients\n",
    "\n",
    "fit_b3<-glm(y~x3-1,data=sim_train,family=tweedie(link.power=0,var.power=1.5),control=list(maxit=500))\n",
    "b3_0 <- fit_b3$coefficients\n",
    "\n",
    "#Interaction: when update r12, use y~b1b2x1x2 with no intercept.\n",
    "effect_12<-b1_0*b2_0*sim_train$x1*sim_train$x2\n",
    "fit_r12<-glm(sim_train$y~effect_12-1,family=tweedie(link.power=0,var.power=1.5),control=list(maxit=500))\n",
    "r12_0<-fit_r12$coefficients\n",
    "\n",
    "effect_13<-b1_0*b3_0*sim_train$x1*sim_train$x3\n",
    "fit_r13<-glm(sim_train$y~effect_13-1,family=tweedie(link.power=0,var.power=1.5),control=list(maxit=500))\n",
    "r13_0<-fit_r13$coefficients\n",
    "\n",
    "effect_23<-b1_0*b2_0*sim_train$x2*sim_train$x3\n",
    "fit_r23<-glm(sim_train$y~effect_23-1,family=tweedie(link.power=0,var.power=1.5),control=list(maxit=500))\n",
    "r23_0<-fit_r23$coefficients"
   ]
  },
  {
   "cell_type": "code",
   "execution_count": 84,
   "metadata": {},
   "outputs": [],
   "source": [
    "sx<-model.matrix(~.^2,data=sim_train[,1:3])"
   ]
  },
  {
   "cell_type": "code",
   "execution_count": 85,
   "metadata": {},
   "outputs": [],
   "source": [
    "base<-glmnet(x=sx, y=sim_train$y,family=tweedie(link.power=0,var.power=1.5),intercept=FALSE,control=list(maxit=500))\n",
    "lambb<-base$lambda"
   ]
  },
  {
   "cell_type": "code",
   "execution_count": 86,
   "metadata": {},
   "outputs": [],
   "source": [
    "beta_0_t<-c(b1_0, b2_0, b3_0)\n",
    "r_0_t<-c(r12_0,r13_0,r23_0)"
   ]
  },
  {
   "cell_type": "code",
   "execution_count": 112,
   "metadata": {},
   "outputs": [
    {
     "ename": "ERROR",
     "evalue": "Error in while (initial_per >= 0.005) {: missing value where TRUE/FALSE needed\n",
     "output_type": "error",
     "traceback": [
      "Error in while (initial_per >= 0.005) {: missing value where TRUE/FALSE needed\nTraceback:\n",
      "1. shim_lasso_update(sim_train[, 1:3], sim_train$y, 1.5, lamb_r = lambb[1], \n .     lamb_b = lambb[1], r_0_t, beta_0_t)"
     ]
    }
   ],
   "source": [
    "coef_result<-shim_lasso_update(sim_train[,1:3],sim_train$y,1.5,lamb_r=lambb[1],lamb_b=lambb[1],r_0_t,beta_0_t)"
   ]
  },
  {
   "cell_type": "code",
   "execution_count": 102,
   "metadata": {},
   "outputs": [
    {
     "data": {
      "text/html": [
       "<style>\n",
       ".dl-inline {width: auto; margin:0; padding: 0}\n",
       ".dl-inline>dt, .dl-inline>dd {float: none; width: auto; display: inline-block}\n",
       ".dl-inline>dt::after {content: \":\\0020\"; padding-right: .5ex}\n",
       ".dl-inline>dt:not(:first-of-type) {padding-left: .5ex}\n",
       "</style><dl class=dl-inline><dt>effect_12</dt><dd>2.97589896768622</dd><dt>effect_13</dt><dd>1.56737395710149</dd><dt>effect_23</dt><dd>-15.6861750351442</dd></dl>\n"
      ],
      "text/latex": [
       "\\begin{description*}\n",
       "\\item[effect\\textbackslash{}\\_12] 2.97589896768622\n",
       "\\item[effect\\textbackslash{}\\_13] 1.56737395710149\n",
       "\\item[effect\\textbackslash{}\\_23] -15.6861750351442\n",
       "\\end{description*}\n"
      ],
      "text/markdown": [
       "effect_12\n",
       ":   2.97589896768622effect_13\n",
       ":   1.56737395710149effect_23\n",
       ":   -15.6861750351442\n",
       "\n"
      ],
      "text/plain": [
       " effect_12  effect_13  effect_23 \n",
       "  2.975899   1.567374 -15.686175 "
      ]
     },
     "metadata": {},
     "output_type": "display_data"
    },
    {
     "data": {
      "text/html": [
       "<style>\n",
       ".dl-inline {width: auto; margin:0; padding: 0}\n",
       ".dl-inline>dt, .dl-inline>dd {float: none; width: auto; display: inline-block}\n",
       ".dl-inline>dt::after {content: \":\\0020\"; padding-right: .5ex}\n",
       ".dl-inline>dt:not(:first-of-type) {padding-left: .5ex}\n",
       "</style><dl class=dl-inline><dt>x1</dt><dd>0.0487587023419914</dd><dt>x2</dt><dd>-0.176228063275273</dd><dt>x3</dt><dd>-0.583105038265187</dd></dl>\n"
      ],
      "text/latex": [
       "\\begin{description*}\n",
       "\\item[x1] 0.0487587023419914\n",
       "\\item[x2] -0.176228063275273\n",
       "\\item[x3] -0.583105038265187\n",
       "\\end{description*}\n"
      ],
      "text/markdown": [
       "x1\n",
       ":   0.0487587023419914x2\n",
       ":   -0.176228063275273x3\n",
       ":   -0.583105038265187\n",
       "\n"
      ],
      "text/plain": [
       "        x1         x2         x3 \n",
       " 0.0487587 -0.1762281 -0.5831050 "
      ]
     },
     "metadata": {},
     "output_type": "display_data"
    }
   ],
   "source": [
    "r_0_t\n",
    "beta_0_t"
   ]
  },
  {
   "cell_type": "code",
   "execution_count": 113,
   "metadata": {},
   "outputs": [],
   "source": [
    "x=sim_train[,1:3]\n",
    "y=sim_train$y\n",
    "power=1.5\n",
    "lamb_r=lambb[1]\n",
    "lamb_b=lambb[1]"
   ]
  },
  {
   "cell_type": "code",
   "execution_count": 132,
   "metadata": {},
   "outputs": [],
   "source": [
    "initial_per<-999\n",
    "tmp_r<-r_0_t\n",
    "tmp_b<-beta_0_t\n",
    "n<-length(tmp_b)\n",
    "index<-combn(c(1:n),m=2)\n",
    "n_c=0"
   ]
  },
  {
   "cell_type": "code",
   "execution_count": 136,
   "metadata": {},
   "outputs": [],
   "source": [
    "index<-combn(c(1:n),m=2)    \n",
    "total_effect=0\n",
    "for (i in 1:n){\n",
    "    tmp_effect<-tmp_r[i]*tmp_b[index[1,i]]*tmp_b[index[2,i]]*x[,index[1,i]]*x[,index[2,i]]\n",
    "    total_effect=total_effect+tmp_effect\n",
    "}\n",
    "tmp_fitted<-exp(as.matrix(x)%*%tmp_b+total_effect)\n",
    "Q_1<-Q(y,tmp_fitted,power,lamb_r,lamb_b,tmp_r,tmp_b)\n",
    "    "
   ]
  },
  {
   "cell_type": "code",
   "execution_count": 150,
   "metadata": {},
   "outputs": [
    {
     "data": {
      "text/plain": [
       "      Min.    1st Qu.     Median       Mean    3rd Qu.       Max. \n",
       "      -Inf -7.469e-06 -2.710e-06       -Inf -1.738e-07 -8.000e-12 "
      ]
     },
     "metadata": {},
     "output_type": "display_data"
    }
   ],
   "source": [
    "summary(log(dtweedie(y=y,mu=tmp_fitted,phi=mean(tweedie.dev(y=y,mu=tmp_fitted,power=power)),power=power)))"
   ]
  },
  {
   "cell_type": "code",
   "execution_count": 116,
   "metadata": {},
   "outputs": [],
   "source": [
    "design_matrix<-c()\n",
    "    for (i in 1:n){\n",
    "        beta_tmp<-tmp_b[index[1,i]]*tmp_b[index[2,i]]\n",
    "        design_matrix<-cbind(design_matrix,beta_tmp*x[,index[1,i]]*x[,index[2,i]]  )\n",
    "    }"
   ]
  },
  {
   "cell_type": "code",
   "execution_count": 117,
   "metadata": {},
   "outputs": [
    {
     "data": {
      "text/html": [
       "FALSE"
      ],
      "text/latex": [
       "FALSE"
      ],
      "text/markdown": [
       "FALSE"
      ],
      "text/plain": [
       "[1] FALSE"
      ]
     },
     "metadata": {},
     "output_type": "display_data"
    }
   ],
   "source": [
    "all(design_matrix==0)"
   ]
  },
  {
   "cell_type": "code",
   "execution_count": 118,
   "metadata": {},
   "outputs": [],
   "source": [
    "tmp_r<-r_update(tmp_b,power=power,y=y,X=x,lambda=lamb_r)\n",
    "        tmp_b<-beta_update(tmp_b,tmp_r,power=power,y=y,X=x,lambda=lamb_b) \n",
    "        total_effect=0\n",
    "        for (i in 1:n){\n",
    "            tmp_effect<-tmp_r[i]*tmp_b[index[1,i]]*tmp_b[index[2,i]]*x[,index[1,i]]*x[,index[2,i]]\n",
    "            total_effect=total_effect+tmp_effect\n",
    "        }\n",
    "        tmp_fitted<-exp(as.matrix(x)%*%tmp_b+total_effect)\n",
    "        Q_2<-Q(y,tmp_fitted,power,lamb_r,lamb_b,tmp_r,tmp_b)\n",
    "        initial_per<-abs(Q_1-Q_2)/abs(Q_1)"
   ]
  },
  {
   "cell_type": "code",
   "execution_count": 122,
   "metadata": {},
   "outputs": [
    {
     "data": {
      "text/html": [
       "4855.69134021532"
      ],
      "text/latex": [
       "4855.69134021532"
      ],
      "text/markdown": [
       "4855.69134021532"
      ],
      "text/plain": [
       "[1] 4855.691"
      ]
     },
     "metadata": {},
     "output_type": "display_data"
    },
    {
     "data": {
      "text/html": [
       "Inf"
      ],
      "text/latex": [
       "Inf"
      ],
      "text/markdown": [
       "Inf"
      ],
      "text/plain": [
       "[1] Inf"
      ]
     },
     "metadata": {},
     "output_type": "display_data"
    }
   ],
   "source": [
    "Q_2\n",
    "Q_1"
   ]
  },
  {
   "cell_type": "code",
   "execution_count": 120,
   "metadata": {},
   "outputs": [
    {
     "data": {
      "text/html": [
       "NaN"
      ],
      "text/latex": [
       "NaN"
      ],
      "text/markdown": [
       "NaN"
      ],
      "text/plain": [
       "[1] NaN"
      ]
     },
     "metadata": {},
     "output_type": "display_data"
    }
   ],
   "source": [
    " initial_per"
   ]
  },
  {
   "cell_type": "code",
   "execution_count": 119,
   "metadata": {},
   "outputs": [
    {
     "data": {
      "text/html": [
       "&lt;NA&gt;"
      ],
      "text/latex": [
       "<NA>"
      ],
      "text/markdown": [
       "&lt;NA&gt;"
      ],
      "text/plain": [
       "[1] NA"
      ]
     },
     "metadata": {},
     "output_type": "display_data"
    }
   ],
   "source": [
    "initial_per>=0.05"
   ]
  },
  {
   "cell_type": "code",
   "execution_count": null,
   "metadata": {},
   "outputs": [],
   "source": [
    "design_matrix<-c()\n",
    "    for (i in 1:n){\n",
    "        beta_tmp<-tmp_b[index[1,i]]*tmp_b[index[2,i]]\n",
    "        design_matrix<-cbind(design_matrix,beta_tmp*x[,index[1,i]]*x[,index[2,i]]  )\n",
    "    }\n",
    "    if (all(design_matrix==0)){\n",
    "        result=data.frame('beta'=tmp_b,'r'=tmp_r,'n'=rep(n_c,length(tmp_b)))\n",
    "        return(result)\n",
    "        break\n",
    "    }\n",
    "        tmp_r<-r_update(tmp_b,power=power,y=y,X=x,lambda=lamb_r)\n",
    "        tmp_b<-beta_update(tmp_b,tmp_r,power=power,y=y,X=x,lambda=lamb_b) \n",
    "        total_effect=0\n",
    "        for (i in 1:n){\n",
    "            tmp_effect<-tmp_r[i]*tmp_b[index[1,i]]*tmp_b[index[2,i]]*x[,index[1,i]]*x[,index[2,i]]\n",
    "            total_effect=total_effect+tmp_effect\n",
    "        }\n",
    "        tmp_fitted<-exp(as.matrix(x)%*%tmp_b+total_effect)\n",
    "        Q_2<-Q(y,tmp_fitted,power,lamb_r,lamb_b,tmp_r,tmp_b)\n",
    "        initial_per<-abs(Q_1-Q_2)/abs(Q_1)\n",
    "        n_c=n_c+1\n"
   ]
  },
  {
   "cell_type": "code",
   "execution_count": 36,
   "metadata": {},
   "outputs": [],
   "source": [
    "fitted<-ts_fitted(sim_train[,1:3],coef_result[,1],coef_result[,2])"
   ]
  },
  {
   "cell_type": "code",
   "execution_count": 37,
   "metadata": {},
   "outputs": [
    {
     "data": {
      "text/html": [
       "2.25573072659194"
      ],
      "text/latex": [
       "2.25573072659194"
      ],
      "text/markdown": [
       "2.25573072659194"
      ],
      "text/plain": [
       "[1] 2.255731"
      ]
     },
     "metadata": {},
     "output_type": "display_data"
    }
   ],
   "source": [
    "power=1.5\n",
    "mean(tweedie.dev(sim_train$y,fitted,power))"
   ]
  },
  {
   "cell_type": "code",
   "execution_count": 95,
   "metadata": {},
   "outputs": [
    {
     "ename": "ERROR",
     "evalue": "Error in while (initial_per >= 0.005) {: missing value where TRUE/FALSE needed\n",
     "output_type": "error",
     "traceback": [
      "Error in while (initial_per >= 0.005) {: missing value where TRUE/FALSE needed\nTraceback:\n",
      "1. shim_lasso_update(sim_train[, 1:3], sim_train$y, power, lamb_r = r_lamb[i], \n .     lamb_b = beta_lamb[j], r_0_t, beta_0_t)"
     ]
    }
   ],
   "source": [
    "r_lamb<-lambb\n",
    "beta_lamb<-lambb\n",
    "n_lamb<-length(beta_lamb)\n",
    "power=1.5\n",
    "final_result=matrix(nrow=n_lamb,ncol=n_lamb)\n",
    "for (i in 1:n_lamb){\n",
    "    for (j in 1:n_lamb){\n",
    "        coef_result<-shim_lasso_update(sim_train[,1:3],sim_train$y,power,lamb_r=r_lamb[i],lamb_b=beta_lamb[j],r_0_t,beta_0_t)\n",
    "        fitted<-ts_fitted(sim_train[,1:3],coef_result[,1],coef_result[,2])\n",
    "        final_result[i,j]=sum(log(dtweedie(sim_train$y,mu=fitted,phi=sum(tweedie.dev(sim_train$y,fitted,1.5))/length(sim_train$y),power=1.5)))\n",
    "    }\n",
    "}"
   ]
  },
  {
   "cell_type": "code",
   "execution_count": 58,
   "metadata": {},
   "outputs": [],
   "source": [
    "coef_result<-shim_lasso_update(sim_train[,1:3],sim_train$y,power,lamb_r=r_lamb[15],lamb_b=beta_lamb[10],r_0_t,beta_0_t)\n",
    "fitted<-ts_fitted(sim_train[,1:3],coef_result[,1],coef_result[,2])"
   ]
  },
  {
   "cell_type": "code",
   "execution_count": 59,
   "metadata": {},
   "outputs": [
    {
     "data": {
      "text/html": [
       "<table class=\"dataframe\">\n",
       "<caption>A data.frame: 3 × 3</caption>\n",
       "<thead>\n",
       "\t<tr><th></th><th scope=col>beta</th><th scope=col>r</th><th scope=col>n</th></tr>\n",
       "\t<tr><th></th><th scope=col>&lt;dbl&gt;</th><th scope=col>&lt;dbl&gt;</th><th scope=col>&lt;dbl&gt;</th></tr>\n",
       "</thead>\n",
       "<tbody>\n",
       "\t<tr><th scope=row>V1</th><td>0</td><td>0</td><td>1</td></tr>\n",
       "\t<tr><th scope=row>V2</th><td>0</td><td>0</td><td>1</td></tr>\n",
       "\t<tr><th scope=row>V3</th><td>0</td><td>0</td><td>1</td></tr>\n",
       "</tbody>\n",
       "</table>\n"
      ],
      "text/latex": [
       "A data.frame: 3 × 3\n",
       "\\begin{tabular}{r|lll}\n",
       "  & beta & r & n\\\\\n",
       "  & <dbl> & <dbl> & <dbl>\\\\\n",
       "\\hline\n",
       "\tV1 & 0 & 0 & 1\\\\\n",
       "\tV2 & 0 & 0 & 1\\\\\n",
       "\tV3 & 0 & 0 & 1\\\\\n",
       "\\end{tabular}\n"
      ],
      "text/markdown": [
       "\n",
       "A data.frame: 3 × 3\n",
       "\n",
       "| <!--/--> | beta &lt;dbl&gt; | r &lt;dbl&gt; | n &lt;dbl&gt; |\n",
       "|---|---|---|---|\n",
       "| V1 | 0 | 0 | 1 |\n",
       "| V2 | 0 | 0 | 1 |\n",
       "| V3 | 0 | 0 | 1 |\n",
       "\n"
      ],
      "text/plain": [
       "   beta r n\n",
       "V1 0    0 1\n",
       "V2 0    0 1\n",
       "V3 0    0 1"
      ]
     },
     "metadata": {},
     "output_type": "display_data"
    }
   ],
   "source": [
    "coef_result\n"
   ]
  },
  {
   "cell_type": "code",
   "execution_count": 55,
   "metadata": {},
   "outputs": [
    {
     "data": {
      "text/html": [
       "<table class=\"dataframe\">\n",
       "<caption>A data.frame: 3 × 3</caption>\n",
       "<thead>\n",
       "\t<tr><th></th><th scope=col>beta</th><th scope=col>r</th><th scope=col>n</th></tr>\n",
       "\t<tr><th></th><th scope=col>&lt;dbl&gt;</th><th scope=col>&lt;dbl&gt;</th><th scope=col>&lt;dbl&gt;</th></tr>\n",
       "</thead>\n",
       "<tbody>\n",
       "\t<tr><th scope=row>V1</th><td>0</td><td>0</td><td>1</td></tr>\n",
       "\t<tr><th scope=row>V2</th><td>0</td><td>0</td><td>1</td></tr>\n",
       "\t<tr><th scope=row>V3</th><td>0</td><td>0</td><td>1</td></tr>\n",
       "</tbody>\n",
       "</table>\n"
      ],
      "text/latex": [
       "A data.frame: 3 × 3\n",
       "\\begin{tabular}{r|lll}\n",
       "  & beta & r & n\\\\\n",
       "  & <dbl> & <dbl> & <dbl>\\\\\n",
       "\\hline\n",
       "\tV1 & 0 & 0 & 1\\\\\n",
       "\tV2 & 0 & 0 & 1\\\\\n",
       "\tV3 & 0 & 0 & 1\\\\\n",
       "\\end{tabular}\n"
      ],
      "text/markdown": [
       "\n",
       "A data.frame: 3 × 3\n",
       "\n",
       "| <!--/--> | beta &lt;dbl&gt; | r &lt;dbl&gt; | n &lt;dbl&gt; |\n",
       "|---|---|---|---|\n",
       "| V1 | 0 | 0 | 1 |\n",
       "| V2 | 0 | 0 | 1 |\n",
       "| V3 | 0 | 0 | 1 |\n",
       "\n"
      ],
      "text/plain": [
       "   beta r n\n",
       "V1 0    0 1\n",
       "V2 0    0 1\n",
       "V3 0    0 1"
      ]
     },
     "metadata": {},
     "output_type": "display_data"
    }
   ],
   "source": [
    "coef_result<-shim_lasso_update(sim_train[,1:3],sim_train$y,power,lamb_r=r_lamb[5],lamb_b=beta_lamb[5],r_0_t,beta_0_t)\n",
    "coef_result"
   ]
  }
 ],
 "metadata": {
  "kernelspec": {
   "display_name": "R",
   "language": "R",
   "name": "ir"
  },
  "language_info": {
   "codemirror_mode": "r",
   "file_extension": ".r",
   "mimetype": "text/x-r-source",
   "name": "R",
   "pygments_lexer": "r",
   "version": "4.1.1"
  }
 },
 "nbformat": 4,
 "nbformat_minor": 4
}
