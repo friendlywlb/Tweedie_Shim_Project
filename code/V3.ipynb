{
 "cells": [
  {
   "cell_type": "code",
   "execution_count": 1,
   "metadata": {},
   "outputs": [
    {
     "name": "stderr",
     "output_type": "stream",
     "text": [
      "Loading required package: coda\n",
      "\n",
      "Loading required package: Matrix\n",
      "\n",
      "Loading required package: splines\n",
      "\n",
      "Loading required package: lattice\n",
      "\n",
      "Loaded TDboost 1.2\n",
      "\n",
      "\n",
      "Loading required package: nlme\n",
      "\n",
      "\n",
      "Attaching package: 'nlme'\n",
      "\n",
      "\n",
      "The following objects are masked from 'package:cplm':\n",
      "\n",
      "    fixef, ranef, VarCorr\n",
      "\n",
      "\n",
      "This is mgcv 1.8-38. For overview type 'help(\"mgcv-package\")'.\n",
      "\n",
      "Loaded glmnet 4.1-2\n",
      "\n"
     ]
    }
   ],
   "source": [
    "library(fastDummies)\n",
    "library(cplm)\n",
    "library(tweedie)\n",
    "library(statmod)\n",
    "library(HDtweedie)\n",
    "library(TDboost)\n",
    "library(mgcv)\n",
    "library(MASS)\n",
    "library(glmnet)"
   ]
  },
  {
   "cell_type": "code",
   "execution_count": 2,
   "metadata": {},
   "outputs": [],
   "source": [
    "source(\"S_U.R\")"
   ]
  },
  {
   "cell_type": "markdown",
   "metadata": {},
   "source": [
    "Without standardization, it will have fitting problem."
   ]
  },
  {
   "cell_type": "code",
   "execution_count": 4,
   "metadata": {},
   "outputs": [
    {
     "data": {
      "text/plain": [
       "       V1           \n",
       " Min.   :  0.00102  \n",
       " 1st Qu.:  0.27046  \n",
       " Median :  0.57969  \n",
       " Mean   :  0.84027  \n",
       " 3rd Qu.:  1.05024  \n",
       " Max.   :144.72393  "
      ]
     },
     "metadata": {},
     "output_type": "display_data"
    }
   ],
   "source": [
    "x1<-rnorm(10000,0,1)\n",
    "x2<-rnorm(10000,0,1)\n",
    "x3<-rnorm(10000,0,1)\n",
    "X<-as.data.frame(cbind(x1,x2,x3))\n",
    "b_t<-runif(5,-2,1)\n",
    "design_x <- model.matrix(~.+x1*x2,data=X)\n",
    "mu<-exp(design_x%*%b_t)\n",
    "summary(mu)"
   ]
  },
  {
   "cell_type": "code",
   "execution_count": 5,
   "metadata": {},
   "outputs": [
    {
     "data": {
      "text/html": [
       "8515"
      ],
      "text/latex": [
       "8515"
      ],
      "text/markdown": [
       "8515"
      ],
      "text/plain": [
       "[1] 8515"
      ]
     },
     "metadata": {},
     "output_type": "display_data"
    }
   ],
   "source": [
    "y_sim<- rTweedie(mu,p=1.5,phi=10)\n",
    "length(which(y_sim==0))"
   ]
  },
  {
   "cell_type": "code",
   "execution_count": 6,
   "metadata": {},
   "outputs": [],
   "source": [
    "dd<-as.data.frame(cbind(design_x[,2:4],y_sim))\n",
    "sam <- sample(rep(1:2,len=10000))\n",
    "sim_train<-dd[sam==1,]\n",
    "sim_test<-dd[sam==2,]\n",
    "sim_train<-as.data.frame(sim_train)\n",
    "sim_test<-as.data.frame(sim_test)\n",
    "colnames(sim_train)[4]='y'\n",
    "colnames(sim_test)[4]='y'"
   ]
  },
  {
   "cell_type": "code",
   "execution_count": 7,
   "metadata": {},
   "outputs": [
    {
     "data": {
      "text/plain": [
       "\n",
       "Call:\n",
       "glm(formula = y ~ . + x1 * x2, family = tweedie(link.power = 0, \n",
       "    var.power = 1.5), data = sim_train)\n",
       "\n",
       "Deviance Residuals: \n",
       "   Min      1Q  Median      3Q     Max  \n",
       "-7.261  -1.965  -1.651  -1.202   9.987  \n",
       "\n",
       "Coefficients:\n",
       "            Estimate Std. Error t value Pr(>|t|)    \n",
       "(Intercept) -0.65850    0.05525 -11.920   <2e-16 ***\n",
       "x1           0.82700    0.04740  17.448   <2e-16 ***\n",
       "x2           0.49318    0.05161   9.556   <2e-16 ***\n",
       "x3          -0.08082    0.04856  -1.664   0.0961 .  \n",
       "x1:x2       -0.45199    0.04226 -10.696   <2e-16 ***\n",
       "---\n",
       "Signif. codes:  0 '***' 0.001 '**' 0.01 '*' 0.05 '.' 0.1 ' ' 1\n",
       "\n",
       "(Dispersion parameter for Tweedie family taken to be 9.821138)\n",
       "\n",
       "    Null deviance: 24586  on 4999  degrees of freedom\n",
       "Residual deviance: 20713  on 4995  degrees of freedom\n",
       "AIC: NA\n",
       "\n",
       "Number of Fisher Scoring iterations: 5\n"
      ]
     },
     "metadata": {},
     "output_type": "display_data"
    },
    {
     "data": {
      "text/html": [
       "4.14259640753163"
      ],
      "text/latex": [
       "4.14259640753163"
      ],
      "text/markdown": [
       "4.14259640753163"
      ],
      "text/plain": [
       "[1] 4.142596"
      ]
     },
     "metadata": {},
     "output_type": "display_data"
    },
    {
     "data": {
      "text/html": [
       "<style>\n",
       ".list-inline {list-style: none; margin:0; padding: 0}\n",
       ".list-inline>li {display: inline-block}\n",
       ".list-inline>li:not(:last-child)::after {content: \"\\00b7\"; padding: 0 .5ex}\n",
       "</style>\n",
       "<ol class=list-inline><li>-0.712854170938954</li><li>0.877843932714313</li><li>0.494816966820508</li><li>-0.0347930109128356</li><li>-0.410906714387238</li></ol>\n"
      ],
      "text/latex": [
       "\\begin{enumerate*}\n",
       "\\item -0.712854170938954\n",
       "\\item 0.877843932714313\n",
       "\\item 0.494816966820508\n",
       "\\item -0.0347930109128356\n",
       "\\item -0.410906714387238\n",
       "\\end{enumerate*}\n"
      ],
      "text/markdown": [
       "1. -0.712854170938954\n",
       "2. 0.877843932714313\n",
       "3. 0.494816966820508\n",
       "4. -0.0347930109128356\n",
       "5. -0.410906714387238\n",
       "\n",
       "\n"
      ],
      "text/plain": [
       "[1] -0.71285417  0.87784393  0.49481697 -0.03479301 -0.41090671"
      ]
     },
     "metadata": {},
     "output_type": "display_data"
    }
   ],
   "source": [
    "fit1<-glm(y~.+x1*x2,data=sim_train,family=tweedie(link.power=0,var.power=1.5))\n",
    "summary(fit1)\n",
    "mean(residuals(fit1)^2)\n",
    "b_t"
   ]
  },
  {
   "cell_type": "markdown",
   "metadata": {},
   "source": [
    "Change initialization"
   ]
  },
  {
   "cell_type": "code",
   "execution_count": 8,
   "metadata": {},
   "outputs": [],
   "source": [
    "fit_0<-glm(y~.^2,data=sim_train,family=tweedie(link.power=0,var.power=1.5),control=list(maxit=500))\n",
    "fit_0$coefficients"
   ]
  },
  {
   "cell_type": "code",
   "execution_count": 185,
   "metadata": {},
   "outputs": [],
   "source": [
    "# #Initial: For example, we can use the least square estimates or the simple regression estimates by regressing the response y on each of the terms.\n",
    "\n",
    "# fit_b0<-glm(y~1,data=sim_train,family=tweedie(link.power=0,var.power=1.5),control=list(maxit=500))\n",
    "# b0_0 <- fit_b0$coefficients\n",
    "\n",
    "# # Main effects\n",
    "\n",
    "# fit_b1<-glm(y~x1-1,data=sim_train,family=tweedie(link.power=0,var.power=1.5),control=list(maxit=500))\n",
    "# b1_0 <- fit_b1$coefficients\n",
    "\n",
    "# fit_b2<-glm(y~x2-1,data=sim_train,family=tweedie(link.power=0,var.power=1.5),control=list(maxit=500))\n",
    "# b2_0 <- fit_b2$coefficients\n",
    "\n",
    "# fit_b3<-glm(y~x3-1,data=sim_train,family=tweedie(link.power=0,var.power=1.5),control=list(maxit=500))\n",
    "# b3_0 <- fit_b3$coefficients\n",
    "# #Interaction: when update r12, use y~b1b2x1x2 with no intercept.\n",
    "# effect_12<-b1_0*b2_0*sim_train$x1*sim_train$x2\n",
    "# fit_r12<-glm(sim_train$y~effect_12-1,family=tweedie(link.power=0,var.power=1.5),control=list(maxit=500))\n",
    "# r12_0<-fit_r12$coefficients\n",
    "\n",
    "# effect_13<-b1_0*b3_0*sim_train$x1*sim_train$x3\n",
    "# fit_r13<-glm(sim_train$y~effect_13-1,family=tweedie(link.power=0,var.power=1.5),control=list(maxit=500))\n",
    "# r13_0<-fit_r13$coefficients\n",
    "\n",
    "# effect_23<-b1_0*b2_0*sim_train$x2*sim_train$x3\n",
    "# fit_r23<-glm(sim_train$y~effect_23-1,family=tweedie(link.power=0,var.power=1.5),control=list(maxit=500))\n",
    "# r23_0<-fit_r23$coefficients"
   ]
  },
  {
   "cell_type": "code",
   "execution_count": 10,
   "metadata": {},
   "outputs": [],
   "source": [
    "b0_0<-fit_0$coefficients[1]\n",
    "b1_0<-fit_0$coefficients[2]\n",
    "b2_0<-fit_0$coefficients[3]\n",
    "b3_0<-fit_0$coefficients[4]\n",
    "r12_0<-fit_0$coefficients[5]/(b1_0*b2_0)\n",
    "r13_0<-fit_0$coefficients[6]/(b1_0*b3_0)\n",
    "r23_0<-fit_0$coefficients[7]/(b2_0*b3_0)"
   ]
  },
  {
   "cell_type": "code",
   "execution_count": 11,
   "metadata": {},
   "outputs": [],
   "source": [
    "effect_12<-b1_0*b2_0*sim_train$x1*sim_train$x2\n",
    "effect_13<-b1_0*b3_0*sim_train$x1*sim_train$x3\n",
    "effect_23<-b1_0*b2_0*sim_train$x2*sim_train$x3"
   ]
  },
  {
   "cell_type": "code",
   "execution_count": null,
   "metadata": {},
   "outputs": [],
   "source": [
    "X1<-sim_train$x1\n",
    "X2<-sim_train$x2\n",
    "X3<-sim_train$x3\n",
    "X<-as.matrix(cbind(X1,X2,X3))"
   ]
  },
  {
   "cell_type": "markdown",
   "metadata": {},
   "source": [
    "Lambda choice"
   ]
  },
  {
   "cell_type": "code",
   "execution_count": 12,
   "metadata": {},
   "outputs": [],
   "source": [
    "mysd <- function(z) sqrt(sum((z-mean(z))^2)/length(z))\n",
    "sx <- scale(X, scale = apply(X, 2, mysd))\n",
    "sx <- as.matrix(sx)\n",
    "sy=sim_train$y"
   ]
  },
  {
   "cell_type": "code",
   "execution_count": 13,
   "metadata": {},
   "outputs": [],
   "source": [
    "lambda_max <- max(abs(colSums(sx*sy)))/5000"
   ]
  },
  {
   "cell_type": "code",
   "execution_count": 14,
   "metadata": {},
   "outputs": [
    {
     "data": {
      "text/html": [
       "<style>\n",
       ".list-inline {list-style: none; margin:0; padding: 0}\n",
       ".list-inline>li {display: inline-block}\n",
       ".list-inline>li:not(:last-child)::after {content: \"\\00b7\"; padding: 0 .5ex}\n",
       "</style>\n",
       "<ol class=list-inline><li>0.1157734357</li><li>0.0416068155</li><li>0.0149527142</li><li>0.0053737269</li><li>0.0019312173</li><li>0.0006940435</li><li>0.0002494263</li><li>8.96392e-05</li><li>3.22146e-05</li><li>1.15773e-05</li></ol>\n"
      ],
      "text/latex": [
       "\\begin{enumerate*}\n",
       "\\item 0.1157734357\n",
       "\\item 0.0416068155\n",
       "\\item 0.0149527142\n",
       "\\item 0.0053737269\n",
       "\\item 0.0019312173\n",
       "\\item 0.0006940435\n",
       "\\item 0.0002494263\n",
       "\\item 8.96392e-05\n",
       "\\item 3.22146e-05\n",
       "\\item 1.15773e-05\n",
       "\\end{enumerate*}\n"
      ],
      "text/markdown": [
       "1. 0.1157734357\n",
       "2. 0.0416068155\n",
       "3. 0.0149527142\n",
       "4. 0.0053737269\n",
       "5. 0.0019312173\n",
       "6. 0.0006940435\n",
       "7. 0.0002494263\n",
       "8. 8.96392e-05\n",
       "9. 3.22146e-05\n",
       "10. 1.15773e-05\n",
       "\n",
       "\n"
      ],
      "text/plain": [
       " [1] 0.1157734357 0.0416068155 0.0149527142 0.0053737269 0.0019312173\n",
       " [6] 0.0006940435 0.0002494263 0.0000896392 0.0000322146 0.0000115773"
      ]
     },
     "metadata": {},
     "output_type": "display_data"
    }
   ],
   "source": [
    "epsilon <- .0001\n",
    "K <- 10\n",
    "lambdapath <- round(exp(seq(log(lambda_max), log(lambda_max*epsilon), \n",
    "                            length.out = K)), digits = 10)\n",
    "lambdapath"
   ]
  },
  {
   "cell_type": "code",
   "execution_count": 37,
   "metadata": {},
   "outputs": [],
   "source": [
    "r_update<-function(beta,power,y,X,lambda){\n",
    "    offset=as.matrix(cbind(1,X))%*%beta\n",
    "    beta_x<-beta[-1]\n",
    "    n<-length(beta_x)\n",
    "    design_matrix<-c()\n",
    "    index<-combn(c(1:n),m=2)\n",
    "    for (i in 1:n){\n",
    "        beta_tmp<-beta_x[index[1,i]]*beta_x[index[2,i]]\n",
    "        design_matrix<-cbind(design_matrix,beta_tmp*X[,index[1,i]]*X[,index[2,i]]  )\n",
    "    }\n",
    "    design_matrix<-as.matrix(design_matrix)\n",
    "    r_fit<-glmnet(x=design_matrix,y=y,family=tweedie(link.power=0,var.power=power),offset=offset,intercept=FALSE,lambda=lambda,control=list(maxit=500))\n",
    "    return(coef(r_fit)[-1,1])\n",
    "}"
   ]
  },
  {
   "cell_type": "markdown",
   "metadata": {},
   "source": [
    "Here divergence or not converge does not affect beta when adding more iterations"
   ]
  },
  {
   "cell_type": "code",
   "execution_count": 350,
   "metadata": {},
   "outputs": [
    {
     "name": "stderr",
     "output_type": "stream",
     "text": [
      "Warning message:\n",
      "\"Infinite objective function!\"\n",
      "Warning message:\n",
      "\"step size truncated due to divergence\"\n"
     ]
    },
    {
     "data": {
      "text/html": [
       "<strong>b1_x1:</strong> -1.94184833843044"
      ],
      "text/latex": [
       "\\textbf{b1\\textbackslash{}\\_x1:} -1.94184833843044"
      ],
      "text/markdown": [
       "**b1_x1:** -1.94184833843044"
      ],
      "text/plain": [
       "    b1_x1 \n",
       "-1.941848 "
      ]
     },
     "metadata": {},
     "output_type": "display_data"
    }
   ],
   "source": [
    "#Update b1. To note design matrix is (0, x1)\n",
    "offset_b1<-b2_0*X2+b3_0*X3+b2_0*b3_0*X2*X3+b0_0\n",
    "b1_x1<-X1+r_update_1[1]*b2_0*X1*X2+r_update_1[2]*b3_0*X1*X3\n",
    "b1_matrix <- (as.matrix(cbind(0,b1_x1)))\n",
    "b1_1_fit<-glmnet(x=b1_matrix,y=sim_train$y,family=tweedie(link.power=0,var.power=1.5)\n",
    "                    ,offset=offset_b1,intercept=FALSE,lambda=0.08,control=list(maxit=5000))\n",
    "b1_update<-coef(b1_1_fit)[,1]\n",
    "b1_update_1<-b1_update[3]\n",
    "b1_update_1"
   ]
  },
  {
   "cell_type": "code",
   "execution_count": 351,
   "metadata": {},
   "outputs": [],
   "source": [
    "#Update b2\n",
    "offset_b2<-b1_update_1*X1+b3_0*X3+b1_update_1*b3_0*X1*X3+b0_0\n",
    "b2_x1<-X2+r_update_1[1]*b1_update_1*X1*X2+r_update_1[3]*b3_0*X2*X3\n",
    "b2_matrix <- as.matrix(cbind(0,b2_x1))\n",
    "b2_1_fit<-glmnet(x=b2_matrix,y=sim_train$y,family=tweedie(link.power=0,var.power=1.5)\n",
    "                    ,offset=offset_b2,intercept=FALSE,lambda=0.08)\n",
    "b2_update<-coef(b2_1_fit,s='lambda.min')[,1]\n",
    "b2_update_1<-b2_update[3]"
   ]
  },
  {
   "cell_type": "code",
   "execution_count": 340,
   "metadata": {},
   "outputs": [],
   "source": [
    "#Update b3\n",
    "offset_b3<-b1_update_1*X1+b2_update_1*X2+b1_update_1*b2_update_1*X1*X2+b0_0\n",
    "b3_x1<-X3+r_update_1[2]*b1_update_1*X1*X3+r_update_1[3]*b2_update_1*X2*X3\n",
    "b3_matrix <- (as.matrix(cbind(0,b3_x1)))\n",
    "b3_1_fit<-glmnet(x=b3_matrix,y=sim_train$y,family=tweedie(link.power=0,var.power=1.5),offset=offset_b3,control=list(maxit=5000)\n",
    "                    ,lambda=0.08,intercept=FALSE)\n",
    "b3_update<-coef(b3_1_fit,s='lambda.min')[,1]\n",
    "b3_update_1<-b3_update[3]"
   ]
  },
  {
   "cell_type": "code",
   "execution_count": 341,
   "metadata": {},
   "outputs": [],
   "source": [
    "#Update b0\n",
    "offset_b0<-b1_update_1*X1+b2_update_1*X2+b3_update_1*X3+b1_update_1*b2_update_1*X1*X2+b2_update_1*b3_update_1*X2*X3+b1_update_1*b3_update_1*X1*X3   \n",
    "b0_1_fit<-glm(sim_train$y~1,offset=offset_b0,family=tweedie(link.power=0,var.power=1.5),control=list(maxit=500))\n",
    "b0_update_1<-b0_1_fit$coefficients"
   ]
  },
  {
   "cell_type": "code",
   "execution_count": 342,
   "metadata": {},
   "outputs": [
    {
     "data": {
      "text/html": [
       "<strong>(Intercept):</strong> 0.602640096373793"
      ],
      "text/latex": [
       "\\textbf{(Intercept):} 0.602640096373793"
      ],
      "text/markdown": [
       "**(Intercept):** 0.602640096373793"
      ],
      "text/plain": [
       "(Intercept) \n",
       "  0.6026401 "
      ]
     },
     "metadata": {},
     "output_type": "display_data"
    },
    {
     "data": {
      "text/html": [
       "<strong>b1_x1:</strong> -1.94184833843044"
      ],
      "text/latex": [
       "\\textbf{b1\\textbackslash{}\\_x1:} -1.94184833843044"
      ],
      "text/markdown": [
       "**b1_x1:** -1.94184833843044"
      ],
      "text/plain": [
       "    b1_x1 \n",
       "-1.941848 "
      ]
     },
     "metadata": {},
     "output_type": "display_data"
    },
    {
     "data": {
      "text/html": [
       "<strong>b2_x1:</strong> -0.423837232128378"
      ],
      "text/latex": [
       "\\textbf{b2\\textbackslash{}\\_x1:} -0.423837232128378"
      ],
      "text/markdown": [
       "**b2_x1:** -0.423837232128378"
      ],
      "text/plain": [
       "     b2_x1 \n",
       "-0.4238372 "
      ]
     },
     "metadata": {},
     "output_type": "display_data"
    },
    {
     "data": {
      "text/html": [
       "<strong>b3_x1:</strong> 0.0791231280961265"
      ],
      "text/latex": [
       "\\textbf{b3\\textbackslash{}\\_x1:} 0.0791231280961265"
      ],
      "text/markdown": [
       "**b3_x1:** 0.0791231280961265"
      ],
      "text/plain": [
       "     b3_x1 \n",
       "0.07912313 "
      ]
     },
     "metadata": {},
     "output_type": "display_data"
    },
    {
     "data": {
      "text/html": [
       "<style>\n",
       ".dl-inline {width: auto; margin:0; padding: 0}\n",
       ".dl-inline>dt, .dl-inline>dd {float: none; width: auto; display: inline-block}\n",
       ".dl-inline>dt::after {content: \":\\0020\"; padding-right: .5ex}\n",
       ".dl-inline>dt:not(:first-of-type) {padding-left: .5ex}\n",
       "</style><dl class=dl-inline><dt>effect_12</dt><dd>0.776374405698975</dd><dt>effect_13</dt><dd>0</dd><dt>effect_23</dt><dd>0</dd></dl>\n"
      ],
      "text/latex": [
       "\\begin{description*}\n",
       "\\item[effect\\textbackslash{}\\_12] 0.776374405698975\n",
       "\\item[effect\\textbackslash{}\\_13] 0\n",
       "\\item[effect\\textbackslash{}\\_23] 0\n",
       "\\end{description*}\n"
      ],
      "text/markdown": [
       "effect_12\n",
       ":   0.776374405698975effect_13\n",
       ":   0effect_23\n",
       ":   0\n",
       "\n"
      ],
      "text/plain": [
       "effect_12 effect_13 effect_23 \n",
       "0.7763744 0.0000000 0.0000000 "
      ]
     },
     "metadata": {},
     "output_type": "display_data"
    }
   ],
   "source": [
    "b0_update_1\n",
    "b1_update_1\n",
    "b2_update_1\n",
    "b3_update_1\n",
    "r_update_1"
   ]
  },
  {
   "cell_type": "code",
   "execution_count": 266,
   "metadata": {},
   "outputs": [],
   "source": [
    "b_update_1<-c(b1_update_1,b2_update_1,b3_update_1)"
   ]
  },
  {
   "cell_type": "code",
   "execution_count": 358,
   "metadata": {},
   "outputs": [],
   "source": [
    "Q_r<-function(y,mu,power,lamb_r,lamb_b,r,b){\n",
    "    den<-tweedie.dev(y=y,mu=mu,power=power)\n",
    "    Q<-sum(den,na.rm=T)+sum(abs(r))*lamb_r+sum(abs(b[-1]))*lamb_b\n",
    "    return(Q)\n",
    "}"
   ]
  },
  {
   "cell_type": "code",
   "execution_count": 17,
   "metadata": {},
   "outputs": [],
   "source": [
    "options(warn=-1)\n",
    "r_0_t<-c(r12_0,r13_0,r23_0)\n",
    "beta_0_t<-c(b0_0,b1_0, b2_0, b3_0)"
   ]
  },
  {
   "cell_type": "code",
   "execution_count": 18,
   "metadata": {},
   "outputs": [],
   "source": [
    "r_lamb<-lambdapath\n",
    "beta_lamb<-lambdapath\n",
    "n_lamb<-length(beta_lamb)\n",
    "power=1.5\n",
    "final_result=matrix(nrow=n_lamb,ncol=n_lamb)"
   ]
  },
  {
   "cell_type": "code",
   "execution_count": 81,
   "metadata": {},
   "outputs": [],
   "source": [
    "for (i in 1:n_lamb){\n",
    "    for (j in 1:n_lamb){\n",
    "        coef_result<-shim_lasso_update_2(sim_train[,1:3],sim_train$y,power,lamb_r=r_lamb[i],lamb_b=beta_lamb[j],r_0_t,beta_0_t)\n",
    "        fitted<-ts_fitted(sim_train[,1:3],coef_result$'beta',coef_result$'r')\n",
    "        final_result[i,j]=mean(tweedie.dev(sim_train$y,fitted,1.5))\n",
    "}\n",
    "    }"
   ]
  },
  {
   "cell_type": "code",
   "execution_count": 83,
   "metadata": {},
   "outputs": [
    {
     "data": {
      "text/html": [
       "<table class=\"dataframe\">\n",
       "<caption>A matrix: 1 × 2 of type int</caption>\n",
       "<thead>\n",
       "\t<tr><th scope=col>row</th><th scope=col>col</th></tr>\n",
       "</thead>\n",
       "<tbody>\n",
       "\t<tr><td>7</td><td>3</td></tr>\n",
       "</tbody>\n",
       "</table>\n"
      ],
      "text/latex": [
       "A matrix: 1 × 2 of type int\n",
       "\\begin{tabular}{ll}\n",
       " row & col\\\\\n",
       "\\hline\n",
       "\t 7 & 3\\\\\n",
       "\\end{tabular}\n"
      ],
      "text/markdown": [
       "\n",
       "A matrix: 1 × 2 of type int\n",
       "\n",
       "| row | col |\n",
       "|---|---|\n",
       "| 7 | 3 |\n",
       "\n"
      ],
      "text/plain": [
       "     row col\n",
       "[1,] 7   3  "
      ]
     },
     "metadata": {},
     "output_type": "display_data"
    }
   ],
   "source": [
    "which(final_result==min(final_result,na.rm=T), arr.ind = TRUE)"
   ]
  },
  {
   "cell_type": "code",
   "execution_count": 86,
   "metadata": {},
   "outputs": [
    {
     "data": {
      "text/html": [
       "4.16197923901712"
      ],
      "text/latex": [
       "4.16197923901712"
      ],
      "text/markdown": [
       "4.16197923901712"
      ],
      "text/plain": [
       "[1] 4.161979"
      ]
     },
     "metadata": {},
     "output_type": "display_data"
    },
    {
     "data": {
      "text/html": [
       "4.14259640753163"
      ],
      "text/latex": [
       "4.14259640753163"
      ],
      "text/markdown": [
       "4.14259640753163"
      ],
      "text/plain": [
       "[1] 4.142596"
      ]
     },
     "metadata": {},
     "output_type": "display_data"
    }
   ],
   "source": [
    "min(final_result,na.rm=T)\n",
    "mean(residuals(fit1)^2)"
   ]
  },
  {
   "cell_type": "code",
   "execution_count": 76,
   "metadata": {},
   "outputs": [],
   "source": [
    "coef_result<-shim_lasso_update_2(sim_train[,1:3],sim_train$y,power,lamb_r=r_lamb[7],lamb_b=beta_lamb[3],r_0_t,beta_0_t)"
   ]
  },
  {
   "cell_type": "code",
   "execution_count": 77,
   "metadata": {},
   "outputs": [
    {
     "data": {
      "text/html": [
       "<style>\n",
       ".dl-inline {width: auto; margin:0; padding: 0}\n",
       ".dl-inline>dt, .dl-inline>dd {float: none; width: auto; display: inline-block}\n",
       ".dl-inline>dt::after {content: \":\\0020\"; padding-right: .5ex}\n",
       ".dl-inline>dt:not(:first-of-type) {padding-left: .5ex}\n",
       "</style><dl class=dl-inline><dt>(Intercept)</dt><dd>-0.490689418314693</dd><dt>2</dt><dd>0.815785510556225</dd><dt>3</dt><dd>0.481571363116383</dd><dt>4</dt><dd>-0.0598772362341832</dd></dl>\n"
      ],
      "text/latex": [
       "\\begin{description*}\n",
       "\\item[(Intercept)] -0.490689418314693\n",
       "\\item[2] 0.815785510556225\n",
       "\\item[3] 0.481571363116383\n",
       "\\item[4] -0.0598772362341832\n",
       "\\end{description*}\n"
      ],
      "text/markdown": [
       "(Intercept)\n",
       ":   -0.4906894183146932\n",
       ":   0.8157855105562253\n",
       ":   0.4815713631163834\n",
       ":   -0.0598772362341832\n",
       "\n"
      ],
      "text/plain": [
       "(Intercept)                                     \n",
       "-0.49068942  0.81578551  0.48157136 -0.05987724 "
      ]
     },
     "metadata": {},
     "output_type": "display_data"
    },
    {
     "data": {
      "text/html": [
       "<style>\n",
       ".dl-inline {width: auto; margin:0; padding: 0}\n",
       ".dl-inline>dt, .dl-inline>dd {float: none; width: auto; display: inline-block}\n",
       ".dl-inline>dt::after {content: \":\\0020\"; padding-right: .5ex}\n",
       ".dl-inline>dt:not(:first-of-type) {padding-left: .5ex}\n",
       "</style><dl class=dl-inline><dt>V1</dt><dd>-1.10669071173504</dd><dt>V2</dt><dd>0.840504602442539</dd><dt>V3</dt><dd>0.194562682854936</dd></dl>\n"
      ],
      "text/latex": [
       "\\begin{description*}\n",
       "\\item[V1] -1.10669071173504\n",
       "\\item[V2] 0.840504602442539\n",
       "\\item[V3] 0.194562682854936\n",
       "\\end{description*}\n"
      ],
      "text/markdown": [
       "V1\n",
       ":   -1.10669071173504V2\n",
       ":   0.840504602442539V3\n",
       ":   0.194562682854936\n",
       "\n"
      ],
      "text/plain": [
       "        V1         V2         V3 \n",
       "-1.1066907  0.8405046  0.1945627 "
      ]
     },
     "metadata": {},
     "output_type": "display_data"
    }
   ],
   "source": [
    "coef_result$beta\n",
    "coef_result$r"
   ]
  },
  {
   "cell_type": "code",
   "execution_count": 88,
   "metadata": {},
   "outputs": [
    {
     "data": {
      "text/html": [
       "0.0002494263"
      ],
      "text/latex": [
       "0.0002494263"
      ],
      "text/markdown": [
       "0.0002494263"
      ],
      "text/plain": [
       "[1] 0.0002494263"
      ]
     },
     "metadata": {},
     "output_type": "display_data"
    },
    {
     "data": {
      "text/html": [
       "0.0149527142"
      ],
      "text/latex": [
       "0.0149527142"
      ],
      "text/markdown": [
       "0.0149527142"
      ],
      "text/plain": [
       "[1] 0.01495271"
      ]
     },
     "metadata": {},
     "output_type": "display_data"
    }
   ],
   "source": [
    "r_lamb[7]\n",
    "beta_lamb[3]"
   ]
  },
  {
   "cell_type": "code",
   "execution_count": 90,
   "metadata": {},
   "outputs": [
    {
     "data": {
      "text/html": [
       "<strong>:</strong> -0.453995623598617"
      ],
      "text/latex": [
       "\\textbf{:} -0.453995623598617"
      ],
      "text/markdown": [
       "**:** -0.453995623598617"
      ],
      "text/plain": [
       "           \n",
       "-0.4539956 "
      ]
     },
     "metadata": {},
     "output_type": "display_data"
    },
    {
     "data": {
      "text/html": [
       "<strong>:</strong> -0.0471087999628501"
      ],
      "text/latex": [
       "\\textbf{:} -0.0471087999628501"
      ],
      "text/markdown": [
       "**:** -0.0471087999628501"
      ],
      "text/plain": [
       "           \n",
       "-0.0471088 "
      ]
     },
     "metadata": {},
     "output_type": "display_data"
    },
    {
     "data": {
      "text/html": [
       "<strong>:</strong> -0.00680838531204216"
      ],
      "text/latex": [
       "\\textbf{:} -0.00680838531204216"
      ],
      "text/markdown": [
       "**:** -0.00680838531204216"
      ],
      "text/plain": [
       "             \n",
       "-0.006808385 "
      ]
     },
     "metadata": {},
     "output_type": "display_data"
    },
    {
     "data": {
      "text/html": [
       "<style>\n",
       ".dl-inline {width: auto; margin:0; padding: 0}\n",
       ".dl-inline>dt, .dl-inline>dd {float: none; width: auto; display: inline-block}\n",
       ".dl-inline>dt::after {content: \":\\0020\"; padding-right: .5ex}\n",
       ".dl-inline>dt:not(:first-of-type) {padding-left: .5ex}\n",
       "</style><dl class=dl-inline><dt>(Intercept)</dt><dd>-0.495569120954965</dd><dt>2</dt><dd>0.82822956921053</dd><dt>3</dt><dd>0.495063916480961</dd><dt>4</dt><dd>-0.0672515630351535</dd></dl>\n"
      ],
      "text/latex": [
       "\\begin{description*}\n",
       "\\item[(Intercept)] -0.495569120954965\n",
       "\\item[2] 0.82822956921053\n",
       "\\item[3] 0.495063916480961\n",
       "\\item[4] -0.0672515630351535\n",
       "\\end{description*}\n"
      ],
      "text/markdown": [
       "(Intercept)\n",
       ":   -0.4955691209549652\n",
       ":   0.828229569210533\n",
       ":   0.4950639164809614\n",
       ":   -0.0672515630351535\n",
       "\n"
      ],
      "text/plain": [
       "(Intercept)                                     \n",
       "-0.49556912  0.82822957  0.49506392 -0.06725156 "
      ]
     },
     "metadata": {},
     "output_type": "display_data"
    }
   ],
   "source": [
    "coef_result$beta[2]*coef_result$beta[3]*coef_result$r[1]\n",
    "coef_result$beta[2]*coef_result$beta[4]*coef_result$r[2]\n",
    "coef_result$beta[3]*coef_result$beta[4]*coef_result$r[3]\n",
    "coef_result$beta"
   ]
  },
  {
   "cell_type": "code",
   "execution_count": 84,
   "metadata": {},
   "outputs": [
    {
     "data": {
      "text/html": [
       "<style>\n",
       ".list-inline {list-style: none; margin:0; padding: 0}\n",
       ".list-inline>li {display: inline-block}\n",
       ".list-inline>li:not(:last-child)::after {content: \"\\00b7\"; padding: 0 .5ex}\n",
       "</style>\n",
       "<ol class=list-inline><li>-0.712854170938954</li><li>0.877843932714313</li><li>0.494816966820508</li><li>-0.0347930109128356</li><li>-0.410906714387238</li></ol>\n"
      ],
      "text/latex": [
       "\\begin{enumerate*}\n",
       "\\item -0.712854170938954\n",
       "\\item 0.877843932714313\n",
       "\\item 0.494816966820508\n",
       "\\item -0.0347930109128356\n",
       "\\item -0.410906714387238\n",
       "\\end{enumerate*}\n"
      ],
      "text/markdown": [
       "1. -0.712854170938954\n",
       "2. 0.877843932714313\n",
       "3. 0.494816966820508\n",
       "4. -0.0347930109128356\n",
       "5. -0.410906714387238\n",
       "\n",
       "\n"
      ],
      "text/plain": [
       "[1] -0.71285417  0.87784393  0.49481697 -0.03479301 -0.41090671"
      ]
     },
     "metadata": {},
     "output_type": "display_data"
    }
   ],
   "source": [
    "b_t"
   ]
  }
 ],
 "metadata": {
  "kernelspec": {
   "display_name": "R",
   "language": "R",
   "name": "ir"
  },
  "language_info": {
   "codemirror_mode": "r",
   "file_extension": ".r",
   "mimetype": "text/x-r-source",
   "name": "R",
   "pygments_lexer": "r",
   "version": "4.1.1"
  }
 },
 "nbformat": 4,
 "nbformat_minor": 4
}
